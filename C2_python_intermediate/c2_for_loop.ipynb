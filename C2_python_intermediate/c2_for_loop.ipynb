{
 "cells": [
  {
   "cell_type": "markdown",
   "metadata": {},
   "source": [
    "### 2.7 深入for_in循环"
   ]
  },
  {
   "cell_type": "code",
   "execution_count": 24,
   "metadata": {},
   "outputs": [
    {
     "name": "stdout",
     "output_type": "stream",
     "text": [
      "<class 'range'>\n",
      "Time while： 0.0020786039531230927\n",
      "Time for： 0.001361839473247528\n"
     ]
    }
   ],
   "source": [
    "import time\n",
    "\n",
    "print(type(range(5)))\n",
    "\n",
    "start_w = time.perf_counter()\n",
    "s,i = 0, 0\n",
    "while i<10000:\n",
    "    i=i+1\n",
    "    s=s+i\n",
    "end_w = time.perf_counter()\n",
    "print(\"Time while：\", end_w-start_w) #talib time consuming\n",
    "\n",
    "start_f = time.perf_counter()\n",
    "s = 0\n",
    "for i in range(1,10001):\n",
    "    s = s+i\n",
    "end_f = time.perf_counter()\n",
    "print(\"Time for：\", end_f-start_f) #Pandas time consuming"
   ]
  },
  {
   "cell_type": "code",
   "execution_count": 5,
   "metadata": {},
   "outputs": [
    {
     "name": "stdout",
     "output_type": "stream",
     "text": [
      "<list_iterator object at 0xffff8437b790>\n",
      "1\n",
      "2\n",
      "3\n"
     ]
    }
   ],
   "source": [
    "x = [1,2,3]\n",
    "its = x.__iter__() #列表是可迭代对象，否则会提示不是迭代对象\n",
    "print(its) #返回 <list_iterator object at 0x100bde400>\n",
    "print(next(its)) #its包含next()方法，说明its是迭代器 返回 1\n",
    "print(next(its)) #返回 2\n",
    "print(next(its)) #返回 3\n",
    "#print(next(its))\n",
    "#Traceback (most recent call last): \n",
    "# File \"<stdin>\", line 1, in <module>\n",
    "# StopIteration"
   ]
  },
  {
   "cell_type": "code",
   "execution_count": 6,
   "metadata": {},
   "outputs": [
    {
     "name": "stdout",
     "output_type": "stream",
     "text": [
      "0\n",
      "1\n",
      "2\n",
      "3\n",
      "4\n",
      "5\n"
     ]
    }
   ],
   "source": [
    "#实现可迭代对象\n",
    "\n",
    "class MyRange:\n",
    "    def __init__(self, num):\n",
    "        self.i = 0\n",
    "        self.num = num\n",
    "\n",
    "    def __iter__(self):\n",
    "        return self\n",
    "\n",
    "    def __next__(self):\n",
    "        if self.i < self.num:\n",
    "            i = self.i\n",
    "            self.i += 1\n",
    "            return i\n",
    "        else:\n",
    "            raise StopIteration()\n",
    "\n",
    "for i in MyRange(6):\n",
    "    print(i) #返回 0 1 2 3 4 5"
   ]
  },
  {
   "cell_type": "code",
   "execution_count": 7,
   "metadata": {},
   "outputs": [
    {
     "name": "stdout",
     "output_type": "stream",
     "text": [
      "0\n",
      "1\n",
      "2\n",
      "3\n",
      "4\n",
      "5\n"
     ]
    }
   ],
   "source": [
    "for i in range(6):\n",
    "    print(i) #返回 0 1 2 3 4 5"
   ]
  },
  {
   "cell_type": "code",
   "execution_count": 8,
   "metadata": {},
   "outputs": [
    {
     "name": "stdout",
     "output_type": "stream",
     "text": [
      "*********** 正向遍历/反向遍历一个集合 *************\n",
      "red\n",
      "green\n",
      "blue\n",
      "yellow\n",
      "red\n",
      "green\n",
      "blue\n",
      "yellow\n",
      "yellow\n",
      "blue\n",
      "green\n",
      "red\n",
      "yellow\n",
      "blue\n",
      "green\n",
      "red\n"
     ]
    }
   ],
   "source": [
    "###############################正向遍历/反向遍历一个集合###############################\n",
    "print(u\"*********** 正向遍历/反向遍历一个集合 *************\")\n",
    "colors = ['red', 'green', 'blue', 'yellow']\n",
    "#正向遍历\n",
    "for i in range(len(colors)):\n",
    "    print(colors[i])\n",
    "# 推荐更好的简练方法\n",
    "for color in colors:\n",
    "    print(color) #返回 'red', 'green', 'blue', 'yellow'\n",
    "\n",
    "#反向遍历\n",
    "for i in range(len(colors)-1, -1, -1):\n",
    "    print(colors[i])\n",
    "# 推荐更好的简练方法\n",
    "for color in reversed(colors):\n",
    "    print(color) #返回 'yellow', 'blue', 'green', 'red'"
   ]
  },
  {
   "cell_type": "code",
   "execution_count": 9,
   "metadata": {},
   "outputs": [
    {
     "name": "stdout",
     "output_type": "stream",
     "text": [
      "*********** 遍历一个集合及其下标 *************\n",
      "0 ---> red\n",
      "1 ---> green\n",
      "2 ---> blue\n",
      "3 ---> yellow\n",
      "0 ---> red\n",
      "1 ---> green\n",
      "2 ---> blue\n",
      "3 ---> yellow\n"
     ]
    }
   ],
   "source": [
    "###############################遍历一个集合及其下标###############################\n",
    "print(u\"*********** 遍历一个集合及其下标 *************\")\n",
    "colors = ['red', 'green', 'blue', 'yellow']\n",
    "for i in range(len(colors)):\n",
    "    print(i, '--->', colors[i])\n",
    "# 推荐更好的简练方法\n",
    "for i, color in enumerate(colors):\n",
    "    print(i, '--->', color)\n",
    "#返回结果：\n",
    "#0 ---> red\n",
    "#1 ---> green\n",
    "#2 ---> blue\n",
    "#3 ---> yellow"
   ]
  },
  {
   "cell_type": "code",
   "execution_count": 12,
   "metadata": {},
   "outputs": [
    {
     "name": "stdout",
     "output_type": "stream",
     "text": [
      "*********** 有序地遍历 *************\n",
      "('blue', 4)\n",
      "('green', 3)\n",
      "('red', 1)\n",
      "('yellow', 2)\n",
      "('red', 1)\n",
      "('yellow', 2)\n",
      "('green', 3)\n",
      "('blue', 4)\n"
     ]
    }
   ],
   "source": [
    "print(u\"*********** 有序地遍历 *************\")\n",
    "colors = [('red',1), ('green',3), ('blue',4), ('yellow',2)]\n",
    "# 正序 key=none\n",
    "for color in sorted(colors):\n",
    "    print(color)\n",
    "#返回结果：\n",
    "#('blue', 5)\n",
    "#('green', 3)\n",
    "#('red', 1)\n",
    "#('yellow', 2)\n",
    "\n",
    "# 正序 key=lambda s:s[1]\n",
    "\"\"\" for color in sorted(colors, key=lambda s:s[1]):\n",
    "    print(color) \"\"\"\n",
    "def get_second_element(s):\n",
    "    return s[1]\n",
    "\n",
    "for color in sorted(colors, key=get_second_element):\n",
    "    print(color)"
   ]
  },
  {
   "cell_type": "code",
   "execution_count": 13,
   "metadata": {},
   "outputs": [
    {
     "name": "stdout",
     "output_type": "stream",
     "text": [
      "('yellow', 2)\n",
      "('red', 1)\n",
      "('green', 3)\n",
      "('blue', 4)\n"
     ]
    }
   ],
   "source": [
    "for color in sorted(colors, reverse=True):\n",
    "    print(color)"
   ]
  },
  {
   "cell_type": "code",
   "execution_count": 17,
   "metadata": {},
   "outputs": [
    {
     "name": "stdout",
     "output_type": "stream",
     "text": [
      "('blue', 4)\n",
      "('green', 3)\n",
      "('yellow', 2)\n",
      "('red', 1)\n"
     ]
    }
   ],
   "source": [
    "for color in sorted(colors, key=lambda s:s[1], reverse=True):\n",
    "    print(color)"
   ]
  },
  {
   "cell_type": "code",
   "execution_count": 18,
   "metadata": {},
   "outputs": [
    {
     "name": "stdout",
     "output_type": "stream",
     "text": [
      "*********** 在循环内识别多个退出点 *************\n",
      "5\n"
     ]
    }
   ],
   "source": [
    "###############################在循环内识别多个退出点############################\n",
    "print(u\"*********** 在循环内识别多个退出点 *************\")\n",
    "\n",
    "def find(seq, target):\n",
    "    found = False\n",
    "    for i, value in enumerate(seq):\n",
    "        if value == target:\n",
    "            found = True\n",
    "            break\n",
    "    if not found:\n",
    "        return -1\n",
    "    return i\n",
    "print(find(range(10,20), 15))#5"
   ]
  },
  {
   "cell_type": "code",
   "execution_count": 20,
   "metadata": {},
   "outputs": [
    {
     "name": "stdout",
     "output_type": "stream",
     "text": [
      "8\n"
     ]
    }
   ],
   "source": [
    "# 推荐更好的简练方法\n",
    "def find(seq, target):\n",
    "    for i, value in enumerate(seq):\n",
    "        if value == target:\n",
    "            break\n",
    "    else:\n",
    "        return -1\n",
    "    return i\n",
    "print(find(range(10,20), 18))#-1"
   ]
  },
  {
   "cell_type": "code",
   "execution_count": 23,
   "metadata": {},
   "outputs": [
    {
     "name": "stdout",
     "output_type": "stream",
     "text": [
      "*********** 遍历字典的key *************\n",
      "<class 'dict_keys'>\n",
      "matthew\n",
      "rachel\n",
      "raymond\n",
      "blue\n",
      "green\n",
      "red\n",
      "('matthew', 'blue')\n",
      "('rachel', 'green')\n",
      "('raymond', 'red')\n",
      "matthew ---> blue\n",
      "rachel ---> green\n",
      "raymond ---> red\n",
      "dict_keys(['matthew', 'rachel', 'raymond'])\n",
      "['matthew', 'rachel', 'raymond']\n"
     ]
    }
   ],
   "source": [
    "###############################遍历字典的key###############################\n",
    "print(u\"*********** 遍历字典的key *************\")\n",
    "d = {'matthew': 'blue', 'rachel': 'green', 'raymond': 'red'}\n",
    "\n",
    "print(type(d.keys())) #返回 <class 'dict_keys'>\n",
    "\n",
    "for k in d.keys():\n",
    "    print(k)\n",
    "#返回结果\n",
    "#matthew\n",
    "#rachel\n",
    "#raymond\n",
    "\n",
    "for k in d.values():\n",
    "    print(k)\n",
    "#返回结果\n",
    "#blue\n",
    "#green\n",
    "#red\n",
    "\n",
    "for k in d.items():\n",
    "    print(k)\n",
    "#返回结果\n",
    "#('matthew', 'blue')\n",
    "#('rachel', 'green')\n",
    "#('raymond', 'red')\n",
    "\n",
    "for k, v in d.items():\n",
    "    print(k, '--->', v)\n",
    "#返回结果\n",
    "#matthew ---> blue\n",
    "#rachel ---> green\n",
    "#raymond ---> red\n",
    "\n",
    "print(d.keys())#dict_keys(['matthew', 'rachel', 'raymond'])\n",
    "print(list(d.keys())) #['matthew', 'rachel', 'raymond']\n",
    "\n",
    "#for k in d.keys():\n",
    "#    if k.startswith('r'):\n",
    "#        del d[k]\n",
    "#RuntimeError: dictionary changed size during iteration\n",
    "\n",
    "for k in list(d.keys()):\n",
    "    if k.startswith('r'):\n",
    "        del d[k]"
   ]
  },
  {
   "cell_type": "code",
   "execution_count": 25,
   "metadata": {},
   "outputs": [
    {
     "name": "stdout",
     "output_type": "stream",
     "text": [
      "[0, 1, 2, 3, 4, 5, 6, 7, 8, 9]\n",
      "[0, 1, 2, 3, 4, 5, 6, 7, 8, 9]\n"
     ]
    }
   ],
   "source": [
    "###############################列表解析和生成器###############################\n",
    "#列表解析对比例程\n",
    "def num():\n",
    "    a = []\n",
    "    for i  in range(10):\n",
    "        a.append(i)\n",
    "    return a\n",
    "print(num())\n",
    "\n",
    "a = [x for x in range(10)] #结果返回：[0, 1, 2, 3, 4, 5, 6, 7, 8, 9]\n",
    "print(a)"
   ]
  },
  {
   "cell_type": "code",
   "execution_count": 26,
   "metadata": {},
   "outputs": [
    {
     "name": "stdout",
     "output_type": "stream",
     "text": [
      "<generator object gensquares at 0xffff4a4c5080>\n",
      "0\n",
      "1\n",
      "4\n",
      "9\n",
      "16\n"
     ]
    }
   ],
   "source": [
    "#函数方式实现生成器\n",
    "def gensquares(N):\n",
    "    for i in range(N):\n",
    "        yield i**2\n",
    "print(gensquares(5)) #结果返回：<generator object gensquares at 0x10ae3a7c8>\n",
    "for i in gensquares(5):\n",
    "    print(i)"
   ]
  },
  {
   "cell_type": "code",
   "execution_count": 27,
   "metadata": {},
   "outputs": [
    {
     "name": "stdout",
     "output_type": "stream",
     "text": [
      "<generator object <genexpr> at 0xffff4a1b65a0>\n",
      "[0, 1, 4, 9, 16]\n",
      "<generator object <genexpr> at 0xffff4a1b65a0>\n",
      "0\n",
      "1\n",
      "4\n"
     ]
    }
   ],
   "source": [
    "#表达式方式实现生成器\n",
    "print(x**2 for x in range(5)) #结果返回：<generator object <genexpr> at 0x10e2f57c8>\n",
    "print(list(x**2 for x in range(5))) #结果返回：[0, 1, 4, 9, 16]\n",
    "\n",
    "a = (x**2 for x in range(5))\n",
    "print(a)#<generator object <genexpr> at 0x10e2f57c8>\n",
    "#next迭代一次生成一个元素\n",
    "print(next(a))#0\n",
    "print(next(a))#1\n",
    "print(next(a))#4"
   ]
  }
 ],
 "metadata": {
  "kernelspec": {
   "display_name": "base",
   "language": "python",
   "name": "python3"
  },
  "language_info": {
   "codemirror_mode": {
    "name": "ipython",
    "version": 3
   },
   "file_extension": ".py",
   "mimetype": "text/x-python",
   "name": "python",
   "nbconvert_exporter": "python",
   "pygments_lexer": "ipython3",
   "version": "3.11.7"
  }
 },
 "nbformat": 4,
 "nbformat_minor": 2
}
