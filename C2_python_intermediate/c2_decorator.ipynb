{
 "cells": [
  {
   "cell_type": "markdown",
   "metadata": {},
   "source": [
    "### 2.8 巧用装饰器测试代码效率"
   ]
  },
  {
   "cell_type": "code",
   "execution_count": 1,
   "metadata": {},
   "outputs": [
    {
     "name": "stdout",
     "output_type": "stream",
     "text": [
      "Time used: 0.042439984157681465 \n"
     ]
    }
   ],
   "source": [
    "import time\n",
    "from timeit import timeit\n",
    "from timeit import repeat\n",
    "\n",
    "# part1\n",
    "# 创建一个元素为递增的整数列表\n",
    "def for_generate_list(size = 1000000):\n",
    "    start = time.perf_counter()\n",
    "    my_list = []\n",
    "    for num in range(size):\n",
    "        my_list.append(num)\n",
    "    elapsed = (time.perf_counter() - start)\n",
    "    print('Time used: {} '.format(elapsed))\n",
    "\n",
    "# 调用函数打印结果：\n",
    "for_generate_list() # Time used: 0.09452888500000003"
   ]
  },
  {
   "cell_type": "code",
   "execution_count": 2,
   "metadata": {},
   "outputs": [
    {
     "name": "stdout",
     "output_type": "stream",
     "text": [
      "Time used: 0.05233843997120857\n",
      "Time used: [0.04534851014614105, 0.04535914957523346, 0.04524131119251251, 0.04468654841184616, 0.045285869389772415]\n",
      "Time of min used: 0.04468654841184616\n"
     ]
    }
   ],
   "source": [
    "# 创建一个元素为递增的整数列表——待测试的函数\n",
    "def for_generate_list(size = 1000000):\n",
    "    my_list = []\n",
    "    for num in range(size):\n",
    "        my_list.append(num)\n",
    "\n",
    "# stmt 需要测试的函数或语句，字符串形式\n",
    "# setup 运行的环境，本例子中表示 if __name__ == '__main__':\n",
    "# number 被测试的函数或语句，执行的次数，本例表示执行1次for_generate_list()。省缺则默认是10000次\n",
    "# 综上：此函数表示在if __name__ == '__main__'的条件下，执行1次for_generate_list()消耗的时间\n",
    "elapsed = timeit(stmt='for_generate_list()', setup='from __main__ import for_generate_list', number=1)\n",
    "print(\"Time used:\", elapsed) # 打印结果：Time used: 0.10997585000000004\n",
    "\n",
    "t_elapsed = repeat(stmt='for_generate_list()', setup='from __main__ import for_generate_list', number=1, repeat=5)\n",
    "print(\"Time used:\", t_elapsed) # 打印结果：Time used: [0.10610366399999999, 0.11713108100000003, 0.12187103300000002, 0.105048064, 0.107227619]\n",
    "print(\"Time of min used:\", min(t_elapsed)) # 打印结果：Time of min used: 0.105048064"
   ]
  },
  {
   "cell_type": "code",
   "execution_count": 3,
   "metadata": {},
   "outputs": [
    {
     "name": "stdout",
     "output_type": "stream",
     "text": [
      "list size is: 1000000 \n",
      "Time used: 0.048204513266682625 \n",
      "func name is wrapper:\n"
     ]
    }
   ],
   "source": [
    "def timeit_test(func):\n",
    "    def wrapper(*args, **kwargs):\n",
    "        start = time.perf_counter()\n",
    "        func(*args, **kwargs)\n",
    "        elapsed = (time.perf_counter() - start)\n",
    "        print('Time used: {} '.format(elapsed))\n",
    "    return wrapper\n",
    "\n",
    "@timeit_test\n",
    "def for_generate_list(size = 1000000):\n",
    "    print('list size is: {} '.format(size))\n",
    "    my_list = []\n",
    "    for num in range(size):\n",
    "        my_list.append(num)\n",
    "\n",
    "for_generate_list(1000000)\n",
    "# list size is: 1000000\n",
    "# Time used: 0.10935139800000002\n",
    "print('func name is {}:'.format(for_generate_list.__name__)) # func name is wrapper:"
   ]
  },
  {
   "cell_type": "code",
   "execution_count": 4,
   "metadata": {},
   "outputs": [
    {
     "name": "stdout",
     "output_type": "stream",
     "text": [
      "list size is: 900000 \n",
      "list size is: 900000 \n",
      "Time of 0 used: 0.08530653268098831 \n",
      "list size is: 900000 \n",
      "list size is: 900000 \n",
      "Time of 1 used: 0.0821358859539032 \n",
      "func name is wrapper:\n"
     ]
    }
   ],
   "source": [
    "# 定义测试代码执行时间的装饰器-三阶\n",
    "def timeit_test(number=3, repeat=3):\n",
    "    def decorator(func):\n",
    "        def wrapper(*args, **kwargs):\n",
    "            for i in range(repeat):\n",
    "                start = time.perf_counter()\n",
    "                for _ in range(number):\n",
    "                    func(*args, **kwargs)\n",
    "                elapsed = (time.perf_counter() - start)\n",
    "                print('Time of {} used: {} '.format(i, elapsed))\n",
    "        return wrapper\n",
    "    return decorator\n",
    "\n",
    "@timeit_test(number = 2, repeat = 2)\n",
    "def for_generate_list(size = 1000000):\n",
    "    print('list size is: {} '.format(size))\n",
    "    my_list = []\n",
    "    for num in range(size):\n",
    "        my_list.append(num)\n",
    "\n",
    "for_generate_list(900000)\n",
    "# list size is: 900000\n",
    "# list size is: 900000\n",
    "# Time of 0\n",
    "# used: 0.19475456300000002\n",
    "# list size is: 900000\n",
    "# list size is: 900000\n",
    "# Time of 1\n",
    "# used: 0.192571865\n",
    "print('func name is {}:'.format(for_generate_list.__name__))  # func name is wrapper:"
   ]
  },
  {
   "cell_type": "code",
   "execution_count": 5,
   "metadata": {},
   "outputs": [
    {
     "name": "stdout",
     "output_type": "stream",
     "text": [
      "list size is: 900000 \n",
      "list size is: 900000 \n",
      "Time of 0 used: 0.08524873293936253 \n",
      "list size is: 900000 \n",
      "list size is: 900000 \n",
      "Time of 1 used: 0.08270204812288284 \n"
     ]
    }
   ],
   "source": [
    "import functools\n",
    "# 定义测试代码执行时间的装饰器-三阶\n",
    "def timeit_test(number=3, repeat=3):\n",
    "    def decorator(func):\n",
    "        @functools.wraps(func)\n",
    "        def wrapper(*args, **kwargs):\n",
    "            for i in range(repeat):\n",
    "                start = time.perf_counter()\n",
    "                for _ in range(number):\n",
    "                    func(*args, **kwargs)\n",
    "                elapsed = (time.perf_counter() - start)\n",
    "                print('Time of {} used: {} '.format(i, elapsed))\n",
    "        return wrapper\n",
    "    return decorator\n",
    "\n",
    "@timeit_test(number = 2, repeat = 2)\n",
    "def for_generate_list(size = 1000000):\n",
    "    print('list size is: {} '.format(size))\n",
    "    my_list = []\n",
    "    for num in range(size):\n",
    "        my_list.append(num)\n",
    "\n",
    "for_generate_list(size=900000)\n",
    "# list size is: 900000\n",
    "# list size is: 900000\n",
    "# Time of 0 used: 0.192424283\n",
    "# list size is: 900000\n",
    "# list size is: 900000\n",
    "# Time of 1 used: 0.19034953399999993"
   ]
  },
  {
   "cell_type": "code",
   "execution_count": 6,
   "metadata": {},
   "outputs": [
    {
     "name": "stdout",
     "output_type": "stream",
     "text": [
      "func name is for_generate_list:\n"
     ]
    }
   ],
   "source": [
    "print('func name is {}:'.format(for_generate_list.__name__)) "
   ]
  },
  {
   "cell_type": "code",
   "execution_count": null,
   "metadata": {},
   "outputs": [],
   "source": []
  }
 ],
 "metadata": {
  "kernelspec": {
   "display_name": "base",
   "language": "python",
   "name": "python3"
  },
  "language_info": {
   "codemirror_mode": {
    "name": "ipython",
    "version": 3
   },
   "file_extension": ".py",
   "mimetype": "text/x-python",
   "name": "python",
   "nbconvert_exporter": "python",
   "pygments_lexer": "ipython3",
   "version": "3.11.7"
  }
 },
 "nbformat": 4,
 "nbformat_minor": 2
}
