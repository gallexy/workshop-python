{
 "cells": [
  {
   "cell_type": "markdown",
   "metadata": {},
   "source": [
    "### 2.9 多进程和多线程的提速方案"
   ]
  },
  {
   "cell_type": "code",
   "execution_count": 2,
   "metadata": {},
   "outputs": [
    {
     "name": "stdout",
     "output_type": "stream",
     "text": [
      "test_normal 2.072522087022662\n",
      "test_Process 1.3405094593763351\n",
      "test_Thread 2.011237148195505\n"
     ]
    }
   ],
   "source": [
    "from threading import Thread\n",
    "from multiprocessing import Process\n",
    "from timeit import timeit\n",
    "import time\n",
    "\n",
    "# CPU密集型任务\n",
    "def count(n):\n",
    "    while n > 0:\n",
    "        n -= 1\n",
    "\n",
    "# 单线程方式\n",
    "def test_normal():\n",
    "    count(1000000)\n",
    "    count(1000000)\n",
    "\n",
    "# 多线程方式\n",
    "def test_Thread():\n",
    "    t1 = Thread(target=count, args=(1000000,))\n",
    "    t2 = Thread(target=count, args=(1000000,))\n",
    "    t1.start()\n",
    "    t2.start()\n",
    "    t1.join()\n",
    "    t2.join()\n",
    "\n",
    "# 多进程方式\n",
    "def test_Process():\n",
    "    t1 = Process(target=count, args=(1000000,))\n",
    "    t2 = Process(target=count, args=(1000000,))\n",
    "    t1.start()\n",
    "    t2.start()\n",
    "    t1.join()\n",
    "    t2.join()\n",
    "\n",
    "if __name__ == '__main__':\n",
    "    print(\"test_normal\", timeit('test_normal()', 'from __main__ import test_normal', number=30))\n",
    "    print(\"test_Process\", timeit('test_Process()', 'from __main__ import test_Process', number=30))\n",
    "    print(\"test_Thread\", timeit('test_Thread()', 'from __main__ import test_Thread', number=30))"
   ]
  },
  {
   "cell_type": "code",
   "execution_count": 3,
   "metadata": {},
   "outputs": [
    {
     "name": "stdout",
     "output_type": "stream",
     "text": [
      "test_normal 2.016716603189707\n",
      "test_Process 2.1652407962828875\n",
      "test_Thread 1.0484648067504168\n"
     ]
    }
   ],
   "source": [
    "# IO密集型任务\n",
    "def count():\n",
    "    time.sleep(0.01)\n",
    "\n",
    "# 单线程方式\n",
    "def test_normal():\n",
    "    count()\n",
    "    count()\n",
    "\n",
    "# 多线程方式\n",
    "def test_Thread():\n",
    "    t1 = Thread(target=count, args=())\n",
    "    t2 = Thread(target=count, args=())\n",
    "    t1.start()\n",
    "    t2.start()\n",
    "    t1.join()\n",
    "    t2.join()\n",
    "\n",
    "# 多进程方式\n",
    "def test_Process():\n",
    "    t1 = Process(target=count, args=())\n",
    "    t2 = Process(target=count, args=())\n",
    "    t1.start()\n",
    "    t2.start()\n",
    "    t1.join()\n",
    "    t2.join()\n",
    "\n",
    "if __name__ == '__main__':\n",
    "    print(\"test_normal\", timeit('test_normal()', 'from __main__ import test_normal', number=100))\n",
    "    print(\"test_Process\", timeit('test_Process()', 'from __main__ import test_Process', number=100))\n",
    "    print(\"test_Thread\", timeit('test_Thread()', 'from __main__ import test_Thread', number=100))"
   ]
  },
  {
   "cell_type": "code",
   "execution_count": null,
   "metadata": {},
   "outputs": [],
   "source": []
  }
 ],
 "metadata": {
  "kernelspec": {
   "display_name": "base",
   "language": "python",
   "name": "python3"
  },
  "language_info": {
   "codemirror_mode": {
    "name": "ipython",
    "version": 3
   },
   "file_extension": ".py",
   "mimetype": "text/x-python",
   "name": "python",
   "nbconvert_exporter": "python",
   "pygments_lexer": "ipython3",
   "version": "3.11.7"
  }
 },
 "nbformat": 4,
 "nbformat_minor": 2
}
