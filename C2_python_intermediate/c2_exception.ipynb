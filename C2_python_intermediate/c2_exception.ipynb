{
 "cells": [
  {
   "cell_type": "code",
   "execution_count": 1,
   "metadata": {},
   "outputs": [
    {
     "ename": "NameError",
     "evalue": "name 'var' is not defined",
     "output_type": "error",
     "traceback": [
      "\u001b[0;31m---------------------------------------------------------------------------\u001b[0m",
      "\u001b[0;31mNameError\u001b[0m                                 Traceback (most recent call last)",
      "Cell \u001b[0;32mIn[1], line 1\u001b[0m\n\u001b[0;32m----> 1\u001b[0m result \u001b[38;5;241m=\u001b[39m var \u001b[38;5;241m*\u001b[39m \u001b[38;5;241m10\u001b[39m\n",
      "\u001b[0;31mNameError\u001b[0m: name 'var' is not defined"
     ]
    }
   ],
   "source": [
    "result = var * 10\n",
    "# Traceback (most recent call last):\n",
    "# NameError: name 'var' is not defined"
   ]
  },
  {
   "cell_type": "code",
   "execution_count": 2,
   "metadata": {},
   "outputs": [
    {
     "ename": "IndexError",
     "evalue": "list index out of range",
     "output_type": "error",
     "traceback": [
      "\u001b[0;31m---------------------------------------------------------------------------\u001b[0m",
      "\u001b[0;31mIndexError\u001b[0m                                Traceback (most recent call last)",
      "Cell \u001b[0;32mIn[2], line 2\u001b[0m\n\u001b[1;32m      1\u001b[0m list_data \u001b[38;5;241m=\u001b[39m []\n\u001b[0;32m----> 2\u001b[0m result \u001b[38;5;241m=\u001b[39m list_data[\u001b[38;5;241m2\u001b[39m] \u001b[38;5;241m*\u001b[39m \u001b[38;5;241m10\u001b[39m\n",
      "\u001b[0;31mIndexError\u001b[0m: list index out of range"
     ]
    }
   ],
   "source": [
    "list_data = []\n",
    "result = list_data[2] * 10\n",
    "# Traceback (most recent call last):\n",
    "# IndexError: list index out of range"
   ]
  },
  {
   "cell_type": "code",
   "execution_count": 3,
   "metadata": {},
   "outputs": [
    {
     "name": "stdout",
     "output_type": "stream",
     "text": [
      "NameError is happened！\n"
     ]
    }
   ],
   "source": [
    "try:\n",
    "    list_data = []\n",
    "    result = var * 10\n",
    "    result = list_data[2] * 10\n",
    "except NameError:\n",
    "    print('NameError is happened！')\n",
    "except IndexError:\n",
    "    print('IndexError is happened！')\n",
    "except Exception:\n",
    "    print('Other except is happened！')"
   ]
  },
  {
   "cell_type": "code",
   "execution_count": 4,
   "metadata": {},
   "outputs": [
    {
     "name": "stdout",
     "output_type": "stream",
     "text": [
      "NameError or IndexError is happened！\n"
     ]
    }
   ],
   "source": [
    "try:\n",
    "    list_data = []\n",
    "    result = var * 10\n",
    "    result = list_data[2] * 10\n",
    "except (NameError,IndexError):\n",
    "    print('NameError or IndexError is happened！')\n",
    "except Exception:\n",
    "    print('Other except is happened！')"
   ]
  },
  {
   "cell_type": "code",
   "execution_count": 5,
   "metadata": {},
   "outputs": [
    {
     "name": "stdout",
     "output_type": "stream",
     "text": [
      "NameError or IndexError is happened！\n",
      "(\"name 'var' is not defined\",)\n"
     ]
    }
   ],
   "source": [
    "try:\n",
    "    list_data = []\n",
    "    result = var * 10\n",
    "    result = list_data[2] * 10\n",
    "except (NameError,IndexError) as e:\n",
    "    print('NameError or IndexError is happened！')\n",
    "    print(e.args) # 执行提示 (\"name 'var' is not defined\",)\n",
    "except Exception as e:\n",
    "    print('Other except is happened！')"
   ]
  },
  {
   "cell_type": "code",
   "execution_count": 6,
   "metadata": {},
   "outputs": [
    {
     "name": "stdout",
     "output_type": "stream",
     "text": [
      "No except happened！\n"
     ]
    }
   ],
   "source": [
    "try:\n",
    "    var = 1; list_data = [0,1,2]\n",
    "    result = var * 10\n",
    "    result = list_data[2] * 10\n",
    "except (NameError,IndexError) as e:\n",
    "    print('NameError or IndexError is happened！')\n",
    "    print(e.args) # 执行提示 (\"name 'var' is not defined\",)\n",
    "except Exception as e:\n",
    "    print('Other except is happened！')\n",
    "else:\n",
    "    print('No except happened！')"
   ]
  },
  {
   "cell_type": "code",
   "execution_count": 7,
   "metadata": {},
   "outputs": [
    {
     "ename": "TypeError",
     "evalue": "unsupported operand type(s) for +: 'int' and 'str'",
     "output_type": "error",
     "traceback": [
      "\u001b[0;31m---------------------------------------------------------------------------\u001b[0m",
      "\u001b[0;31mTypeError\u001b[0m                                 Traceback (most recent call last)",
      "Cell \u001b[0;32mIn[7], line 11\u001b[0m\n\u001b[1;32m      9\u001b[0m     \u001b[38;5;28mprint\u001b[39m(\u001b[38;5;124m'\u001b[39m\u001b[38;5;124mOther except is happened！\u001b[39m\u001b[38;5;124m'\u001b[39m)\n\u001b[1;32m     10\u001b[0m \u001b[38;5;28;01melse\u001b[39;00m:\n\u001b[0;32m---> 11\u001b[0m     result \u001b[38;5;241m=\u001b[39m \u001b[38;5;241m1\u001b[39m \u001b[38;5;241m+\u001b[39m \u001b[38;5;124m'\u001b[39m\u001b[38;5;124mquant\u001b[39m\u001b[38;5;124m'\u001b[39m\n",
      "\u001b[0;31mTypeError\u001b[0m: unsupported operand type(s) for +: 'int' and 'str'"
     ]
    }
   ],
   "source": [
    "try:\n",
    "    var = 1; list_data = [0,1,2]\n",
    "    result = var * 10\n",
    "    result = list_data[2] * 10\n",
    "except (NameError,IndexError) as e:\n",
    "    print('NameError or IndexError is happened！')\n",
    "    print(e.args) # 执行提示 (\"name 'var' is not defined\",)\n",
    "except Exception as e:\n",
    "    print('Other except is happened！')\n",
    "else:\n",
    "    result = 1 + 'quant'\n",
    "    # Traceback (most recent call last):\n",
    "    # TypeError: unsupported operand type(s) for +: 'int' and 'str'"
   ]
  },
  {
   "cell_type": "code",
   "execution_count": 8,
   "metadata": {},
   "outputs": [
    {
     "name": "stdout",
     "output_type": "stream",
     "text": [
      "finally file close！\n"
     ]
    }
   ],
   "source": [
    "try:\n",
    "    f = open('code.txt', 'w')\n",
    "    result = var * 10\n",
    "    result = list_data[2] * 10\n",
    "except (NameError,IndexError) as e:\n",
    "    print('NameError or IndexError is happened！')\n",
    "    print(e.args) # 执行提示 (\"name 'var' is not defined\",)\n",
    "except Exception as e:\n",
    "    print('Other except is happened！')\n",
    "finally:\n",
    "    print('finally file close！')\n",
    "    f.close()\n"
   ]
  }
 ],
 "metadata": {
  "kernelspec": {
   "display_name": "base",
   "language": "python",
   "name": "python3"
  },
  "language_info": {
   "codemirror_mode": {
    "name": "ipython",
    "version": 3
   },
   "file_extension": ".py",
   "mimetype": "text/x-python",
   "name": "python",
   "nbconvert_exporter": "python",
   "pygments_lexer": "ipython3",
   "version": "3.11.7"
  }
 },
 "nbformat": 4,
 "nbformat_minor": 2
}
