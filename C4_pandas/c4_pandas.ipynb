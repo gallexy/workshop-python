{
 "cells": [
  {
   "cell_type": "code",
   "execution_count": 72,
   "metadata": {},
   "outputs": [
    {
     "name": "stdout",
     "output_type": "stream",
     "text": [
      "2.1.4\n"
     ]
    }
   ],
   "source": [
    "import pandas as pd\n",
    "import numpy as np\n",
    "\n",
    "print(pd.__version__) # 0.23.4"
   ]
  },
  {
   "cell_type": "code",
   "execution_count": 73,
   "metadata": {},
   "outputs": [
    {
     "name": "stdout",
     "output_type": "stream",
     "text": [
      "[('2019-01-11', 11.01, 1300000) ('2019-01-12', 12.11, 1200000)\n",
      " ('2019-01-13', 15.01, 1500000) ('2019-01-14', 13.01, 1600000)]\n"
     ]
    }
   ],
   "source": [
    "    deftype = ([('date', np.str_, 10),('close',np.float32),('vol',np.uint32)])\n",
    "    stock = np.array([('2019-01-11', 11.01, 1300000),\n",
    "                      ('2019-01-12', 12.11, 1200000),\n",
    "                      ('2019-01-13', 15.01, 1500000),\n",
    "                      ('2019-01-14', 13.01, 1600000,)], dtype=deftype)\n",
    "    print(stock)"
   ]
  },
  {
   "cell_type": "code",
   "execution_count": 74,
   "metadata": {},
   "outputs": [
    {
     "name": "stdout",
     "output_type": "stream",
     "text": [
      "2019-01-11   -1.556662\n",
      "2019-01-12    0.127451\n",
      "2019-01-13      str-AA\n",
      "2019-01-14    -1.37775\n",
      "dtype: object\n"
     ]
    }
   ],
   "source": [
    "        # Series的生成#\n",
    "        # data = list\n",
    "        s_list = pd.Series([-1.55666192,0.127451231,\"str-AA\",-1.37775038],\n",
    "                           index=['2019-01-11','2019-01-12','2019-01-13','2019-01-14'])\n",
    "        print(s_list) # 列表中包含多种数据类型"
   ]
  },
  {
   "cell_type": "code",
   "execution_count": 75,
   "metadata": {},
   "outputs": [
    {
     "name": "stdout",
     "output_type": "stream",
     "text": [
      "2019-01-11    0\n",
      "2019-01-12    1\n",
      "2019-01-13    2\n",
      "2019-01-14    3\n",
      "dtype: int64\n"
     ]
    }
   ],
   "source": [
    "        # data = ndarray\n",
    "        s_ndarray = pd.Series(np.arange(4), index=['2019-01-11','2019-01-12','2019-01-13','2019-01-14'])\n",
    "        print(s_ndarray)"
   ]
  },
  {
   "cell_type": "code",
   "execution_count": 76,
   "metadata": {},
   "outputs": [
    {
     "name": "stdout",
     "output_type": "stream",
     "text": [
      "2019-01-11    5\n",
      "2019-01-12    5\n",
      "2019-01-13    5\n",
      "2019-01-14    5\n",
      "dtype: int8\n"
     ]
    }
   ],
   "source": [
    "        # data = scalar value\n",
    "        s_scalar = pd.Series(5., index=['2019-01-11','2019-01-12','2019-01-13','2019-01-14'],dtype='int8')\n",
    "        print(s_scalar) # dtype指定元素为'int8'"
   ]
  },
  {
   "cell_type": "code",
   "execution_count": 77,
   "metadata": {},
   "outputs": [
    {
     "name": "stdout",
     "output_type": "stream",
     "text": [
      "2019-01-11    0.0\n",
      "2019-01-12    1.0\n",
      "2019-01-13    2.0\n",
      "2019-01-14    3.0\n",
      "dtype: float64\n"
     ]
    }
   ],
   "source": [
    "        #data = dict\n",
    "        s_dict = pd.Series({'2019-01-11' : 0., '2019-01-12' : 1., '2019-01-13' : 2., '2019-01-14' : 3.})\n",
    "        print(s_dict)"
   ]
  },
  {
   "cell_type": "code",
   "execution_count": 78,
   "metadata": {},
   "outputs": [
    {
     "name": "stdout",
     "output_type": "stream",
     "text": [
      "2019-01-11    0.0\n",
      "2019-01-12    1.0\n",
      "2019-01-13    NaN\n",
      "2019-01-14    NaN\n",
      "dtype: float64\n"
     ]
    }
   ],
   "source": [
    "        #data = dict\n",
    "        s_dict = pd.Series({'2019-01-11' : 0., '2019-01-12' : 1.},\n",
    "                           index=['2019-01-11', '2019-01-12', '2019-01-13', '2019-01-14'])\n",
    "        print(s_dict) # 元素数量少于索引，缺失位置为NaN"
   ]
  },
  {
   "cell_type": "code",
   "execution_count": 79,
   "metadata": {},
   "outputs": [
    {
     "name": "stdout",
     "output_type": "stream",
     "text": [
      "2019-01-11    10.23\n",
      "2019-01-12    11.24\n",
      "2019-01-13    12.25\n",
      "2019-01-14    13.26\n",
      "dtype: float64\n"
     ]
    }
   ],
   "source": [
    "        series_access = pd.Series([10.23, 11.24, 12.25, 13.26],\n",
    "                           index=['2019-01-11','2019-01-12','2019-01-13','2019-01-14'])\n",
    "        print(series_access)"
   ]
  },
  {
   "cell_type": "code",
   "execution_count": 80,
   "metadata": {},
   "outputs": [
    {
     "name": "stdout",
     "output_type": "stream",
     "text": [
      "[10.23 11.24 12.25 13.26]\n"
     ]
    }
   ],
   "source": [
    "        # 访问Series全部元素数值\n",
    "        print(series_access.values)\n",
    "        # [10.23 11.24 12.25 13.26]"
   ]
  },
  {
   "cell_type": "code",
   "execution_count": 81,
   "metadata": {},
   "outputs": [
    {
     "name": "stdout",
     "output_type": "stream",
     "text": [
      "Index(['2019-01-11', '2019-01-12', '2019-01-13', '2019-01-14'], dtype='object')\n"
     ]
    }
   ],
   "source": [
    "        # 访问Series全部索引值\n",
    "        print(series_access.index)\n",
    "        # Index(['2019-01-11', '2019-01-12', '2019-01-13', '2019-01-14'], dtype='object')"
   ]
  },
  {
   "cell_type": "code",
   "execution_count": 82,
   "metadata": {},
   "outputs": [
    {
     "name": "stdout",
     "output_type": "stream",
     "text": [
      "10.23\n"
     ]
    }
   ],
   "source": [
    "        # 访问'2019-01-11'索引的元素值\n",
    "        print(series_access['2019-01-11'])\n",
    "        # 10.23"
   ]
  },
  {
   "cell_type": "code",
   "execution_count": 83,
   "metadata": {},
   "outputs": [
    {
     "name": "stdout",
     "output_type": "stream",
     "text": [
      "2019-01-11    10.23\n",
      "2019-01-13    12.25\n",
      "dtype: float64\n"
     ]
    }
   ],
   "source": [
    "        # 访问'2019-01-11'和'2019-01-13'索引的元素值\n",
    "        print(series_access[['2019-01-11', '2019-01-13']])"
   ]
  },
  {
   "cell_type": "code",
   "execution_count": 84,
   "metadata": {},
   "outputs": [
    {
     "name": "stdout",
     "output_type": "stream",
     "text": [
      "2019-01-13    12.25\n",
      "2019-01-14    13.26\n",
      "dtype: float64\n"
     ]
    }
   ],
   "source": [
    "        # 访问前两个数据\n",
    "        print(series_access[-2:])"
   ]
  },
  {
   "cell_type": "markdown",
   "metadata": {},
   "source": [
    "### 4.3 DataFrame的生成和访问"
   ]
  },
  {
   "cell_type": "code",
   "execution_count": 85,
   "metadata": {},
   "outputs": [
    {
     "name": "stdout",
     "output_type": "stream",
     "text": [
      "            Close  Open\n",
      "2019-01-11    1.0   1.0\n",
      "2019-01-12    2.0   2.0\n",
      "2019-01-13    3.0   3.0\n",
      "2019-01-14    5.0   4.0\n"
     ]
    }
   ],
   "source": [
    "        # DataFrame的生成\n",
    "        # 以列表组成的字典形式创建DataFrame\n",
    "        df_list_dict = pd.DataFrame({'Close': [1., 2., 3., 5], 'Open': [1., 2., 3., 4.]},\n",
    "                                    index=['2019-01-11', '2019-01-12', '2019-01-13', '2019-01-14'])\n",
    "        print(df_list_dict) # 创建2行4列的表格"
   ]
  },
  {
   "cell_type": "code",
   "execution_count": 86,
   "metadata": {},
   "outputs": [
    {
     "name": "stdout",
     "output_type": "stream",
     "text": [
      "            Close  Open  Low  High\n",
      "2019-01-11    1.0   2.0  3.0   5.0\n",
      "2019-01-12    1.0   2.0  3.0   4.0\n"
     ]
    }
   ],
   "source": [
    "        # 以嵌套列表形式创建DataFrame\n",
    "        df_list_list = pd.DataFrame([[1., 2., 3., 5],[1., 2., 3., 4.]],\n",
    "                                    index=['2019-01-11', '2019-01-12'],\n",
    "                                    columns=['Close','Open','Low','High'])\n",
    "        print(df_list_list)"
   ]
  },
  {
   "cell_type": "code",
   "execution_count": 87,
   "metadata": {},
   "outputs": [
    {
     "name": "stdout",
     "output_type": "stream",
     "text": [
      "[(0, 0., b'') (0, 0., b'')]\n"
     ]
    }
   ],
   "source": [
    "        # 二维ndarray形式创建DataFrame\n",
    "        ndarray_data = np.zeros((2), dtype=[('Close', 'i4'),('Open', 'f4'),('Low', 'a10')]) # 整数、浮点和字符串\n",
    "        print(ndarray_data)"
   ]
  },
  {
   "cell_type": "code",
   "execution_count": 88,
   "metadata": {},
   "outputs": [
    {
     "name": "stdout",
     "output_type": "stream",
     "text": [
      "            Close  Open      Low\n",
      "2019-01-11      1   2.0  b'11.2'\n",
      "2019-01-12      2   3.0  b'12.3'\n"
     ]
    }
   ],
   "source": [
    "        ndarray_data[:] = [(1,2.,'11.2'), (2,3.,\"12.3\")]\n",
    "        df_ndarray = pd.DataFrame(data=ndarray_data, index=['2019-01-11', '2019-01-12']) # 使用默认的定列索引，也可指定列索引columns，这样最终按指定的顺序进行排列\n",
    "        print(df_ndarray)"
   ]
  },
  {
   "cell_type": "code",
   "execution_count": 89,
   "metadata": {},
   "outputs": [
    {
     "name": "stdout",
     "output_type": "stream",
     "text": [
      "            Close  Open\n",
      "2019-01-11    1.0   1.0\n",
      "2019-01-12    2.0   2.0\n",
      "2019-01-13    3.0   3.0\n",
      "2019-01-14    NaN   4.0\n"
     ]
    }
   ],
   "source": [
    "        # 以Series组成的字典形式创建DataFrame\n",
    "        series_data = {'Close' : pd.Series([1., 2., 3.], index=['2019-01-11', '2019-01-12', '2019-01-13']),\n",
    "                       'Open' : pd.Series([1., 2., 3., 4.], index=['2019-01-11', '2019-01-12', '2019-01-13', '2019-01-14'])}\n",
    "        df_series = pd.DataFrame(series_data)\n",
    "        print(df_series)"
   ]
  },
  {
   "cell_type": "code",
   "execution_count": 90,
   "metadata": {},
   "outputs": [
    {
     "name": "stdout",
     "output_type": "stream",
     "text": [
      "            Close  Open  High\n",
      "2019-01-11      1     2   NaN\n",
      "2019-01-12      5    10  20.0\n"
     ]
    }
   ],
   "source": [
    "        df_dict_list = pd.DataFrame([{'Close': 1, 'Open': 2}, {'Close': 5, 'Open': 10, 'High': 20}],\n",
    "                                    index=['2019-01-11', '2019-01-12'])\n",
    "        # 如果不指定行索引index DataFrame会自动加上行索引\n",
    "        print(df_dict_list)"
   ]
  },
  {
   "cell_type": "code",
   "execution_count": 91,
   "metadata": {},
   "outputs": [
    {
     "name": "stdout",
     "output_type": "stream",
     "text": [
      "            Close   Open\n",
      "2019-01-11  10.51  12.31\n",
      "2019-01-12  10.52  12.32\n",
      "2019-01-13  10.53  12.33\n",
      "2019-01-14  10.54  12.34\n"
     ]
    }
   ],
   "source": [
    "        # 创建被访问DataFrame对象\n",
    "        series_data = {'Close' : pd.Series([10.51, 10.52, 10.53, 10.54], index=['2019-01-11','2019-01-12','2019-01-13','2019-01-14']),\n",
    "                       'Open' : pd.Series([12.31, 12.32, 12.33, 12.34], index=['2019-01-11', '2019-01-12','2019-01-13','2019-01-14'])}\n",
    "        df_access = pd.DataFrame(series_data)\n",
    "        print(df_access)"
   ]
  },
  {
   "cell_type": "code",
   "execution_count": 92,
   "metadata": {},
   "outputs": [
    {
     "name": "stdout",
     "output_type": "stream",
     "text": [
      "***********************访问全部元素 某行/列元素*******************\n",
      "Index(['2019-01-11', '2019-01-12', '2019-01-13', '2019-01-14'], dtype='object')\n"
     ]
    }
   ],
   "source": [
    "        # DataFrame的访问\n",
    "        print(\"***********************访问全部元素 某行/列元素*******************\")\n",
    "        # 访问DataFrame全部的行索引\n",
    "        print(df_access.index)\n",
    "        # Index(['2019-01-11', '2019-01-12', '2019-01-13', '2019-01-14'], dtype='object')"
   ]
  },
  {
   "cell_type": "code",
   "execution_count": 93,
   "metadata": {},
   "outputs": [
    {
     "name": "stdout",
     "output_type": "stream",
     "text": [
      "Index(['Close', 'Open'], dtype='object')\n"
     ]
    }
   ],
   "source": [
    "        # 访问DataFrame全部的列索引\n",
    "        print(df_access.columns)\n",
    "        # Index(['Close', 'Open'], dtype='object')"
   ]
  },
  {
   "cell_type": "code",
   "execution_count": 94,
   "metadata": {},
   "outputs": [
    {
     "name": "stdout",
     "output_type": "stream",
     "text": [
      "[Index(['2019-01-11', '2019-01-12', '2019-01-13', '2019-01-14'], dtype='object'), Index(['Close', 'Open'], dtype='object')]\n"
     ]
    }
   ],
   "source": [
    "        # 访问DataFrame全部的行和列索引\n",
    "        print(df_access.axes)"
   ]
  },
  {
   "cell_type": "code",
   "execution_count": 95,
   "metadata": {},
   "outputs": [
    {
     "name": "stdout",
     "output_type": "stream",
     "text": [
      "[[10.51 12.31]\n",
      " [10.52 12.32]\n",
      " [10.53 12.33]\n",
      " [10.54 12.34]]\n"
     ]
    }
   ],
   "source": [
    "        # 访问DataFrame全部元素数值\n",
    "        print(df_access.values)"
   ]
  },
  {
   "cell_type": "code",
   "execution_count": 96,
   "metadata": {},
   "outputs": [
    {
     "name": "stdout",
     "output_type": "stream",
     "text": [
      "2019-01-11    12.31\n",
      "2019-01-12    12.32\n",
      "2019-01-13    12.33\n",
      "2019-01-14    12.34\n",
      "Name: Open, dtype: float64\n",
      "2019-01-11    12.31\n",
      "2019-01-12    12.32\n",
      "2019-01-13    12.33\n",
      "2019-01-14    12.34\n",
      "Name: Open, dtype: float64\n"
     ]
    }
   ],
   "source": [
    "        print(df_access['Open'])\n",
    "        print(df_access.Open)"
   ]
  },
  {
   "cell_type": "code",
   "execution_count": 97,
   "metadata": {},
   "outputs": [
    {
     "name": "stdout",
     "output_type": "stream",
     "text": [
      "<class 'pandas.core.series.Series'>\n"
     ]
    }
   ],
   "source": [
    "        print(type(df_access['Open'])) # 查看列类型\n",
    "        # <class 'pandas.core.series.Series'>"
   ]
  },
  {
   "cell_type": "code",
   "execution_count": 98,
   "metadata": {},
   "outputs": [
    {
     "name": "stdout",
     "output_type": "stream",
     "text": [
      "Close    10.51\n",
      "Open     12.31\n",
      "Name: 2019-01-11, dtype: float64\n",
      "Empty DataFrame\n",
      "Columns: [Close, Open]\n",
      "Index: []\n",
      "            Close   Open\n",
      "2019-01-11  10.51  12.31\n"
     ]
    }
   ],
   "source": [
    "        # 访问某一行内容\n",
    "        print(df_access.loc['2019-01-11'])\n",
    "        print(df_access[0:0])\n",
    "        print(df_access[0:1])"
   ]
  },
  {
   "cell_type": "code",
   "execution_count": 99,
   "metadata": {},
   "outputs": [
    {
     "name": "stdout",
     "output_type": "stream",
     "text": [
      "<class 'pandas.core.frame.DataFrame'>\n"
     ]
    }
   ],
   "source": [
    "        print(type(df_access[1:1]))  # 查看行类型\n",
    "        # <class 'pandas.core.frame.DataFrame'>"
   ]
  },
  {
   "cell_type": "code",
   "execution_count": 100,
   "metadata": {},
   "outputs": [
    {
     "name": "stdout",
     "output_type": "stream",
     "text": [
      "            Close   Open\n",
      "2019-01-11  10.51  12.31\n"
     ]
    }
   ],
   "source": [
    "        # 选取了'2019-01-11'行对应的'Close','Open'这两列的元素内容\n",
    "        print(df_access.loc[['2019-01-11',],['Close','Open']])"
   ]
  },
  {
   "cell_type": "code",
   "execution_count": 101,
   "metadata": {},
   "outputs": [
    {
     "name": "stdout",
     "output_type": "stream",
     "text": [
      "            Close   Open\n",
      "2019-01-11  10.51  12.31\n",
      "2019-01-12  10.52  12.32\n",
      "2019-01-13  10.53  12.33\n",
      "2019-01-14  10.54  12.34\n"
     ]
    }
   ],
   "source": [
    "        # 选取了所有的行以及列索引为'Close','Open'的元素内容\n",
    "        print(df_access.loc[:,['Close','Open']])"
   ]
  },
  {
   "cell_type": "code",
   "execution_count": 102,
   "metadata": {},
   "outputs": [
    {
     "name": "stdout",
     "output_type": "stream",
     "text": [
      "            Close\n",
      "2019-01-11  10.51\n",
      "2019-01-12  10.52\n"
     ]
    }
   ],
   "source": [
    "        # 选取了前两行，第一列的元素。\n",
    "        print(df_access.iloc[0:2,0:1])"
   ]
  },
  {
   "cell_type": "code",
   "execution_count": 103,
   "metadata": {},
   "outputs": [
    {
     "name": "stdout",
     "output_type": "stream",
     "text": [
      "            Close   Open\n",
      "2019-01-11  10.51  12.31\n",
      "2019-01-12  10.52  12.32\n"
     ]
    }
   ],
   "source": [
    "        # 选取了前两行，所有列的元素\n",
    "        print(df_access.iloc[0:2])"
   ]
  },
  {
   "cell_type": "code",
   "execution_count": 104,
   "metadata": {},
   "outputs": [
    {
     "name": "stdout",
     "output_type": "stream",
     "text": [
      "            Close   Open\n",
      "2019-01-11  10.51  12.31\n",
      "2019-01-13  10.53  12.33\n"
     ]
    }
   ],
   "source": [
    "        # 除了指定某个范围方式选取外，还可自由选取行和列的位置所对应的数据元素，访问第0行和第2行，第一列和第二列的元素\n",
    "        print(df_access.iloc[[0,2],[0,1]])"
   ]
  },
  {
   "cell_type": "code",
   "execution_count": 106,
   "metadata": {},
   "outputs": [],
   "source": [
    "        # 采用混合标签和位置的方式访问元素 从'Open'列索引中获取第0个和第2个元素 新版不支持\n",
    "        #print(df_access.ix[[0, 2], ['Open']])"
   ]
  },
  {
   "cell_type": "code",
   "execution_count": 107,
   "metadata": {},
   "outputs": [
    {
     "name": "stdout",
     "output_type": "stream",
     "text": [
      "Index(['2019-01-11', '2019-01-13'], dtype='object')\n",
      "             Open\n",
      "2019-01-11  12.31\n",
      "2019-01-13  12.33\n"
     ]
    }
   ],
   "source": [
    "        print(df_access.index[[0, 2]])\n",
    "        # Index(['2019-01-11', '2019-01-13'], dtype='object')\n",
    "        print(df_access.loc[df_access.index[[0, 2]], ['Open']])"
   ]
  },
  {
   "cell_type": "code",
   "execution_count": 108,
   "metadata": {},
   "outputs": [
    {
     "name": "stdout",
     "output_type": "stream",
     "text": [
      "[1]\n",
      "1\n",
      "             Open\n",
      "2019-01-11  12.31\n",
      "2019-01-13  12.33\n"
     ]
    }
   ],
   "source": [
    "        print(df_access.columns.get_indexer(['Open'])) # [1]\n",
    "        print(df_access.columns.get_loc('Open')) # 1\n",
    "        print(df_access.iloc[[0, 2], df_access.columns.get_indexer(['Open'])])"
   ]
  },
  {
   "cell_type": "code",
   "execution_count": null,
   "metadata": {},
   "outputs": [
    {
     "name": "stdout",
     "output_type": "stream",
     "text": [
      "1\n"
     ]
    }
   ],
   "source": [
    "        print(df_access.index.get_loc('2019-01-12')) # 1"
   ]
  },
  {
   "cell_type": "code",
   "execution_count": null,
   "metadata": {},
   "outputs": [
    {
     "name": "stdout",
     "output_type": "stream",
     "text": [
      "2019-01-11    False\n",
      "2019-01-12    False\n",
      "2019-01-13     True\n",
      "2019-01-14     True\n",
      "Name: Open, dtype: bool\n"
     ]
    }
   ],
   "source": [
    "        print(df_access.Open > df_access.Open.mean())"
   ]
  },
  {
   "cell_type": "code",
   "execution_count": null,
   "metadata": {},
   "outputs": [
    {
     "name": "stdout",
     "output_type": "stream",
     "text": [
      "            Close   Open\n",
      "2019-01-13  10.53  12.33\n",
      "2019-01-14  10.54  12.34\n"
     ]
    }
   ],
   "source": [
    "        print(df_access[df_access.Open > df_access.Open.mean()])"
   ]
  },
  {
   "cell_type": "code",
   "execution_count": null,
   "metadata": {},
   "outputs": [
    {
     "name": "stdout",
     "output_type": "stream",
     "text": [
      "2019-01-13    10.53\n",
      "2019-01-14    10.54\n",
      "Name: Close, dtype: float64\n"
     ]
    }
   ],
   "source": [
    "        print(df_access.loc[df_access.Open > df_access.Open.mean(),'Close'])"
   ]
  },
  {
   "cell_type": "markdown",
   "metadata": {},
   "source": [
    "### 4.4 Python Pandas 时间序列的生成方法"
   ]
  },
  {
   "cell_type": "code",
   "execution_count": 109,
   "metadata": {},
   "outputs": [
    {
     "name": "stdout",
     "output_type": "stream",
     "text": [
      "*****example-4.35*****\n",
      "date.resolution: 1 day, 0:00:00\n",
      "time.resolution: 0:00:00.000001\n",
      "datetime.resolution: 0:00:00.000001\n"
     ]
    }
   ],
   "source": [
    "    # Python datetime模块的使用\n",
    "    from datetime import date, time, datetime, timedelta\n",
    "\n",
    "    print(\"*****example-4.35*****\")\n",
    "    # date.resolution：date对象表示日期的最小单位\n",
    "    print(f'date.resolution: {date.resolution}')\n",
    "    # time.resolution：time对象表示时间的最小单位\n",
    "    print(f'time.resolution: {time.resolution}')\n",
    "    # datetime.resolution：datetime对象表示时间的最小单位\n",
    "    print(f'datetime.resolution: {datetime.resolution}')"
   ]
  },
  {
   "cell_type": "code",
   "execution_count": 110,
   "metadata": {},
   "outputs": [
    {
     "name": "stdout",
     "output_type": "stream",
     "text": [
      "date.max: 9999-12-31 and date.min: 0001-01-01\n",
      "time.max: 23:59:59.999999 and time.min: 00:00:00\n",
      "datetime.max: 9999-12-31 23:59:59.999999 and datetime.min: 0001-01-01 00:00:00\n"
     ]
    }
   ],
   "source": [
    "    # date.max、date.min：date对象所能表示的最大、最小日期范围\n",
    "    print(f'date.max: {date.max} and date.min: {date.min}')\n",
    "    # time.max、time.min：time对象所能表示的最大、最小时间范围\n",
    "    print(f'time.max: {time.max} and time.min: {time.min}')\n",
    "    # datetime.max、datetime.min：datetime对象所能表示的最大、最小时间范围\n",
    "    print(f'datetime.max: {datetime.max} and datetime.min: {datetime.min}')"
   ]
  },
  {
   "cell_type": "code",
   "execution_count": 111,
   "metadata": {},
   "outputs": [
    {
     "name": "stdout",
     "output_type": "stream",
     "text": [
      "datetime: 2016-10-26 10:23:15.000001\n"
     ]
    }
   ],
   "source": [
    "    # 构造datetime实例对象\n",
    "    # datetime (year, month, day[ , hour[ , minute[ , second[ , microsecond[ , tzinfo]]]]])\n",
    "    datetime_obj = datetime(2016, 10, 26, 10, 23, 15, 1)\n",
    "    print(f'datetime: {datetime_obj}')\n",
    "    # datetime: 2016-10-26 10:23:15.000001"
   ]
  },
  {
   "cell_type": "code",
   "execution_count": null,
   "metadata": {},
   "outputs": [
    {
     "name": "stdout",
     "output_type": "stream",
     "text": [
      "datetime: 2016-10-27 20:23:15.000001\n",
      "datetime.isoformat(): 2016-10-26T10:23:15.000001\n",
      "strftime():2016-23-26 10:23:15\n"
     ]
    }
   ],
   "source": [
    "    # replace 用参数指定代替原有对象中的属性生成新的datetime时间对象\n",
    "    re_datetime_obj = datetime_obj.replace(day=27, hour=20)\n",
    "    print(f'datetime: {re_datetime_obj}')\n",
    "    # .isoformat()：返回型如\"YYYY-MM-DD HH:MM:SS\"格式的字符串时间\n",
    "    print(f'datetime.isoformat(): {datetime_obj.isoformat()}')\n",
    "    # .strftime(fmt)：format自定义格式化时间字\n",
    "    print(f'strftime():{datetime_obj.strftime(\"%Y-%M-%d %X\")}')"
   ]
  },
  {
   "cell_type": "code",
   "execution_count": null,
   "metadata": {},
   "outputs": [
    {
     "name": "stdout",
     "output_type": "stream",
     "text": [
      "datetime.strptime():2016-10-26 00:00:00\n",
      "fromtimestamp():2015-04-19 12:20:00\n",
      "utcfromtimestamp():2015-04-19 04:20:00\n",
      "datetime.now():2024-06-09 16:52:50.562278\n"
     ]
    }
   ],
   "source": [
    "    print(f'datetime.strptime():{datetime.strptime(\"2016-10-26\", \"%Y-%m-%d\")}')\n",
    "    print(f'fromtimestamp():{datetime.fromtimestamp(1429417200.0)}')\n",
    "    print(f'utcfromtimestamp():{datetime.utcfromtimestamp(1429417200.0)}')\n",
    "    print(f'datetime.now():{datetime.now()}')"
   ]
  },
  {
   "cell_type": "code",
   "execution_count": null,
   "metadata": {},
   "outputs": [
    {
     "name": "stdout",
     "output_type": "stream",
     "text": [
      "<class 'datetime.timedelta'> 17 days, 0:00:00\n",
      "17 1468800.0\n"
     ]
    }
   ],
   "source": [
    "    delta_obj = datetime.strptime(\"2019-10-18 04:20:00\", \"%Y-%m-%d %X\") - datetime.strptime(\"2019-10-01 04:20:00\",\n",
    "                                                                                            \"%Y-%m-%d %X\")\n",
    "    print(type(delta_obj), delta_obj)\n",
    "    print(delta_obj.days, delta_obj.total_seconds())"
   ]
  },
  {
   "cell_type": "code",
   "execution_count": null,
   "metadata": {},
   "outputs": [
    {
     "name": "stdout",
     "output_type": "stream",
     "text": [
      "2024-06-10 17:53:44.804414\n",
      "2024-06-08 16:53:44.804414\n",
      "2024-06-08 16:53:44.804414\n",
      "\n"
     ]
    }
   ],
   "source": [
    "    dt = datetime.now()\n",
    "    dt1 = dt + timedelta(days=1, hours=1)  # 明天 后1小时\n",
    "    dt2 = dt + timedelta(days=-1)  # 昨天\n",
    "    dt3 = dt - timedelta(days=1)  # 昨天\n",
    "    print(f\"{dt1}\\n{dt2}\\n{dt3}\\n\")"
   ]
  },
  {
   "cell_type": "code",
   "execution_count": null,
   "metadata": {},
   "outputs": [
    {
     "name": "stdout",
     "output_type": "stream",
     "text": [
      "*****example-4.42*****\n",
      "pd.Timestamp()-1：2019-01-01 02:03:04\n",
      "pd.Timestamp()-2：2019-01-01 02:03:04\n",
      "pd.Timestamp()-3：2019-01-01 02:03:04\n",
      "pd.Timestamp()-type：<class 'pandas._libs.tslibs.timestamps.Timestamp'>\n"
     ]
    }
   ],
   "source": [
    "    print(\"*****example-4.42*****\")\n",
    "    ts = pd.Timestamp(2019, 1, 1, 2, 3, 4)\n",
    "    print(f'pd.Timestamp()-1：{ts}')\n",
    "    ts = pd.Timestamp(datetime(2019, 1, 1, hour=2, minute=3, second=4))\n",
    "    print(f'pd.Timestamp()-2：{ts}')\n",
    "    ts = pd.Timestamp(\"2019-1-1 2:3:4\")\n",
    "    print(f'pd.Timestamp()-3：{ts}')\n",
    "    print(f'pd.Timestamp()-type：{type(ts)}')"
   ]
  },
  {
   "cell_type": "code",
   "execution_count": null,
   "metadata": {},
   "outputs": [
    {
     "name": "stdout",
     "output_type": "stream",
     "text": [
      "*****example-4.43*****\n",
      "pd.to_datetime()-1：2019-01-01 00:01:01\n",
      "pd.to_datetime()-2：2019-01-01 00:01:01\n",
      "pd.to_datetime()-type：<class 'pandas._libs.tslibs.timestamps.Timestamp'>\n"
     ]
    }
   ],
   "source": [
    "    print(\"*****example-4.43*****\")\n",
    "    dt = pd.to_datetime(datetime(2019, 1, 1, hour=0, minute=1, second=1))\n",
    "    print(f'pd.to_datetime()-1：{dt}')\n",
    "    dt = pd.to_datetime(\"2019-1-1 0:1:1\")\n",
    "    print(f'pd.to_datetime()-2：{dt}')\n",
    "    print(f'pd.to_datetime()-type：{type(dt)}')"
   ]
  },
  {
   "cell_type": "code",
   "execution_count": null,
   "metadata": {},
   "outputs": [
    {
     "name": "stdout",
     "output_type": "stream",
     "text": [
      "pd.to_datetime()-list：DatetimeIndex(['2019-01-01 00:01:01', '2019-02-01 00:01:01',\n",
      "               '2019-03-01 00:01:01'],\n",
      "              dtype='datetime64[ns]', freq=None)\n"
     ]
    }
   ],
   "source": [
    "    # pd.to_datetime生成自定义时间序列\n",
    "    dtlist = pd.to_datetime([\"2019-1-1 0:1:1\", \"2019-2-1 0:1:1\", \"2019-3-1 0:1:1\"])\n",
    "    print(f'pd.to_datetime()-list：{dtlist}')"
   ]
  },
  {
   "cell_type": "code",
   "execution_count": null,
   "metadata": {},
   "outputs": [
    {
     "name": "stdout",
     "output_type": "stream",
     "text": [
      "*****example-4.45*****\n",
      "datetime-1:2019-01-01 00:00:00\n",
      "datetime-2:2019-01-06 00:50:20\n"
     ]
    }
   ],
   "source": [
    "    print(\"*****example-4.45*****\")\n",
    "    dt_0 = pd.to_datetime(datetime(2019, 1, 1, hour=0, minute=0, second=0))\n",
    "    dt_1 = dt_0 + pd.Timedelta(days=5, minutes=50, seconds=20)\n",
    "    print(f'datetime-1:{dt_0}\\ndatetime-2:{dt_1}')"
   ]
  },
  {
   "cell_type": "code",
   "execution_count": null,
   "metadata": {},
   "outputs": [
    {
     "name": "stdout",
     "output_type": "stream",
     "text": [
      "month date_range()：\n",
      "DatetimeIndex(['2019-01-31', '2019-02-28', '2019-03-31', '2019-04-30',\n",
      "               '2019-05-31', '2019-06-30', '2019-07-31', '2019-08-31',\n",
      "               '2019-09-30', '2019-10-31', '2019-11-30', '2019-12-31'],\n",
      "              dtype='datetime64[ns]', freq='M')\n"
     ]
    }
   ],
   "source": [
    "    date_rng = pd.date_range('2019-01-01', freq='M', periods=12)\n",
    "    print(f'month date_range()：\\n{date_rng}')"
   ]
  },
  {
   "cell_type": "code",
   "execution_count": null,
   "metadata": {},
   "outputs": [
    {
     "name": "stdout",
     "output_type": "stream",
     "text": [
      "month period_range()：\n",
      "PeriodIndex(['2019-01', '2019-02', '2019-03', '2019-04', '2019-05', '2019-06',\n",
      "             '2019-07', '2019-08', '2019-09', '2019-10', '2019-11', '2019-12'],\n",
      "            dtype='period[M]')\n"
     ]
    }
   ],
   "source": [
    "    period_rng = pd.period_range('2019-01-01', freq='M', periods=12)\n",
    "    print(f'month period_range()：\\n{period_rng}')"
   ]
  },
  {
   "cell_type": "code",
   "execution_count": null,
   "metadata": {},
   "outputs": [
    {
     "name": "stdout",
     "output_type": "stream",
     "text": [
      "*****example-4.47*****\n",
      "week date_range()：\n",
      "DatetimeIndex(['2019-01-06', '2019-01-13', '2019-01-20', '2019-01-27',\n",
      "               '2019-02-03', '2019-02-10', '2019-02-17', '2019-02-24',\n",
      "               '2019-03-03', '2019-03-10', '2019-03-17', '2019-03-24'],\n",
      "              dtype='datetime64[ns]', freq='W-SUN')\n",
      "week period_range()：\n",
      "PeriodIndex(['2018-12-31/2019-01-06', '2019-01-07/2019-01-13',\n",
      "             '2019-01-14/2019-01-20', '2019-01-21/2019-01-27',\n",
      "             '2019-01-28/2019-02-03', '2019-02-04/2019-02-10',\n",
      "             '2019-02-11/2019-02-17', '2019-02-18/2019-02-24',\n",
      "             '2019-02-25/2019-03-03', '2019-03-04/2019-03-10',\n",
      "             '2019-03-11/2019-03-17', '2019-03-18/2019-03-24'],\n",
      "            dtype='period[W-SUN]')\n"
     ]
    }
   ],
   "source": [
    "    print(\"*****example-4.47*****\")\n",
    "    date_rng = pd.date_range('2019-01-01', freq='W-SUN', periods=12)\n",
    "    print(f'week date_range()：\\n{date_rng}')\n",
    "\n",
    "    period_rng = pd.period_range('2019-01-01', freq='W-SUN', periods=12)\n",
    "    print(f'week period_range()：\\n{period_rng}')"
   ]
  },
  {
   "cell_type": "code",
   "execution_count": null,
   "metadata": {},
   "outputs": [
    {
     "name": "stdout",
     "output_type": "stream",
     "text": [
      "*****example-4.48*****\n",
      "hour date_range()：\n",
      "DatetimeIndex(['2019-01-01 00:00:00', '2019-01-01 01:00:00',\n",
      "               '2019-01-01 02:00:00', '2019-01-01 03:00:00',\n",
      "               '2019-01-01 04:00:00', '2019-01-01 05:00:00',\n",
      "               '2019-01-01 06:00:00', '2019-01-01 07:00:00',\n",
      "               '2019-01-01 08:00:00', '2019-01-01 09:00:00',\n",
      "               '2019-01-01 10:00:00', '2019-01-01 11:00:00'],\n",
      "              dtype='datetime64[ns]', freq='H')\n",
      "hour period_range()：\n",
      "PeriodIndex(['2019-01-01 00:00', '2019-01-01 01:00', '2019-01-01 02:00',\n",
      "             '2019-01-01 03:00', '2019-01-01 04:00', '2019-01-01 05:00',\n",
      "             '2019-01-01 06:00', '2019-01-01 07:00', '2019-01-01 08:00',\n",
      "             '2019-01-01 09:00', '2019-01-01 10:00', '2019-01-01 11:00'],\n",
      "            dtype='period[H]')\n"
     ]
    }
   ],
   "source": [
    "    print(\"*****example-4.48*****\")\n",
    "    date_rng = pd.date_range('2019-01-01 00:00:00', freq='H', periods=12)\n",
    "    print(f'hour date_range()：\\n{date_rng}')\n",
    "\n",
    "    period_rng = pd.period_range('2019-01-01 00:00:00', freq='H', periods=12)\n",
    "    print(f'hour period_range()：\\n{period_rng}')"
   ]
  },
  {
   "cell_type": "code",
   "execution_count": 112,
   "metadata": {},
   "outputs": [
    {
     "name": "stdout",
     "output_type": "stream",
     "text": [
      "*****example-4.49-1*****\n",
      "DatetimeIndex(['2019-01-11', '2019-01-12', '2019-01-13', '2019-01-14'], dtype='datetime64[ns]', freq=None)\n",
      "            Close   Open    Low   High  Volume\n",
      "2019-01-11  11.12  21.12  11.12  21.12   21.12\n",
      "2019-01-12  12.32  22.32  12.32  22.32   22.32\n",
      "2019-01-13  13.42  23.42  13.42  23.42   23.42\n",
      "2019-01-14  14.52  24.52  14.52  24.52   24.52\n"
     ]
    }
   ],
   "source": [
    "    print(\"*****example-4.49-1*****\")\n",
    "    # 准备被访问DataFrame对象\n",
    "    dates = pd.to_datetime(['2019-01-11', '2019-01-12', '2019-01-13', '2019-01-14'])\n",
    "    print(dates)\n",
    "    series_data_c = {'Close': pd.Series([11.12, 12.32, 13.42, 14.52], index=dates),\n",
    "                     'Open': pd.Series([21.12, 22.32, 23.42, 24.52], index=dates),\n",
    "                     'Low': pd.Series([11.12, 12.32, 13.42, 14.52], index=dates),\n",
    "                     'High': pd.Series([21.12, 22.32, 23.42, 24.52], index=dates),\n",
    "                     'Volume': pd.Series([21.12, 22.32, 23.42, 24.52], index=dates), }\n",
    "\n",
    "    df_series_c = pd.DataFrame(series_data_c, columns=['Close', 'Open', 'Low', 'High', 'Volume'])\n",
    "    print(df_series_c)"
   ]
  },
  {
   "cell_type": "code",
   "execution_count": 113,
   "metadata": {},
   "outputs": [
    {
     "name": "stdout",
     "output_type": "stream",
     "text": [
      "*****example-4.49-1*****\n",
      "DatetimeIndex(['2019-01-11', '2019-01-12', '2019-01-13', '2019-01-14'], dtype='datetime64[ns]', freq=None)\n",
      "            Close   Open    Low   High  Volume\n",
      "2019-01-11  11.12  21.12  11.12  21.12   21.12\n",
      "2019-01-12  12.32  22.32  12.32  22.32   22.32\n",
      "2019-01-13  13.42  23.42  13.42  23.42   23.42\n",
      "2019-01-14  14.52  24.52  14.52  24.52   24.52\n"
     ]
    }
   ],
   "source": [
    "    print(\"*****example-4.49-1*****\")\n",
    "    # 准备被访问DataFrame对象\n",
    "    dates = pd.to_datetime(['2019-01-11', '2019-01-12', '2019-01-13', '2019-01-14'])\n",
    "    print(dates)\n",
    "    series_data_c = {'Close': pd.Series([11.12, 12.32, 13.42, 14.52], index=dates),\n",
    "                     'Open': pd.Series([21.12, 22.32, 23.42, 24.52], index=dates),\n",
    "                     'Low': pd.Series([11.12, 12.32, 13.42, 14.52], index=dates),\n",
    "                     'High': pd.Series([21.12, 22.32, 23.42, 24.52], index=dates),\n",
    "                     'Volume': pd.Series([21.12, 22.32, 23.42, 24.52], index=dates), }\n",
    "\n",
    "    df_series_c = pd.DataFrame(series_data_c, columns=['Close', 'Open', 'Low', 'High', 'Volume'])\n",
    "    print(df_series_c)"
   ]
  },
  {
   "cell_type": "code",
   "execution_count": 114,
   "metadata": {},
   "outputs": [
    {
     "name": "stdout",
     "output_type": "stream",
     "text": [
      "*****example-4.50*****\n",
      "2019-01-01     1\n",
      "2019-01-02     2\n",
      "2019-01-03     3\n",
      "2019-01-04     4\n",
      "2019-01-05     5\n",
      "2019-01-06     6\n",
      "2019-01-07     7\n",
      "2019-01-08     8\n",
      "2019-01-09     9\n",
      "2019-01-10    10\n",
      "2019-01-11    11\n",
      "2019-01-12    12\n",
      "Freq: D, dtype: int64\n"
     ]
    }
   ],
   "source": [
    "    print(\"*****example-4.50*****\")\n",
    "    # date_range 生成一个时间区间段，间隔为天\n",
    "    rng = pd.date_range('20190101', periods=12, freq='D')\n",
    "    ts_d = pd.Series(np.arange(1,13), index=rng)\n",
    "    print(ts_d)"
   ]
  },
  {
   "cell_type": "code",
   "execution_count": null,
   "metadata": {},
   "outputs": [
    {
     "name": "stdout",
     "output_type": "stream",
     "text": [
      "2019-01-01    15\n",
      "2019-01-06    40\n",
      "2019-01-11    23\n",
      "Freq: 5D, dtype: int64\n",
      "2019-01-01     1\n",
      "2019-01-06    20\n",
      "2019-01-11    45\n",
      "2019-01-16    12\n",
      "Freq: 5D, dtype: int64\n"
     ]
    }
   ],
   "source": [
    "    print(ts_d.resample('5D', closed='left', label='left').sum())  # 左闭右开 1 - 5\n",
    "    print(ts_d.resample('5D', closed='right', label='right').sum())  # 左开右闭 2 - 6"
   ]
  },
  {
   "cell_type": "code",
   "execution_count": 115,
   "metadata": {},
   "outputs": [
    {
     "name": "stdout",
     "output_type": "stream",
     "text": [
      "2019-01-01 00:00:00     1.0\n",
      "2019-01-01 12:00:00     NaN\n",
      "2019-01-02 00:00:00     2.0\n",
      "2019-01-02 12:00:00     NaN\n",
      "2019-01-03 00:00:00     3.0\n",
      "2019-01-03 12:00:00     NaN\n",
      "2019-01-04 00:00:00     4.0\n",
      "2019-01-04 12:00:00     NaN\n",
      "2019-01-05 00:00:00     5.0\n",
      "2019-01-05 12:00:00     NaN\n",
      "2019-01-06 00:00:00     6.0\n",
      "2019-01-06 12:00:00     NaN\n",
      "2019-01-07 00:00:00     7.0\n",
      "2019-01-07 12:00:00     NaN\n",
      "2019-01-08 00:00:00     8.0\n",
      "2019-01-08 12:00:00     NaN\n",
      "2019-01-09 00:00:00     9.0\n",
      "2019-01-09 12:00:00     NaN\n",
      "2019-01-10 00:00:00    10.0\n",
      "2019-01-10 12:00:00     NaN\n",
      "2019-01-11 00:00:00    11.0\n",
      "2019-01-11 12:00:00     NaN\n",
      "2019-01-12 00:00:00    12.0\n",
      "Freq: 12H, dtype: float64\n"
     ]
    }
   ],
   "source": [
    "    ts_12h_asfreq = ts_d.resample('12H').asfreq()\n",
    "    print(ts_12h_asfreq)"
   ]
  },
  {
   "cell_type": "code",
   "execution_count": 117,
   "metadata": {},
   "outputs": [
    {
     "name": "stdout",
     "output_type": "stream",
     "text": [
      "2019-01-01 00:00:00     1\n",
      "2019-01-01 12:00:00     1\n",
      "2019-01-02 00:00:00     2\n",
      "2019-01-02 12:00:00     2\n",
      "2019-01-03 00:00:00     3\n",
      "2019-01-03 12:00:00     3\n",
      "2019-01-04 00:00:00     4\n",
      "2019-01-04 12:00:00     4\n",
      "2019-01-05 00:00:00     5\n",
      "2019-01-05 12:00:00     5\n",
      "2019-01-06 00:00:00     6\n",
      "2019-01-06 12:00:00     6\n",
      "2019-01-07 00:00:00     7\n",
      "2019-01-07 12:00:00     7\n",
      "2019-01-08 00:00:00     8\n",
      "2019-01-08 12:00:00     8\n",
      "2019-01-09 00:00:00     9\n",
      "2019-01-09 12:00:00     9\n",
      "2019-01-10 00:00:00    10\n",
      "2019-01-10 12:00:00    10\n",
      "2019-01-11 00:00:00    11\n",
      "2019-01-11 12:00:00    11\n",
      "2019-01-12 00:00:00    12\n",
      "Freq: 12H, dtype: int64\n"
     ]
    }
   ],
   "source": [
    "    #ffill, 前值填充\n",
    "    ts_12h_ffill = ts_d.resample('12H').ffill()\n",
    "    print(ts_12h_ffill)"
   ]
  },
  {
   "cell_type": "code",
   "execution_count": 118,
   "metadata": {},
   "outputs": [
    {
     "name": "stdout",
     "output_type": "stream",
     "text": [
      "2019-01-01 00:00:00     1\n",
      "2019-01-01 12:00:00     2\n",
      "2019-01-02 00:00:00     2\n",
      "2019-01-02 12:00:00     3\n",
      "2019-01-03 00:00:00     3\n",
      "2019-01-03 12:00:00     4\n",
      "2019-01-04 00:00:00     4\n",
      "2019-01-04 12:00:00     5\n",
      "2019-01-05 00:00:00     5\n",
      "2019-01-05 12:00:00     6\n",
      "2019-01-06 00:00:00     6\n",
      "2019-01-06 12:00:00     7\n",
      "2019-01-07 00:00:00     7\n",
      "2019-01-07 12:00:00     8\n",
      "2019-01-08 00:00:00     8\n",
      "2019-01-08 12:00:00     9\n",
      "2019-01-09 00:00:00     9\n",
      "2019-01-09 12:00:00    10\n",
      "2019-01-10 00:00:00    10\n",
      "2019-01-10 12:00:00    11\n",
      "2019-01-11 00:00:00    11\n",
      "2019-01-11 12:00:00    12\n",
      "2019-01-12 00:00:00    12\n",
      "Freq: 12H, dtype: int64\n"
     ]
    }
   ],
   "source": [
    "    ts_12h_bfill = ts_d.resample('12H').bfill()\n",
    "    print(ts_12h_bfill)"
   ]
  },
  {
   "cell_type": "code",
   "execution_count": 119,
   "metadata": {},
   "outputs": [
    {
     "name": "stdout",
     "output_type": "stream",
     "text": [
      "2019-01-01 09:30:00     1.0\n",
      "2019-01-01 15:30:00     1.0\n",
      "2019-01-01 21:30:00     NaN\n",
      "2019-01-02 03:30:00     NaN\n",
      "2019-01-02 09:30:00     2.0\n",
      "2019-01-02 15:30:00     2.0\n",
      "2019-01-02 21:30:00     NaN\n",
      "2019-01-03 03:30:00     NaN\n",
      "2019-01-03 09:30:00     3.0\n",
      "2019-01-03 15:30:00     3.0\n",
      "2019-01-03 21:30:00     NaN\n",
      "2019-01-04 03:30:00     NaN\n",
      "2019-01-04 09:30:00     4.0\n",
      "2019-01-04 15:30:00     4.0\n",
      "2019-01-04 21:30:00     NaN\n",
      "2019-01-05 03:30:00     NaN\n",
      "2019-01-05 09:30:00     5.0\n",
      "2019-01-05 15:30:00     5.0\n",
      "2019-01-05 21:30:00     NaN\n",
      "2019-01-06 03:30:00     NaN\n",
      "2019-01-06 09:30:00     6.0\n",
      "2019-01-06 15:30:00     6.0\n",
      "2019-01-06 21:30:00     NaN\n",
      "2019-01-07 03:30:00     NaN\n",
      "2019-01-07 09:30:00     7.0\n",
      "2019-01-07 15:30:00     7.0\n",
      "2019-01-07 21:30:00     NaN\n",
      "2019-01-08 03:30:00     NaN\n",
      "2019-01-08 09:30:00     8.0\n",
      "2019-01-08 15:30:00     8.0\n",
      "2019-01-08 21:30:00     NaN\n",
      "2019-01-09 03:30:00     NaN\n",
      "2019-01-09 09:30:00     9.0\n",
      "2019-01-09 15:30:00     9.0\n",
      "2019-01-09 21:30:00     NaN\n",
      "2019-01-10 03:30:00     NaN\n",
      "2019-01-10 09:30:00    10.0\n",
      "2019-01-10 15:30:00    10.0\n",
      "2019-01-10 21:30:00     NaN\n",
      "2019-01-11 03:30:00     NaN\n",
      "2019-01-11 09:30:00    11.0\n",
      "2019-01-11 15:30:00    11.0\n",
      "2019-01-11 21:30:00     NaN\n",
      "2019-01-12 03:30:00     NaN\n",
      "2019-01-12 09:30:00    12.0\n",
      "Freq: 6H, dtype: float64\n"
     ]
    }
   ],
   "source": [
    "ts_offset_ffill = ts_d.resample('6H').ffill(limit=1).shift(freq='9.5H')\n",
    "print(ts_offset_ffill)\n",
    "#loffset in resample has been removed in 0.23.0\n",
    "#ts_offset_ffill = ts_d.resample('6H', loffset='9.5H').ffill(limit=1)\n",
    "#print(ts_offset_ffill)"
   ]
  },
  {
   "cell_type": "markdown",
   "metadata": {},
   "source": [
    "### 4.5 DataFrame规整化处理"
   ]
  },
  {
   "cell_type": "code",
   "execution_count": 120,
   "metadata": {},
   "outputs": [
    {
     "name": "stdout",
     "output_type": "stream",
     "text": [
      "close_data：\n",
      " [11.62434536  9.38824359  9.47182825  8.92703138 10.86540763  7.6984613\n",
      " 11.74481176  9.2387931  10.3190391   9.75062962]\n",
      "close_data：\n",
      " [10.16056499  9.87985002 10.38560229 10.71829074 11.2911889   9.88355585\n",
      "  7.722702    9.93037546 10.35387043  9.81304498]\n"
     ]
    }
   ],
   "source": [
    "    np.random.seed(1)#设置相同的seed 每次生成的随机数相同 便于调试\n",
    "    #数据data：正态分布随机数组——close\n",
    "    close_data = np.random.normal(loc=10.0, scale=1.0, size=1000)\n",
    "    print(f\"close_data：\\n {format(close_data[0:10])}\")#打印前10行\n",
    "    print(f\"close_data：\\n {format(close_data[-10:])}\")#打印后10行"
   ]
  },
  {
   "cell_type": "code",
   "execution_count": 121,
   "metadata": {},
   "outputs": [
    {
     "name": "stdout",
     "output_type": "stream",
     "text": [
      "open_data：\n",
      " [ 9.81304498 11.62434536  9.38824359  9.47182825  8.92703138 10.86540763\n",
      "  7.6984613  11.74481176  9.2387931  10.3190391 ]\n"
     ]
    }
   ],
   "source": [
    "    #数据data：open\n",
    "    open_data = np.roll(close_data,1)\n",
    "    print(f\"open_data：\\n {format(open_data[0:10])}\")#打印前10行"
   ]
  },
  {
   "cell_type": "code",
   "execution_count": 122,
   "metadata": {},
   "outputs": [
    {
     "name": "stdout",
     "output_type": "stream",
     "text": [
      "high_data：\n",
      " [11.62434536 11.62434536  9.47182825  9.47182825 10.86540763 10.86540763\n",
      " 11.74481176 11.74481176 10.3190391  10.3190391 ]\n"
     ]
    }
   ],
   "source": [
    "    #数据data：high low\n",
    "    high_data = np.where((open_data > close_data),open_data,close_data)\n",
    "    print(f\"high_data：\\n {format(high_data[0:10])}\")#打印前10行"
   ]
  },
  {
   "cell_type": "code",
   "execution_count": 123,
   "metadata": {},
   "outputs": [
    {
     "name": "stdout",
     "output_type": "stream",
     "text": [
      "low_data：\n",
      " [9.81304498 9.38824359 9.38824359 8.92703138 8.92703138 7.6984613\n",
      " 7.6984613  9.2387931  9.2387931  9.75062962]\n"
     ]
    }
   ],
   "source": [
    "    low_data = np.where((open_data <= close_data),open_data,close_data)\n",
    "    print(f\"low_data：\\n {format(low_data[0:10])}\")#打印前10行"
   ]
  },
  {
   "cell_type": "code",
   "execution_count": 124,
   "metadata": {},
   "outputs": [],
   "source": [
    "    open_data[0],close_data[0],high_data[0],low_data[0] = np.nan,np.nan,np.nan,np.nan"
   ]
  },
  {
   "cell_type": "code",
   "execution_count": 125,
   "metadata": {},
   "outputs": [
    {
     "name": "stdout",
     "output_type": "stream",
     "text": [
      "生成日时间序列：\n",
      "DatetimeIndex(['2020-01-01', '2020-01-02', '2020-01-03', '2020-01-04',\n",
      "               '2020-01-05', '2020-01-06', '2020-01-07', '2020-01-08',\n",
      "               '2020-01-09', '2020-01-10',\n",
      "               ...\n",
      "               '2022-09-17', '2022-09-18', '2022-09-19', '2022-09-20',\n",
      "               '2022-09-21', '2022-09-22', '2022-09-23', '2022-09-24',\n",
      "               '2022-09-25', '2022-09-26'],\n",
      "              dtype='datetime64[ns]', length=1000, freq='D')\n"
     ]
    }
   ],
   "source": [
    "    #行索引index:交易日期\n",
    "    date_index =pd.date_range('2020-01-01',freq='D',periods=1000)\n",
    "    print(f'生成日时间序列：\\n{date_index}')"
   ]
  },
  {
   "cell_type": "code",
   "execution_count": 126,
   "metadata": {},
   "outputs": [
    {
     "name": "stdout",
     "output_type": "stream",
     "text": [
      "股票行情数据：\n",
      "                 close       open       high       low\n",
      "2020-01-01        NaN        NaN        NaN       NaN\n",
      "2020-01-02   9.388244  11.624345  11.624345  9.388244\n",
      "2020-01-03   9.471828   9.388244   9.471828  9.388244\n",
      "2020-01-04   8.927031   9.471828   9.471828  8.927031\n",
      "2020-01-05  10.865408   8.927031  10.865408  8.927031\n"
     ]
    }
   ],
   "source": [
    "    df_stock = pd.DataFrame({'close': close_data,'open': open_data,'high': high_data,'low': low_data}, index=date_index)\n",
    "    print(f'股票行情数据：\\n {df_stock.head()}')#打印前5行数据"
   ]
  },
  {
   "cell_type": "code",
   "execution_count": 127,
   "metadata": {},
   "outputs": [
    {
     "name": "stdout",
     "output_type": "stream",
     "text": [
      "                close       open       high       low\n",
      "2022-09-22   9.883556  11.291189  11.291189  9.883556\n",
      "2022-09-23   7.722702   9.883556   9.883556  7.722702\n",
      "2022-09-24   9.930375   7.722702   9.930375  7.722702\n",
      "2022-09-25  10.353870   9.930375  10.353870  9.930375\n",
      "2022-09-26   9.813045  10.353870  10.353870  9.813045\n"
     ]
    }
   ],
   "source": [
    "    print(df_stock.tail())#查看末尾5行"
   ]
  },
  {
   "cell_type": "code",
   "execution_count": 128,
   "metadata": {},
   "outputs": [
    {
     "name": "stdout",
     "output_type": "stream",
     "text": [
      "Index(['close', 'open', 'high', 'low'], dtype='object')\n"
     ]
    }
   ],
   "source": [
    "    print(df_stock.columns)#查看列名"
   ]
  },
  {
   "cell_type": "code",
   "execution_count": 129,
   "metadata": {},
   "outputs": [
    {
     "name": "stdout",
     "output_type": "stream",
     "text": [
      "DatetimeIndex(['2020-01-01', '2020-01-02', '2020-01-03', '2020-01-04',\n",
      "               '2020-01-05', '2020-01-06', '2020-01-07', '2020-01-08',\n",
      "               '2020-01-09', '2020-01-10',\n",
      "               ...\n",
      "               '2022-09-17', '2022-09-18', '2022-09-19', '2022-09-20',\n",
      "               '2022-09-21', '2022-09-22', '2022-09-23', '2022-09-24',\n",
      "               '2022-09-25', '2022-09-26'],\n",
      "              dtype='datetime64[ns]', length=1000, freq='D')\n"
     ]
    }
   ],
   "source": [
    "    print(df_stock.index)#查看索引"
   ]
  },
  {
   "cell_type": "code",
   "execution_count": 130,
   "metadata": {},
   "outputs": [
    {
     "name": "stdout",
     "output_type": "stream",
     "text": [
      "(1000, 4)\n"
     ]
    }
   ],
   "source": [
    "    print(df_stock.shape)#查看形状"
   ]
  },
  {
   "cell_type": "code",
   "execution_count": 131,
   "metadata": {},
   "outputs": [
    {
     "name": "stdout",
     "output_type": "stream",
     "text": [
      "            close        open        high         low\n",
      "count  999.000000  999.000000  999.000000  999.000000\n",
      "mean    10.037225   10.039038   10.604220    9.472044\n",
      "std      0.980702    0.981961    0.793123    0.809584\n",
      "min      6.946236    6.946236    7.885836    6.946236\n",
      "25%      9.399818    9.399818   10.055265    8.960818\n",
      "50%     10.040371   10.042214   10.593579    9.524627\n",
      "75%     10.699507   10.707016   11.108617   10.008677\n",
      "max     13.958603   13.958603   13.958603   11.919792\n"
     ]
    }
   ],
   "source": [
    "    print(df_stock.describe())#查看各列数据描述性统计"
   ]
  },
  {
   "cell_type": "code",
   "execution_count": 132,
   "metadata": {},
   "outputs": [
    {
     "name": "stdout",
     "output_type": "stream",
     "text": [
      "<class 'pandas.core.frame.DataFrame'>\n",
      "DatetimeIndex: 1000 entries, 2020-01-01 to 2022-09-26\n",
      "Freq: D\n",
      "Data columns (total 4 columns):\n",
      " #   Column  Non-Null Count  Dtype  \n",
      "---  ------  --------------  -----  \n",
      " 0   close   999 non-null    float64\n",
      " 1   open    999 non-null    float64\n",
      " 2   high    999 non-null    float64\n",
      " 3   low     999 non-null    float64\n",
      "dtypes: float64(4)\n",
      "memory usage: 39.1 KB\n",
      "None\n"
     ]
    }
   ],
   "source": [
    "    print(df_stock.info())#查看缺失及每列数据类型"
   ]
  },
  {
   "cell_type": "code",
   "execution_count": 133,
   "metadata": {},
   "outputs": [
    {
     "name": "stdout",
     "output_type": "stream",
     "text": [
      "            close   open   high    low\n",
      "2020-01-01   True   True   True   True\n",
      "2020-01-02  False  False  False  False\n",
      "2020-01-03  False  False  False  False\n",
      "2020-01-04  False  False  False  False\n",
      "2020-01-05  False  False  False  False\n"
     ]
    }
   ],
   "source": [
    "    print(df_stock.isnull().head())#判断数据缺失值 打印前几行"
   ]
  },
  {
   "cell_type": "code",
   "execution_count": 134,
   "metadata": {},
   "outputs": [
    {
     "name": "stdout",
     "output_type": "stream",
     "text": [
      "            close  open  high  low\n",
      "2020-01-01    NaN   NaN   NaN  NaN\n"
     ]
    },
    {
     "data": {
      "text/plain": [
       "\"\\nLet's break it down:\\n\\ndf_stock: This is a pandas DataFrame. A DataFrame is a two-dimensional labeled data structure with columns potentially of different types. You can think of it like a spreadsheet or SQL table, or a dictionary of Series objects.\\n\\ndf_stock.isnull(): This returns a DataFrame where each cell is either True or False depending on whether the corresponding cell in df_stock is null (NaN).\\n\\ndf_stock.isnull().T: The T here is transposing the DataFrame, i.e., swapping the rows and columns. This is done because the any() function, which we'll see next, operates on rows by default, and we want it to operate on columns.\\n\\ndf_stock.isnull().T.any(): This returns a Series where each element corresponds to a column in the transposed DataFrame and is either True or False depending on whether any element in that column is True.\\n\\ndf_stock.isnull().T.any().T: This transposes the Series back to its original orientation.\\n\\ndf_stock[df_stock.isnull().T.any().T]: This uses boolean indexing to select only the rows in df_stock where the corresponding value in the Series is True, i.e., rows where any column has a null value.\\n\\nSo, in summary, this line of code is selecting and returning all rows from df_stock where any column has a null value.\\n\\n\""
      ]
     },
     "execution_count": 134,
     "metadata": {},
     "output_type": "execute_result"
    }
   ],
   "source": [
    "print(df_stock[df_stock.isnull().T.any().T])#查看NAN值所在行\n",
    "    #.T 数据转置\n",
    "    # .any() 返回是否每列上包含至少一个为True元素（默认参数）\n",
    "\n",
    "'''\n",
    "Let's break it down:\n",
    "\n",
    "df_stock: This is a pandas DataFrame. A DataFrame is a two-dimensional labeled data structure with columns potentially of different types. You can think of it like a spreadsheet or SQL table, or a dictionary of Series objects.\n",
    "\n",
    "df_stock.isnull(): This returns a DataFrame where each cell is either True or False depending on whether the corresponding cell in df_stock is null (NaN).\n",
    "\n",
    "df_stock.isnull().T: The T here is transposing the DataFrame, i.e., swapping the rows and columns. This is done because the any() function, which we'll see next, operates on rows by default, and we want it to operate on columns.\n",
    "\n",
    "df_stock.isnull().T.any(): This returns a Series where each element corresponds to a column in the transposed DataFrame and is either True or False depending on whether any element in that column is True.\n",
    "\n",
    "df_stock.isnull().T.any().T: This transposes the Series back to its original orientation.\n",
    "\n",
    "df_stock[df_stock.isnull().T.any().T]: This uses boolean indexing to select only the rows in df_stock where the corresponding value in the Series is True, i.e., rows where any column has a null value.\n",
    "\n",
    "So, in summary, this line of code is selecting and returning all rows from df_stock where any column has a null value.\n",
    "\n",
    "'''\n",
    "\n"
   ]
  },
  {
   "cell_type": "code",
   "execution_count": 135,
   "metadata": {},
   "outputs": [
    {
     "name": "stdout",
     "output_type": "stream",
     "text": [
      "                close       open       high       low\n",
      "2020-01-01   9.388244  11.624345  11.624345  9.388244\n",
      "2020-01-02   9.388244  11.624345  11.624345  9.388244\n",
      "2020-01-03   9.471828   9.388244   9.471828  9.388244\n",
      "2020-01-04   8.927031   9.471828   9.471828  8.927031\n",
      "2020-01-05  10.865408   8.927031  10.865408  8.927031\n"
     ]
    },
    {
     "name": "stderr",
     "output_type": "stream",
     "text": [
      "/tmp/ipykernel_206280/1091159717.py:1: FutureWarning: DataFrame.fillna with 'method' is deprecated and will raise in a future version. Use obj.ffill() or obj.bfill() instead.\n",
      "  df_fillna = df_stock.fillna(method='bfill', axis=0)#NAN值填充\n"
     ]
    }
   ],
   "source": [
    "    df_fillna = df_stock.fillna(method='bfill', axis=0)#NAN值填充\n",
    "    print(df_fillna.head())#判断缺失值是否被填充 打印前几行"
   ]
  },
  {
   "cell_type": "code",
   "execution_count": 136,
   "metadata": {},
   "outputs": [
    {
     "name": "stdout",
     "output_type": "stream",
     "text": [
      "Empty DataFrame\n",
      "Columns: [close, open, high, low]\n",
      "Index: []\n"
     ]
    }
   ],
   "source": [
    "    df_stock.dropna(axis=0, how='any', inplace=True)#NAN值删除\n",
    "    print(df_stock[df_stock.isnull().T.any().T])#查看NAN值所在行"
   ]
  },
  {
   "cell_type": "code",
   "execution_count": 137,
   "metadata": {},
   "outputs": [
    {
     "name": "stdout",
     "output_type": "stream",
     "text": [
      "            close   open   high   low\n",
      "2020-01-02   9.39  11.62  11.62  9.39\n",
      "2020-01-03   9.47   9.39   9.47  9.39\n",
      "2020-01-04   8.93   9.47   9.47  8.93\n",
      "2020-01-05  10.87   8.93  10.87  8.93\n",
      "2020-01-06   7.70  10.87  10.87  7.70\n"
     ]
    }
   ],
   "source": [
    "    df_stock_object = df_stock.map(lambda x:'%0.2f'%x)#保留2位小数\n",
    "    print(df_stock_object.head())"
   ]
  },
  {
   "cell_type": "code",
   "execution_count": 138,
   "metadata": {},
   "outputs": [
    {
     "name": "stdout",
     "output_type": "stream",
     "text": [
      "<class 'pandas.core.frame.DataFrame'>\n",
      "DatetimeIndex: 999 entries, 2020-01-02 to 2022-09-26\n",
      "Freq: D\n",
      "Data columns (total 4 columns):\n",
      " #   Column  Non-Null Count  Dtype \n",
      "---  ------  --------------  ----- \n",
      " 0   close   999 non-null    object\n",
      " 1   open    999 non-null    object\n",
      " 2   high    999 non-null    object\n",
      " 3   low     999 non-null    object\n",
      "dtypes: object(4)\n",
      "memory usage: 39.0+ KB\n",
      "None\n"
     ]
    }
   ],
   "source": [
    "print(df_stock_object.info())"
   ]
  },
  {
   "cell_type": "code",
   "execution_count": 139,
   "metadata": {},
   "outputs": [
    {
     "name": "stdout",
     "output_type": "stream",
     "text": [
      "<class 'pandas.core.frame.DataFrame'>\n",
      "DatetimeIndex: 999 entries, 2020-01-02 to 2022-09-26\n",
      "Freq: D\n",
      "Data columns (total 4 columns):\n",
      " #   Column  Non-Null Count  Dtype  \n",
      "---  ------  --------------  -----  \n",
      " 0   close   999 non-null    float64\n",
      " 1   open    999 non-null    float64\n",
      " 2   high    999 non-null    float64\n",
      " 3   low     999 non-null    float64\n",
      "dtypes: float64(4)\n",
      "memory usage: 39.0 KB\n",
      "None\n"
     ]
    }
   ],
   "source": [
    "    df_stock = df_stock.round(2)#保留2位小数\n",
    "    print(df_stock.info())"
   ]
  },
  {
   "cell_type": "code",
   "execution_count": 143,
   "metadata": {},
   "outputs": [
    {
     "data": {
      "image/png": "[encoded data removed]",
      "text/plain": [
       "<Figure size 800x600 with 1 Axes>"
      ]
     },
     "metadata": {},
     "output_type": "display_data"
    }
   ],
   "source": [
    "    import matplotlib.pyplot as plt\n",
    "    # 可视化DataFrame数据\n",
    "    df_visual = df_stock.loc['2020-01-01':'2022-01-01',['high','low']].plot(linewidth=1, figsize=(8, 6))\n",
    "    df_visual.set_xlabel('Time')\n",
    "    df_visual.set_ylabel('High&Low price')\n",
    "    df_visual.set_title('From 2020-01-01 to 2022-01-01')\n",
    "    df_visual.legend()\n",
    "    plt.show()"
   ]
  },
  {
   "cell_type": "code",
   "execution_count": 144,
   "metadata": {},
   "outputs": [
    {
     "name": "stdout",
     "output_type": "stream",
     "text": [
      "成交量数据：\n",
      "             volume\n",
      "2020-01-01  191016\n",
      "2020-01-02  194447\n",
      "2020-01-03  166905\n",
      "2020-01-04  156091\n",
      "2020-01-05  176409\n"
     ]
    }
   ],
   "source": [
    "    #数据data：随机整数数组——volume\n",
    "    volume_data = np.random.randint(low=100000, high=200000 , size=1000)\n",
    "\n",
    "    #生成DataFrame格式的股票成交量数据\n",
    "    df_volume = pd.DataFrame({'volume': volume_data}, index=date_index)\n",
    "    print(f'成交量数据：\\n {df_volume.head()}')#打印前5行数据"
   ]
  },
  {
   "cell_type": "code",
   "execution_count": 145,
   "metadata": {},
   "outputs": [
    {
     "name": "stdout",
     "output_type": "stream",
     "text": [
      "            close   open   high   low  volume\n",
      "2020-01-02   9.39  11.62  11.62  9.39  194447\n",
      "2020-01-03   9.47   9.39   9.47  9.39  166905\n",
      "2020-01-04   8.93   9.47   9.47  8.93  156091\n",
      "2020-01-05  10.87   8.93  10.87  8.93  176409\n",
      "2020-01-06   7.70  10.87  10.87  7.70  178237\n"
     ]
    }
   ],
   "source": [
    "    df_concat = pd.concat([df_stock, df_volume], axis=1, join = 'inner')\n",
    "    print(df_concat.head())"
   ]
  },
  {
   "cell_type": "code",
   "execution_count": 146,
   "metadata": {},
   "outputs": [
    {
     "name": "stdout",
     "output_type": "stream",
     "text": [
      "            close   open   high   low  volume\n",
      "2020-01-02   9.39  11.62  11.62  9.39  194447\n",
      "2020-01-03   9.47   9.39   9.47  9.39  166905\n",
      "2020-01-04   8.93   9.47   9.47  8.93  156091\n",
      "2020-01-05  10.87   8.93  10.87  8.93  176409\n",
      "2020-01-06   7.70  10.87  10.87  7.70  178237\n"
     ]
    }
   ],
   "source": [
    "    df_merge = pd.merge(df_stock, df_volume, left_index=True, right_index=True, how = 'inner')\n",
    "    print(df_merge.head())"
   ]
  },
  {
   "cell_type": "code",
   "execution_count": 147,
   "metadata": {},
   "outputs": [
    {
     "name": "stdout",
     "output_type": "stream",
     "text": [
      "            close   open   high   low  volume\n",
      "2020-01-02   9.39  11.62  11.62  9.39  194447\n",
      "2020-01-03   9.47   9.39   9.47  9.39  166905\n",
      "2020-01-04   8.93   9.47   9.47  8.93  156091\n",
      "2020-01-05  10.87   8.93  10.87  8.93  176409\n",
      "2020-01-06   7.70  10.87  10.87  7.70  178237\n"
     ]
    }
   ],
   "source": [
    "    df_join = df_stock.join(df_volume, how = 'inner')\n",
    "    print(df_join.head())"
   ]
  },
  {
   "cell_type": "code",
   "execution_count": 148,
   "metadata": {},
   "outputs": [
    {
     "name": "stderr",
     "output_type": "stream",
     "text": [
      "/tmp/ipykernel_206280/3088805682.py:5: FutureWarning: Setting an item of incompatible dtype is deprecated and will raise in a future error of pandas. Value '0.1919104991394147' has dtype incompatible with int64, please explicitly cast to a compatible dtype first.\n",
      "  df.iloc[i,df.columns.get_loc('pct_change')] = (df.iloc[i]['high'] - df.iloc[i]['low'])/df.iloc[i]['open']\n"
     ]
    },
    {
     "name": "stdout",
     "output_type": "stream",
     "text": [
      "            close   open   high   low  volume  pct_change\n",
      "2020-01-02   9.39  11.62  11.62  9.39  194447    0.191910\n",
      "2020-01-03   9.47   9.39   9.47  9.39  166905    0.008520\n",
      "2020-01-04   8.93   9.47   9.47  8.93  156091    0.057022\n",
      "2020-01-05  10.87   8.93  10.87  8.93  176409    0.217245\n",
      "2020-01-06   7.70  10.87  10.87  7.70  178237    0.291628\n"
     ]
    }
   ],
   "source": [
    "    #for in遍历方式\n",
    "    def forin_looping(df):\n",
    "        df = df.assign(pct_change = 0)  #采用assign新增一列\n",
    "        for i in np.arange(0,df.shape[0]):\n",
    "            df.iloc[i,df.columns.get_loc('pct_change')] = (df.iloc[i]['high'] - df.iloc[i]['low'])/df.iloc[i]['open']\n",
    "        return df\n",
    "    print(forin_looping(df_concat)[0:5])"
   ]
  },
  {
   "cell_type": "code",
   "execution_count": 151,
   "metadata": {},
   "outputs": [
    {
     "name": "stdout",
     "output_type": "stream",
     "text": [
      "            close   open   high   low  volume  pct_change\n",
      "2020-01-02   9.39  11.62  11.62  9.39  194447         0.0\n",
      "2020-01-03   9.47   9.39   9.47  9.39  166905         0.0\n",
      "2020-01-04   8.93   9.47   9.47  8.93  156091         0.0\n",
      "2020-01-05  10.87   8.93  10.87  8.93  176409         0.0\n",
      "2020-01-06   7.70  10.87  10.87  7.70  178237         0.0\n",
      "            close   open   high   low  volume  pct_change\n",
      "2020-01-02   9.39  11.62  11.62  9.39  194447    0.191910\n",
      "2020-01-03   9.47   9.39   9.47  9.39  166905    0.008520\n",
      "2020-01-04   8.93   9.47   9.47  8.93  156091    0.057022\n",
      "2020-01-05  10.87   8.93  10.87  8.93  176409    0.217245\n",
      "2020-01-06   7.70  10.87  10.87  7.70  178237    0.291628\n"
     ]
    }
   ],
   "source": [
    "    def iterrows_loopiter(df):\n",
    "        df = df.assign(pct_change=0.0)  # 采用assign新增一列\n",
    "        print(df.head())\n",
    "        for index,row in df.iterrows():\n",
    "            df.loc[index, 'pct_change'] = (row['high']-row['low'])/row['open']\n",
    "        return df\n",
    "    print(iterrows_loopiter(df_concat)[0:5])"
   ]
  },
  {
   "cell_type": "code",
   "execution_count": 154,
   "metadata": {},
   "outputs": [
    {
     "name": "stdout",
     "output_type": "stream",
     "text": [
      "            close   open   high   low  volume  pct_change  pct_change_2\n",
      "2020-01-02   9.39  11.62  11.62  9.39  194447    0.191910      0.191910\n",
      "2020-01-03   9.47   9.39   9.47  9.39  166905    0.008520      0.008520\n",
      "2020-01-04   8.93   9.47   9.47  8.93  156091    0.057022      0.057022\n",
      "2020-01-05  10.87   8.93  10.87  8.93  176409    0.217245      0.217245\n",
      "2020-01-06   7.70  10.87  10.87  7.70  178237    0.291628      0.291628\n"
     ]
    }
   ],
   "source": [
    "    #apply()遍历方式\n",
    "    df_concat['pct_change_2'] = df_concat.apply(lambda row: ((row['high']-row['low'])/row['open']), axis = 1)\n",
    "    print(df_concat.head())"
   ]
  },
  {
   "cell_type": "code",
   "execution_count": 156,
   "metadata": {},
   "outputs": [
    {
     "name": "stdout",
     "output_type": "stream",
     "text": [
      "            close   open   high   low  volume  pct_change  pct_change_2  \\\n",
      "2020-01-02   9.39  11.62  11.62  9.39  194447    0.191910      0.191910   \n",
      "2020-01-03   9.47   9.39   9.47  9.39  166905    0.008520      0.008520   \n",
      "2020-01-04   8.93   9.47   9.47  8.93  156091    0.057022      0.057022   \n",
      "2020-01-05  10.87   8.93  10.87  8.93  176409    0.217245      0.217245   \n",
      "2020-01-06   7.70  10.87  10.87  7.70  178237    0.291628      0.291628   \n",
      "\n",
      "            pct_change_3  \n",
      "2020-01-02      0.191910  \n",
      "2020-01-03      0.008520  \n",
      "2020-01-04      0.057022  \n",
      "2020-01-05      0.217245  \n",
      "2020-01-06      0.291628  \n"
     ]
    }
   ],
   "source": [
    "    #Pandas series 的矢量化方式\n",
    "    df_concat['pct_change'] = (df_concat['high']-df_concat['low'])/df_concat['open']\n",
    "    print(df_concat.head())"
   ]
  },
  {
   "cell_type": "code",
   "execution_count": 157,
   "metadata": {},
   "outputs": [
    {
     "name": "stdout",
     "output_type": "stream",
     "text": [
      "<class 'numpy.ndarray'>\n"
     ]
    }
   ],
   "source": [
    "    print(type(df_concat.values))"
   ]
  },
  {
   "cell_type": "code",
   "execution_count": 158,
   "metadata": {},
   "outputs": [
    {
     "name": "stdout",
     "output_type": "stream",
     "text": [
      "            close   open   high   low  volume  pct_change  pct_change_2  \\\n",
      "2020-01-02   9.39  11.62  11.62  9.39  194447    0.191910      0.191910   \n",
      "2020-01-03   9.47   9.39   9.47  9.39  166905    0.008520      0.008520   \n",
      "2020-01-04   8.93   9.47   9.47  8.93  156091    0.057022      0.057022   \n",
      "2020-01-05  10.87   8.93  10.87  8.93  176409    0.217245      0.217245   \n",
      "2020-01-06   7.70  10.87  10.87  7.70  178237    0.291628      0.291628   \n",
      "\n",
      "            pct_change_3  \n",
      "2020-01-02      0.191910  \n",
      "2020-01-03      0.008520  \n",
      "2020-01-04      0.057022  \n",
      "2020-01-05      0.217245  \n",
      "2020-01-06      0.291628  \n"
     ]
    }
   ],
   "source": [
    "    df_concat['pct_change'] = (df_concat['high'].values-df_concat['low'].values)/df_concat['open'].values\n",
    "    print(df_concat.head())"
   ]
  },
  {
   "cell_type": "code",
   "execution_count": 160,
   "metadata": {},
   "outputs": [
    {
     "name": "stderr",
     "output_type": "stream",
     "text": [
      "/tmp/ipykernel_206280/3088805682.py:5: FutureWarning: Setting an item of incompatible dtype is deprecated and will raise in a future error of pandas. Value '0.1919104991394147' has dtype incompatible with int64, please explicitly cast to a compatible dtype first.\n",
      "  df.iloc[i,df.columns.get_loc('pct_change')] = (df.iloc[i]['high'] - df.iloc[i]['low'])/df.iloc[i]['open']\n"
     ]
    },
    {
     "name": "stdout",
     "output_type": "stream",
     "text": [
      "Time of 0 used: 2.284356763586402 \n",
      "            close   open   high   low  volume  pct_change  pct_change_2  \\\n",
      "2020-01-02   9.39  11.62  11.62  9.39  194447         0.0      0.191910   \n",
      "2020-01-03   9.47   9.39   9.47  9.39  166905         0.0      0.008520   \n",
      "2020-01-04   8.93   9.47   9.47  8.93  156091         0.0      0.057022   \n",
      "2020-01-05  10.87   8.93  10.87  8.93  176409         0.0      0.217245   \n",
      "2020-01-06   7.70  10.87  10.87  7.70  178237         0.0      0.291628   \n",
      "\n",
      "            pct_change_3  \n",
      "2020-01-02      0.191910  \n",
      "2020-01-03      0.008520  \n",
      "2020-01-04      0.057022  \n",
      "2020-01-05      0.217245  \n",
      "2020-01-06      0.291628  \n",
      "            close   open   high   low  volume  pct_change  pct_change_2  \\\n",
      "2020-01-02   9.39  11.62  11.62  9.39  194447         0.0      0.191910   \n",
      "2020-01-03   9.47   9.39   9.47  9.39  166905         0.0      0.008520   \n",
      "2020-01-04   8.93   9.47   9.47  8.93  156091         0.0      0.057022   \n",
      "2020-01-05  10.87   8.93  10.87  8.93  176409         0.0      0.217245   \n",
      "2020-01-06   7.70  10.87  10.87  7.70  178237         0.0      0.291628   \n",
      "\n",
      "            pct_change_3  \n",
      "2020-01-02      0.191910  \n",
      "2020-01-03      0.008520  \n",
      "2020-01-04      0.057022  \n",
      "2020-01-05      0.217245  \n",
      "2020-01-06      0.291628  \n",
      "            close   open   high   low  volume  pct_change  pct_change_2  \\\n",
      "2020-01-02   9.39  11.62  11.62  9.39  194447         0.0      0.191910   \n",
      "2020-01-03   9.47   9.39   9.47  9.39  166905         0.0      0.008520   \n",
      "2020-01-04   8.93   9.47   9.47  8.93  156091         0.0      0.057022   \n",
      "2020-01-05  10.87   8.93  10.87  8.93  176409         0.0      0.217245   \n",
      "2020-01-06   7.70  10.87  10.87  7.70  178237         0.0      0.291628   \n",
      "\n",
      "            pct_change_3  \n",
      "2020-01-02      0.191910  \n",
      "2020-01-03      0.008520  \n",
      "2020-01-04      0.057022  \n",
      "2020-01-05      0.217245  \n",
      "2020-01-06      0.291628  \n",
      "            close   open   high   low  volume  pct_change  pct_change_2  \\\n",
      "2020-01-02   9.39  11.62  11.62  9.39  194447         0.0      0.191910   \n",
      "2020-01-03   9.47   9.39   9.47  9.39  166905         0.0      0.008520   \n",
      "2020-01-04   8.93   9.47   9.47  8.93  156091         0.0      0.057022   \n",
      "2020-01-05  10.87   8.93  10.87  8.93  176409         0.0      0.217245   \n",
      "2020-01-06   7.70  10.87  10.87  7.70  178237         0.0      0.291628   \n",
      "\n",
      "            pct_change_3  \n",
      "2020-01-02      0.191910  \n",
      "2020-01-03      0.008520  \n",
      "2020-01-04      0.057022  \n",
      "2020-01-05      0.217245  \n",
      "2020-01-06      0.291628  \n",
      "            close   open   high   low  volume  pct_change  pct_change_2  \\\n",
      "2020-01-02   9.39  11.62  11.62  9.39  194447         0.0      0.191910   \n",
      "2020-01-03   9.47   9.39   9.47  9.39  166905         0.0      0.008520   \n",
      "2020-01-04   8.93   9.47   9.47  8.93  156091         0.0      0.057022   \n",
      "2020-01-05  10.87   8.93  10.87  8.93  176409         0.0      0.217245   \n",
      "2020-01-06   7.70  10.87  10.87  7.70  178237         0.0      0.291628   \n",
      "\n",
      "            pct_change_3  \n",
      "2020-01-02      0.191910  \n",
      "2020-01-03      0.008520  \n",
      "2020-01-04      0.057022  \n",
      "2020-01-05      0.217245  \n",
      "2020-01-06      0.291628  \n",
      "            close   open   high   low  volume  pct_change  pct_change_2  \\\n",
      "2020-01-02   9.39  11.62  11.62  9.39  194447         0.0      0.191910   \n",
      "2020-01-03   9.47   9.39   9.47  9.39  166905         0.0      0.008520   \n",
      "2020-01-04   8.93   9.47   9.47  8.93  156091         0.0      0.057022   \n",
      "2020-01-05  10.87   8.93  10.87  8.93  176409         0.0      0.217245   \n",
      "2020-01-06   7.70  10.87  10.87  7.70  178237         0.0      0.291628   \n",
      "\n",
      "            pct_change_3  \n",
      "2020-01-02      0.191910  \n",
      "2020-01-03      0.008520  \n",
      "2020-01-04      0.057022  \n",
      "2020-01-05      0.217245  \n",
      "2020-01-06      0.291628  \n",
      "            close   open   high   low  volume  pct_change  pct_change_2  \\\n",
      "2020-01-02   9.39  11.62  11.62  9.39  194447         0.0      0.191910   \n",
      "2020-01-03   9.47   9.39   9.47  9.39  166905         0.0      0.008520   \n",
      "2020-01-04   8.93   9.47   9.47  8.93  156091         0.0      0.057022   \n",
      "2020-01-05  10.87   8.93  10.87  8.93  176409         0.0      0.217245   \n",
      "2020-01-06   7.70  10.87  10.87  7.70  178237         0.0      0.291628   \n",
      "\n",
      "            pct_change_3  \n",
      "2020-01-02      0.191910  \n",
      "2020-01-03      0.008520  \n",
      "2020-01-04      0.057022  \n",
      "2020-01-05      0.217245  \n",
      "2020-01-06      0.291628  \n",
      "            close   open   high   low  volume  pct_change  pct_change_2  \\\n",
      "2020-01-02   9.39  11.62  11.62  9.39  194447         0.0      0.191910   \n",
      "2020-01-03   9.47   9.39   9.47  9.39  166905         0.0      0.008520   \n",
      "2020-01-04   8.93   9.47   9.47  8.93  156091         0.0      0.057022   \n",
      "2020-01-05  10.87   8.93  10.87  8.93  176409         0.0      0.217245   \n",
      "2020-01-06   7.70  10.87  10.87  7.70  178237         0.0      0.291628   \n",
      "\n",
      "            pct_change_3  \n",
      "2020-01-02      0.191910  \n",
      "2020-01-03      0.008520  \n",
      "2020-01-04      0.057022  \n",
      "2020-01-05      0.217245  \n",
      "2020-01-06      0.291628  \n",
      "            close   open   high   low  volume  pct_change  pct_change_2  \\\n",
      "2020-01-02   9.39  11.62  11.62  9.39  194447         0.0      0.191910   \n",
      "2020-01-03   9.47   9.39   9.47  9.39  166905         0.0      0.008520   \n",
      "2020-01-04   8.93   9.47   9.47  8.93  156091         0.0      0.057022   \n",
      "2020-01-05  10.87   8.93  10.87  8.93  176409         0.0      0.217245   \n",
      "2020-01-06   7.70  10.87  10.87  7.70  178237         0.0      0.291628   \n",
      "\n",
      "            pct_change_3  \n",
      "2020-01-02      0.191910  \n",
      "2020-01-03      0.008520  \n",
      "2020-01-04      0.057022  \n",
      "2020-01-05      0.217245  \n",
      "2020-01-06      0.291628  \n",
      "            close   open   high   low  volume  pct_change  pct_change_2  \\\n",
      "2020-01-02   9.39  11.62  11.62  9.39  194447         0.0      0.191910   \n",
      "2020-01-03   9.47   9.39   9.47  9.39  166905         0.0      0.008520   \n",
      "2020-01-04   8.93   9.47   9.47  8.93  156091         0.0      0.057022   \n",
      "2020-01-05  10.87   8.93  10.87  8.93  176409         0.0      0.217245   \n",
      "2020-01-06   7.70  10.87  10.87  7.70  178237         0.0      0.291628   \n",
      "\n",
      "            pct_change_3  \n",
      "2020-01-02      0.191910  \n",
      "2020-01-03      0.008520  \n",
      "2020-01-04      0.057022  \n",
      "2020-01-05      0.217245  \n",
      "2020-01-06      0.291628  \n",
      "Time of 0 used: 1.1477868668735027 \n",
      "Time of 0 used: 0.11504536867141724 \n",
      "Time of 0 used: 0.0027624424546957016 \n",
      "Time of 1 used: 0.0022946838289499283 \n",
      "Time of 2 used: 0.002277964726090431 \n",
      "Time of 0 used: 0.0011348407715559006 \n",
      "Time of 1 used: 0.0010706018656492233 \n",
      "Time of 2 used: 0.0010464396327733994 \n"
     ]
    }
   ],
   "source": [
    "        import functools, time\n",
    "        # 定义测试代码执行时间的装饰器-三阶\n",
    "        def timeit_test(number=3, repeat=3):\n",
    "            def decorator(func):\n",
    "                @functools.wraps(func)\n",
    "                def wrapper(*args, **kwargs):\n",
    "                    for i in range(repeat):\n",
    "                        start = time.perf_counter()\n",
    "                        for _ in range(number):\n",
    "                            func(*args, **kwargs)\n",
    "                        elapsed = (time.perf_counter() - start)\n",
    "                        print('Time of {} used: {} '.format(i, elapsed))\n",
    "                return wrapper\n",
    "            return decorator\n",
    "\n",
    "        @timeit_test(number=10, repeat=1)\n",
    "        def forin_test():\n",
    "            forin_looping(df_concat)\n",
    "\n",
    "        @timeit_test(number=10, repeat=1)\n",
    "        def iterloop_test():\n",
    "            iterrows_loopiter(df_concat)\n",
    "\n",
    "        @timeit_test(number=10, repeat=1)\n",
    "        def apply_test():\n",
    "            df_concat['pct_change'] = df_concat.apply(lambda row: ((row['high']-row['low'])/row['open']), axis=1)\n",
    "\n",
    "        @timeit_test(number=10, repeat=3)\n",
    "        def series_test():\n",
    "            df_concat['pct_change'] = (df_concat['high']-df_concat['low'])/df_concat['open']\n",
    "\n",
    "        @timeit_test(number=10, repeat=3)\n",
    "        def ndarray_test():\n",
    "            df_concat['pct_change'] = (df_concat['high'].values-df_concat['low'].values)/df_concat['open'].values\n",
    "\n",
    "        forin_test() # Time of 0 used: 8.462902736\n",
    "        iterloop_test() # Time of 0 used: 4.0023713690000005\n",
    "        apply_test() # Time of 0 used: 0.25229068800000043\n",
    "        series_test() # Time of 0 used: 0.0036549980000000204\n",
    "        ndarray_test() # Time of 0 used: 0.0018982859999994162"
   ]
  },
  {
   "cell_type": "markdown",
   "metadata": {},
   "source": [
    "### 4.7 DataFrame save and reload"
   ]
  },
  {
   "cell_type": "code",
   "execution_count": 161,
   "metadata": {},
   "outputs": [
    {
     "name": "stdout",
     "output_type": "stream",
     "text": [
      "加载csv数据：\n",
      "             close   open   high   low  volume  pct_change  pct_change_2  \\\n",
      "2020-01-02   9.39  11.62  11.62  9.39  194447    0.191910      0.191910   \n",
      "2020-01-03   9.47   9.39   9.47  9.39  166905    0.008520      0.008520   \n",
      "2020-01-04   8.93   9.47   9.47  8.93  156091    0.057022      0.057022   \n",
      "2020-01-05  10.87   8.93  10.87  8.93  176409    0.217245      0.217245   \n",
      "2020-01-06   7.70  10.87  10.87  7.70  178237    0.291628      0.291628   \n",
      "\n",
      "            pct_change_3  \n",
      "2020-01-02      0.191910  \n",
      "2020-01-03      0.008520  \n",
      "2020-01-04      0.057022  \n",
      "2020-01-05      0.217245  \n",
      "2020-01-06      0.291628  \n"
     ]
    }
   ],
   "source": [
    "    df_concat.to_csv('table-stock.csv',columns=df_concat.columns,index=True)\n",
    "\n",
    "    df_csvload = pd.read_csv('table-stock.csv',parse_dates=True,index_col=0,encoding='gb2312')\n",
    "    print(f'加载csv数据：\\n {df_csvload.head()}')#打印前5行数据"
   ]
  },
  {
   "cell_type": "code",
   "execution_count": 162,
   "metadata": {},
   "outputs": [
    {
     "name": "stdout",
     "output_type": "stream",
     "text": [
      "close           float64\n",
      "open            float64\n",
      "high            float64\n",
      "low             float64\n",
      "volume            int64\n",
      "pct_change      float64\n",
      "pct_change_2    float64\n",
      "pct_change_3    float64\n",
      "dtype: object\n"
     ]
    }
   ],
   "source": [
    "print(df_csvload.dtypes)"
   ]
  },
  {
   "cell_type": "code",
   "execution_count": null,
   "metadata": {},
   "outputs": [],
   "source": []
  }
 ],
 "metadata": {
  "kernelspec": {
   "display_name": "base",
   "language": "python",
   "name": "python3"
  },
  "language_info": {
   "codemirror_mode": {
    "name": "ipython",
    "version": 3
   },
   "file_extension": ".py",
   "mimetype": "text/x-python",
   "name": "python",
   "nbconvert_exporter": "python",
   "pygments_lexer": "ipython3",
   "version": "3.11.9"
  }
 },
 "nbformat": 4,
 "nbformat_minor": 2
}
