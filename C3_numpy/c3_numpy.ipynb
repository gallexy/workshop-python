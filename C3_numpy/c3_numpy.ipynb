{
 "cells": [
  {
   "cell_type": "markdown",
   "metadata": {},
   "source": [
    "## 第三章 第三方库Numpy快速入门"
   ]
  },
  {
   "cell_type": "code",
   "execution_count": 1,
   "metadata": {},
   "outputs": [
    {
     "name": "stdout",
     "output_type": "stream",
     "text": [
      "1.26.4\n"
     ]
    }
   ],
   "source": [
    "import numpy as np\n",
    "\n",
    "print(np.__version__) # 1.15.1"
   ]
  },
  {
   "cell_type": "markdown",
   "metadata": {},
   "source": [
    "### 3.1 初识N维数组对象"
   ]
  },
  {
   "cell_type": "code",
   "execution_count": 15,
   "metadata": {},
   "outputs": [
    {
     "name": "stdout",
     "output_type": "stream",
     "text": [
      "[1.e+00 2.e+00 3.e+00 4.e+00 5.e+00 3.e+19]\n",
      "1\n",
      "(6,)\n",
      "float64\n"
     ]
    }
   ],
   "source": [
    "array_1x6 = np.array([1.0, 2.0, 3.0, 4.0, 5.0, 3e19])\n",
    "print(array_1x6)\n",
    "\"\"\"\n",
    "[1. 2. 3. 4. 5. 6.]\n",
    "\"\"\"\n",
    "print(array_1x6.ndim) # 1\n",
    "print(array_1x6.shape) # (6,)\n",
    "print(array_1x6.dtype) # float64"
   ]
  },
  {
   "cell_type": "code",
   "execution_count": null,
   "metadata": {},
   "outputs": [],
   "source": [
    "#创建形状为(1,6)的ndarray\n",
    "array_1x6 = np.array([[1.0, 2.0, 3.0, 4.0, 5.0, 6.0]], dtype=np.float64)"
   ]
  },
  {
   "cell_type": "code",
   "execution_count": 5,
   "metadata": {},
   "outputs": [
    {
     "name": "stdout",
     "output_type": "stream",
     "text": [
      "[[1.  2.  3.  4.  5.  6. ]\n",
      " [1.1 2.1 3.1 4.1 5.1 6.1]]\n",
      "2\n",
      "(2, 6)\n",
      "float64\n"
     ]
    }
   ],
   "source": [
    "array_2x6 = np.array([[1.0, 2.0, 3.0, 4.0, 5.0, 6.0], [1.1, 2.1, 3.1, 4.1, 5.1, 6.1]])\n",
    "print(array_2x6)\n",
    "\"\"\"\n",
    "[[1.  2.  3.  4.  5.  6. ]\n",
    "    [1.1 2.1 3.1 4.1 5.1 6.1]]\n",
    "\"\"\"\n",
    "\n",
    "print(array_2x6.ndim) # 2\n",
    "print(array_2x6.shape) # (2, 6)\n",
    "print(array_2x6.dtype) # float64"
   ]
  },
  {
   "cell_type": "code",
   "execution_count": 9,
   "metadata": {},
   "outputs": [
    {
     "name": "stdout",
     "output_type": "stream",
     "text": [
      "[[[ 1.   2.   3.   4.   5.   6. ]\n",
      "  [ 1.1  2.1  3.1  4.1  5.1  6.1]\n",
      "  [ 1.2  2.2  3.2  4.2  5.2  6.2]]\n",
      "\n",
      " [[ 7.   8.   9.  10.  11.  12. ]\n",
      "  [ 7.1  8.1  9.1 10.1 11.1 12.1]\n",
      "  [ 7.2  8.2  9.2 10.2 11.2 12.2]]]\n",
      "3\n",
      "(2, 3, 6)\n",
      "float64\n"
     ]
    }
   ],
   "source": [
    "\n",
    "array_2x3x6 = np.array([[[1.0,2.0,3.0,4.0,5.0,6],[1.1,2.1,3.1,4.1,5.1,6.1],[1.2,2.2,3.2,4.2,5.2,6.2]],\n",
    "                        [[7.0,8.0,9.0,10.0,11.0,12.0],[7.1,8.1,9.1,10.1,11.1,12.1],[7.2,8.2,9.2,10.2,11.2,12.2]]])\n",
    "print(array_2x3x6)\n",
    "\"\"\"\n",
    "[[[ 1.   2.   3.   4.   5.   6. ]\n",
    "    [ 1.1  2.1  3.1  4.1  5.1  6.1]\n",
    "    [ 1.2  2.2  3.2  4.2  5.2  6.2]]\n",
    "    \n",
    "    [[ 7.   8.   9.  10.  11.  12. ]\n",
    "    [ 7.1  8.1  9.1 10.1 11.1 12.1]\n",
    "    [ 7.2  8.2  9.2 10.2 11.2 12.2]]]\n",
    "\"\"\"\n",
    "print(array_2x3x6.ndim) # 3\n",
    "print(array_2x3x6.shape) # (2, 3, 6)\n",
    "print(array_2x3x6.dtype) # float64"
   ]
  },
  {
   "cell_type": "markdown",
   "metadata": {},
   "source": [
    "### 3.2 N维数组对象特性 矢量运算和广播特性"
   ]
  },
  {
   "cell_type": "code",
   "execution_count": 7,
   "metadata": {},
   "outputs": [
    {
     "name": "stdout",
     "output_type": "stream",
     "text": [
      "[[6, 6, 6], [7, 7, 7], [8, 8, 8], [9, 9, 9]]\n"
     ]
    }
   ],
   "source": [
    "# Python for...in 循环\n",
    "list_4x3_a = [[1,1,1],[2,2,2],[3,3,3],[4,4,4]]\n",
    "list_4x3_b = [[5,5,5],[5,5,5],[5,5,5],[5,5,5]]\n",
    "list_4x3_c = [[0,0,0],[0,0,0],[0,0,0],[0,0,0]]\n",
    "\n",
    "for i in range(4):\n",
    "    for j in range(3):\n",
    "        list_4x3_c[i][j] = list_4x3_a[i][j] + list_4x3_b[i][j]\n",
    "print(list_4x3_c) # [[6, 6, 6], [7, 7, 7], [8, 8, 8], [9, 9, 9]]"
   ]
  },
  {
   "cell_type": "code",
   "execution_count": 18,
   "metadata": {},
   "outputs": [
    {
     "name": "stdout",
     "output_type": "stream",
     "text": [
      "[[6 6 6]\n",
      " [7 7 7]\n",
      " [8 8 8]\n",
      " [9 9 9]]\n",
      "[[6 6 6]\n",
      " [7 7 7]\n",
      " [8 8 8]\n",
      " [9 9 9]]\n"
     ]
    }
   ],
   "source": [
    "# Numpy 矢量化运算——表达式\n",
    "array_4x3_a = np.array([[1,1,1],[2,2,2],[3,3,3],[4,4,4]]) # 创建'numpy.ndarray'多维数组\n",
    "array_4x3_b = np.array([[5,5,5],[5,5,5],[5,5,5],[5,5,5]])\n",
    "print(array_4x3_a+array_4x3_b)\n",
    "\"\"\"\n",
    "[[6 6 6]\n",
    "    [7 7 7]\n",
    "    [8 8 8]\n",
    "    [9 9 9]]\n",
    "\"\"\"\n",
    "\n",
    "# Numpy 广播特性——标量\n",
    "print(array_4x3_a+5)\n"
   ]
  },
  {
   "cell_type": "code",
   "execution_count": 20,
   "metadata": {},
   "outputs": [
    {
     "name": "stdout",
     "output_type": "stream",
     "text": [
      "[[2 3 4]\n",
      " [3 4 5]\n",
      " [4 5 6]\n",
      " [5 6 7]]\n",
      "[[1 1 1]\n",
      " [2 2 2]\n",
      " [3 3 3]\n",
      " [4 4 4]]\n",
      "[[1]\n",
      " [1]]\n"
     ]
    }
   ],
   "source": [
    "# Numpy 广播特性——兼容规则\n",
    "array_4x3 = np.array([[1,1,1],[2,2,2],[3,3,3],[4,4,4]])\n",
    "array_1x3 = np.array([1,2,3])\n",
    "print(array_4x3 + array_1x3)\n",
    "\"\"\"\n",
    "[[2 3 4]\n",
    "    [3 4 5]\n",
    "    [4 5 6]\n",
    "    [5 6 7]]\n",
    "\"\"\"\n",
    "\n",
    "array_4x3 = np.array([[1,1,1],[2,2,2],[3,3,3],[4,4,4]])\n",
    "print(array_4x3)\n",
    "\"\"\"\n",
    "[[1 1 1]\n",
    "    [2 2 2]\n",
    "    [3 3 3]\n",
    "    [4 4 4]]\n",
    "\"\"\"\n",
    "array_2x1 = np.array([[1],[1]])\n",
    "print(array_2x1)"
   ]
  },
  {
   "cell_type": "code",
   "execution_count": 22,
   "metadata": {},
   "outputs": [
    {
     "ename": "ValueError",
     "evalue": "operands could not be broadcast together with shapes (4,3) (2,1) ",
     "output_type": "error",
     "traceback": [
      "\u001b[0;31m---------------------------------------------------------------------------\u001b[0m",
      "\u001b[0;31mValueError\u001b[0m                                Traceback (most recent call last)",
      "Cell \u001b[0;32mIn[22], line 1\u001b[0m\n\u001b[0;32m----> 1\u001b[0m \u001b[38;5;28mprint\u001b[39m(array_4x3 \u001b[38;5;241m+\u001b[39m array_2x1)\n",
      "\u001b[0;31mValueError\u001b[0m: operands could not be broadcast together with shapes (4,3) (2,1) "
     ]
    }
   ],
   "source": [
    "print(array_4x3 + array_2x1)\n",
    "# ValueError: operands could not be broadcast together with shapes (4,3) (2,1)"
   ]
  },
  {
   "cell_type": "code",
   "execution_count": 24,
   "metadata": {},
   "outputs": [
    {
     "name": "stdout",
     "output_type": "stream",
     "text": [
      "[[1]\n",
      " [1]\n",
      " [1]\n",
      " [1]]\n",
      "[[2 2 2]\n",
      " [3 3 3]\n",
      " [4 4 4]\n",
      " [5 5 5]]\n"
     ]
    }
   ],
   "source": [
    "\n",
    "array_4x3 = np.array([[1,1,1],[2,2,2],[3,3,3],[4,4,4]])\n",
    "array_4x1 = np.array([[1],[1],[1],[1]])\n",
    "print(array_4x1)\n",
    "\"\"\"\n",
    "[[1]\n",
    "    [1]\n",
    "    [1]\n",
    "    [1]]    \n",
    "\"\"\"\n",
    "print(array_4x3 + array_4x1)\n"
   ]
  },
  {
   "cell_type": "markdown",
   "metadata": {},
   "source": [
    "### 3.3 高效处理的性能对比"
   ]
  },
  {
   "cell_type": "code",
   "execution_count": 27,
   "metadata": {},
   "outputs": [
    {
     "name": "stdout",
     "output_type": "stream",
     "text": [
      "Time of 0 used: 0.03561173565685749 \n",
      "Time of 0 used: 0.0005561616271734238 \n"
     ]
    }
   ],
   "source": [
    "# 引用于2.6.2小节\n",
    "import functools,time\n",
    "# 定义测试代码执行时间的装饰器-三阶\n",
    "def timeit_test(number=3, repeat=3):\n",
    "    def decorator(func):\n",
    "        @functools.wraps(func)\n",
    "        def wrapper(*args, **kwargs):\n",
    "            for i in range(repeat):\n",
    "                start = time.perf_counter()\n",
    "                for _ in range(number):\n",
    "                    func(*args, **kwargs)\n",
    "                elapsed = (time.perf_counter() - start)\n",
    "                print('Time of {} used: {} '.format(i, elapsed))\n",
    "\n",
    "        return wrapper\n",
    "    return decorator\n",
    "\n",
    "#测试Numpy数组和等价的Python列表性能差距\n",
    "@timeit_test(number=1, repeat=1)\n",
    "def list_test():\n",
    "    my_list = list(range(1000000))\n",
    "\n",
    "@timeit_test(number=1, repeat=1)\n",
    "def ndarray_test():\n",
    "    my_arr = np.arange(1000000)\n",
    "\n",
    "list_test() # Time of 0 used: 0.04712673199999998\n",
    "ndarray_test() # Time of 0 used: 0.0014547089999999985    "
   ]
  },
  {
   "cell_type": "code",
   "execution_count": 28,
   "metadata": {},
   "outputs": [
    {
     "name": "stdout",
     "output_type": "stream",
     "text": [
      "Time of 0 used: 0.09463186748325825 \n",
      "Time of 0 used: 0.0028292834758758545 \n"
     ]
    }
   ],
   "source": [
    "@timeit_test(number=1, repeat=1)\n",
    "def list_test():\n",
    "    my_list = []\n",
    "    for num in range(1000000):\n",
    "        my_list.append(num * 2.0)\n",
    "\n",
    "@timeit_test(number=1, repeat=1)\n",
    "def ndarray_test():\n",
    "    my_arr = np.arange(1000000)\n",
    "    my_arr = my_arr * 2.0\n",
    "\n",
    "list_test() # Time of 0 used: 0.15243656000000003\n",
    "ndarray_test() # Time of 0 used: 0.009769811999999989"
   ]
  },
  {
   "cell_type": "code",
   "execution_count": 36,
   "metadata": {},
   "outputs": [
    {
     "name": "stdout",
     "output_type": "stream",
     "text": [
      "(4, 3)\n",
      "float64\n",
      "(252, 84)\n",
      "<U21\n",
      "<U21 (252, 84)\n",
      "[['1.1.11' '1' '1']\n",
      " ['2' '2' 'a666666666sdfasdfasdf']\n",
      " ['3' '3' '3']\n",
      " ['4' '4' '4']]\n"
     ]
    }
   ],
   "source": [
    "# ndarray处理数据的机制\n",
    "print(np.array([[1.1,1,1],[2,2,2],[3,3,3],[4,4,4]]).shape)\n",
    "# (4, 3)\n",
    "print(np.array([[1.1,1,1],[2,2,2],[3,3,3],[4,4,4]]).dtype)\n",
    "# int64\n",
    "print(np.array([['1.1.11',1,1],[2,2,2],[3,3,3],[4,4,4]]).strides)\n",
    "a=np.array([['1.1.11',1,1],[2,2,2],[3,3,3],[4,4,4]])\n",
    "print(a.dtype)\n",
    "a[1][2]='a666666666sdfasdfasdfasdfasdfasasd9877770000'\n",
    "print(a.dtype,a.strides)\n",
    "print(a)"
   ]
  },
  {
   "cell_type": "markdown",
   "metadata": {},
   "source": [
    "### 条件表达式选取元素"
   ]
  },
  {
   "cell_type": "code",
   "execution_count": 37,
   "metadata": {},
   "outputs": [
    {
     "name": "stdout",
     "output_type": "stream",
     "text": [
      "[[1.1 1.2 1.3]\n",
      " [2.1 2.2 2.3]\n",
      " [3.1 3.2 3.3]\n",
      " [4.1 4.2 4.3]]\n",
      "[[1.1 1.2 1.3]]\n",
      "[1.2]\n",
      "[[ True  True  True]\n",
      " [False False False]\n",
      " [False False False]\n",
      " [False False False]]\n",
      "[1.1 1.2 1.3]\n"
     ]
    }
   ],
   "source": [
    "array_4x3 = np.array([[1.1, 1.2, 1.3], [2.1, 2.2, 2.3], [3.1, 3.2, 3.3], [4.1, 4.2, 4.3]])\n",
    "print(array_4x3)\n",
    "\"\"\"\n",
    "[[1.1 1.2 1.3]\n",
    "    [2.1 2.2 2.3]\n",
    "    [3.1 3.2 3.3]\n",
    "    [4.1 4.2 4.3]]\n",
    "\"\"\"\n",
    "\n",
    "print(array_4x3[[True, False, False, False]])\n",
    "# [[1.1 1.2 1.3]]\n",
    "\n",
    "print(array_4x3[[True, False, False, False], 1])\n",
    "# [1.2]\n",
    "\n",
    "print(array_4x3 < 2)\n",
    "\"\"\"\n",
    "[[ True  True  True]\n",
    "    [False False False]\n",
    "    [False False False]\n",
    "    [False False False]]\n",
    "\"\"\"\n",
    "print(array_4x3[array_4x3 < 2])\n",
    "# [1.1 1.2 1.3]"
   ]
  },
  {
   "cell_type": "markdown",
   "metadata": {},
   "source": [
    "### 3.4 常用数组处理函数"
   ]
  },
  {
   "cell_type": "code",
   "execution_count": 38,
   "metadata": {},
   "outputs": [
    {
     "name": "stdout",
     "output_type": "stream",
     "text": [
      "[[1. 1. 1. 1.]\n",
      " [1. 1. 1. 1.]]\n"
     ]
    }
   ],
   "source": [
    "    # ones(shape, dtype=None, order='C')\n",
    "    array_one = np.ones(shape=(2, 4))\n",
    "    print(array_one)"
   ]
  },
  {
   "cell_type": "code",
   "execution_count": 39,
   "metadata": {},
   "outputs": [
    {
     "name": "stdout",
     "output_type": "stream",
     "text": [
      "[[10 10 10 10]\n",
      " [10 10 10 10]]\n"
     ]
    }
   ],
   "source": [
    "    # np.full(shape, fill_value, dtype=None, order=’C’)\n",
    "    array_full = np.full(shape=(2, 4), fill_value=10)\n",
    "    print(array_full)"
   ]
  },
  {
   "cell_type": "code",
   "execution_count": 42,
   "metadata": {},
   "outputs": [
    {
     "name": "stdout",
     "output_type": "stream",
     "text": [
      "[[1. 0. 0. 0. 0. 0.]\n",
      " [0. 1. 0. 0. 0. 0.]\n",
      " [0. 0. 1. 0. 0. 0.]\n",
      " [0. 0. 0. 1. 0. 0.]]\n"
     ]
    }
   ],
   "source": [
    "    # np.eye(N, M=None, k=0, dtype=float)\n",
    "    array_eye =  np.eye(4, M=6)\n",
    "    print(array_eye)"
   ]
  },
  {
   "cell_type": "code",
   "execution_count": 43,
   "metadata": {},
   "outputs": [
    {
     "name": "stdout",
     "output_type": "stream",
     "text": [
      "[0.  0.5 1.  1.5 2.  2.5 3.  3.5 4.  4.5]\n"
     ]
    }
   ],
   "source": [
    "    # np.linspace(start, stop, num=50, endpoint=True, retstep=False, dtype=None) 等差数列\n",
    "    # start指定开始值;stop指定终值;num指定元素个数;endpoint指定等差数列是否包含终值\n",
    "    array_linspace = np.linspace(start=0, stop=5, num=10, endpoint=False)\n",
    "    print(array_linspace)"
   ]
  },
  {
   "cell_type": "code",
   "execution_count": 45,
   "metadata": {},
   "outputs": [
    {
     "name": "stdout",
     "output_type": "stream",
     "text": [
      "[3 1 2 1 1 1 2 2 3 2]\n"
     ]
    }
   ],
   "source": [
    "    np.random.seed(3)  # 设置相同的seed 每次生成的随机数相同 便于调试\n",
    "    # randint(low, high=None, size=None, dtype='l') # 指定上下限范围的随机数组\n",
    "    array_randint = np.random.randint(1, 4, size=10)\n",
    "    print(array_randint)"
   ]
  },
  {
   "cell_type": "code",
   "execution_count": 46,
   "metadata": {},
   "outputs": [
    {
     "name": "stdout",
     "output_type": "stream",
     "text": [
      "[0 1 0 0 0 0 0 0 0 1]\n"
     ]
    }
   ],
   "source": [
    "    np.random.seed(1)  # 设置相同的seed 每次生成的随机数相同 便于调试\n",
    "    # binomial(n, p, size=None) # 符合二项分布的随机数组\n",
    "    array_binomial = np.random.binomial(1, 0.5, size=10)\n",
    "    print(array_binomial)"
   ]
  },
  {
   "cell_type": "code",
   "execution_count": 47,
   "metadata": {},
   "outputs": [
    {
     "name": "stdout",
     "output_type": "stream",
     "text": [
      "[[ 1.62434536 -0.61175641 -0.52817175 -1.07296862]\n",
      " [ 0.86540763 -2.3015387   1.74481176 -0.7612069 ]\n",
      " [ 0.3190391  -0.24937038  1.46210794 -2.06014071]]\n"
     ]
    }
   ],
   "source": [
    "    np.random.seed(1)  # 设置相同的seed 每次生成的随机数相同 便于调试\n",
    "    # randn(*dn) # 标准正态分布随机数组\n",
    "    array_randn = np.random.randn(3, 4)\n",
    "    print(array_randn)"
   ]
  },
  {
   "cell_type": "code",
   "execution_count": 48,
   "metadata": {},
   "outputs": [
    {
     "name": "stdout",
     "output_type": "stream",
     "text": [
      "[[4.17022005e-01 7.20324493e-01 1.14374817e-04 3.02332573e-01]\n",
      " [1.46755891e-01 9.23385948e-02 1.86260211e-01 3.45560727e-01]\n",
      " [3.96767474e-01 5.38816734e-01 4.19194514e-01 6.85219500e-01]]\n"
     ]
    }
   ],
   "source": [
    "    np.random.seed(1)  # 设置相同的seed 每次生成的随机数相同 便于调试\n",
    "    # rand(*dn) # 0-1之间均匀分布的随机数组\n",
    "    array_rand = np.random.rand(3, 4)\n",
    "    print(array_rand)"
   ]
  },
  {
   "cell_type": "code",
   "execution_count": 49,
   "metadata": {},
   "outputs": [
    {
     "name": "stdout",
     "output_type": "stream",
     "text": [
      "[[[11.62434536  9.38824359]\n",
      "  [ 9.47182825  8.92703138]\n",
      "  [10.86540763  7.6984613 ]]]\n"
     ]
    }
   ],
   "source": [
    "    np.random.seed(1)  # 设置相同的seed 每次生成的随机数相同 便于调试\n",
    "    # normal(loc=0.0, scale=1.0, size=None)\n",
    "    array_normal = np.random.normal(loc=10.0, scale=1.0, size=(1,3,2))\n",
    "    print(array_normal)"
   ]
  },
  {
   "cell_type": "code",
   "execution_count": 50,
   "metadata": {},
   "outputs": [
    {
     "name": "stdout",
     "output_type": "stream",
     "text": [
      "[[ 1  0  1]\n",
      " [-1  1  1]\n",
      " [ 1 -1  1]\n",
      " [ 1  1 -1]]\n"
     ]
    }
   ],
   "source": [
    "    array_4x3_234 = np.array([[1, 0, 1], [-2, 2, 2], [3, -3, 3], [4, 4, -4]])\n",
    "    array_sign = np.sign(array_4x3_234)\n",
    "    print(array_sign)"
   ]
  },
  {
   "cell_type": "code",
   "execution_count": 51,
   "metadata": {},
   "outputs": [
    {
     "name": "stdout",
     "output_type": "stream",
     "text": [
      "[[False False False]\n",
      " [False  True False]\n",
      " [False  True False]\n",
      " [False False False]]\n"
     ]
    }
   ],
   "source": [
    "    array_4x3_235 = np.array([[1, 1, 1], [-2, np.nan, 2], [3, np.nan, 3], [4, 4, -4]])\n",
    "    array_isnan = np.isnan(array_4x3_235)\n",
    "    print(array_isnan)"
   ]
  },
  {
   "cell_type": "code",
   "execution_count": 53,
   "metadata": {},
   "outputs": [
    {
     "name": "stdout",
     "output_type": "stream",
     "text": [
      "[[0 0 0]\n",
      " [0 5 0]\n",
      " [0 5 0]\n",
      " [0 0 0]]\n"
     ]
    }
   ],
   "source": [
    "    # np.where(cond,x,y)：满足条件（cond）输出x，不满足输出y\n",
    "    array_4x3_236 = np.array([[1, 1, 1], [-2, 8, 2], [3, 9, 3], [4, 4, -4]])\n",
    "    array_where = np.where(array_4x3_236 > 5, 5, 0)\n",
    "    print(array_where)"
   ]
  },
  {
   "cell_type": "markdown",
   "metadata": {},
   "source": [
    "### 3.4.3 线性代数处理函数"
   ]
  },
  {
   "cell_type": "code",
   "execution_count": 54,
   "metadata": {},
   "outputs": [
    {
     "name": "stdout",
     "output_type": "stream",
     "text": [
      "[[1 3 5]\n",
      " [2 4 6]]\n"
     ]
    }
   ],
   "source": [
    "    matrix_a = np.mat('1 3 5; 2 4 6')\n",
    "    matrix_b = np.mat([[1, 3, 5], [2, 4, 6]])\n",
    "    print(matrix_a)"
   ]
  },
  {
   "cell_type": "code",
   "execution_count": 56,
   "metadata": {},
   "outputs": [
    {
     "name": "stdout",
     "output_type": "stream",
     "text": [
      "[[1 3 5]\n",
      " [2 4 6]]\n",
      "<class 'numpy.matrix'>\n",
      "<class 'numpy.matrix'>\n"
     ]
    }
   ],
   "source": [
    "    print(matrix_b)\n",
    "    print(type(matrix_a)) # <class 'numpy.matrixlib.defmatrix.matrix'>\n",
    "    print(type(matrix_b)) # <class 'numpy.matrixlib.defmatrix.matrix'>"
   ]
  },
  {
   "cell_type": "code",
   "execution_count": 57,
   "metadata": {},
   "outputs": [
    {
     "name": "stdout",
     "output_type": "stream",
     "text": [
      "[[0.41919451 0.6852195  0.20445225 0.87811744]\n",
      " [0.02738759 0.67046751 0.4173048  0.55868983]\n",
      " [0.14038694 0.19810149 0.80074457 0.96826158]\n",
      " [0.31342418 0.69232262 0.87638915 0.89460666]]\n"
     ]
    }
   ],
   "source": [
    "    # 构建一个4*4的随机数组\n",
    "    array_1 = np.random.rand(4, 4)\n",
    "    print(array_1)"
   ]
  },
  {
   "cell_type": "code",
   "execution_count": 58,
   "metadata": {},
   "outputs": [
    {
     "name": "stdout",
     "output_type": "stream",
     "text": [
      "<class 'numpy.ndarray'>\n",
      "[[0.41919451 0.6852195  0.20445225 0.87811744]\n",
      " [0.02738759 0.67046751 0.4173048  0.55868983]\n",
      " [0.14038694 0.19810149 0.80074457 0.96826158]\n",
      " [0.31342418 0.69232262 0.87638915 0.89460666]]\n"
     ]
    }
   ],
   "source": [
    "    print(type(array_1)) # <class 'numpy.ndarray'>\n",
    "    # 使用np.mat函数将数组转化为矩阵\n",
    "    matrix_1 = np.mat(array_1)\n",
    "    print(matrix_1)"
   ]
  },
  {
   "cell_type": "code",
   "execution_count": 59,
   "metadata": {},
   "outputs": [
    {
     "name": "stdout",
     "output_type": "stream",
     "text": [
      "<class 'numpy.matrix'>\n",
      "[[ 7 10]\n",
      " [15 22]]\n"
     ]
    }
   ],
   "source": [
    "    print(type(matrix_1)) # <class 'numpy.matrixlib.defmatrix.matrix'>\n",
    "\n",
    "    A = np.mat([[1, 2], [3, 4]])\n",
    "    B = np.mat([[1, 2], [3, 4]])\n",
    "    print(np.dot(A, B))"
   ]
  },
  {
   "cell_type": "code",
   "execution_count": 60,
   "metadata": {},
   "outputs": [
    {
     "name": "stdout",
     "output_type": "stream",
     "text": [
      "[[1 2]\n",
      " [3 4]]\n",
      "[[-2.   1. ]\n",
      " [ 1.5 -0.5]]\n"
     ]
    }
   ],
   "source": [
    "    A = np.mat([[1, 2], [3, 4]])\n",
    "    B = np.linalg.inv(A)\n",
    "    print(A)\n",
    "    \"\"\"\n",
    "    [[1 2]\n",
    "     [3 4]]\n",
    "    \"\"\"\n",
    "    print(B)"
   ]
  },
  {
   "cell_type": "code",
   "execution_count": 61,
   "metadata": {},
   "outputs": [
    {
     "name": "stdout",
     "output_type": "stream",
     "text": [
      "计算：A^(-1)B：\n",
      "[[ 5.]\n",
      " [ 3.]\n",
      " [-2.]]\n"
     ]
    }
   ],
   "source": [
    "    A = np.mat([[1, 1, 1], [0, 2, 5], [2, 5, -1]])\n",
    "    B = np.mat([[6], [-4], [27]])\n",
    "    print('计算：A^(-1)B：')\n",
    "    X = np.linalg.solve(A, B)\n",
    "    print(X) # x = 5, y = 3, z = -2 的解"
   ]
  },
  {
   "cell_type": "code",
   "execution_count": null,
   "metadata": {},
   "outputs": [],
   "source": []
  }
 ],
 "metadata": {
  "kernelspec": {
   "display_name": "base",
   "language": "python",
   "name": "python3"
  },
  "language_info": {
   "codemirror_mode": {
    "name": "ipython",
    "version": 3
   },
   "file_extension": ".py",
   "mimetype": "text/x-python",
   "name": "python",
   "nbconvert_exporter": "python",
   "pygments_lexer": "ipython3",
   "version": "3.11.7"
  }
 },
 "nbformat": 4,
 "nbformat_minor": 2
}
