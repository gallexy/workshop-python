{
 "cells": [
  {
   "cell_type": "markdown",
   "metadata": {},
   "source": [
    "# 1.1 开启Python的第一个程序"
   ]
  },
  {
   "cell_type": "code",
   "execution_count": 98,
   "metadata": {},
   "outputs": [
    {
     "name": "stdout",
     "output_type": "stream",
     "text": [
      "['False', 'None', 'True', 'and', 'as', 'assert', 'async', 'await', 'break', 'class', 'continue', 'def', 'del', 'elif', 'else', 'except', 'finally', 'for', 'from', 'global', 'if', 'import', 'in', 'is', 'lambda', 'nonlocal', 'not', 'or', 'pass', 'raise', 'return', 'try', 'while', 'with', 'yield']\n"
     ]
    }
   ],
   "source": [
    "import keyword\n",
    "print(keyword.kwlist)"
   ]
  },
  {
   "cell_type": "markdown",
   "metadata": {},
   "source": [
    "# 2.2.4调试助手print()函数"
   ]
  },
  {
   "cell_type": "code",
   "execution_count": 2,
   "metadata": {},
   "outputs": [
    {
     "name": "stdout",
     "output_type": "stream",
     "text": [
      "Quant Trade\n",
      "10.68\n"
     ]
    },
    {
     "name": "stdout",
     "output_type": "stream",
     "text": [
      "Quant Trade\n",
      "[1, 2, 'a']\n"
     ]
    }
   ],
   "source": [
    "print(\"Quant Trade\")  # 输出字符串\n",
    "print(10.68)  # 输出数字\n",
    "\n",
    "str_var = \"Quant Trade\" # 字符串\n",
    "print(str_var)  # 输出变量\n",
    "\n",
    "l_var = [1, 2, 'a']  # 列表\n",
    "print(l_var)\n",
    "\n",
    "\n",
    "\n"
   ]
  },
  {
   "cell_type": "code",
   "execution_count": 100,
   "metadata": {},
   "outputs": [
    {
     "name": "stdout",
     "output_type": "stream",
     "text": [
      "[1, 2, 'a']\n"
     ]
    }
   ],
   "source": [
    "l_var = [1, 2, 'a']  # 列表\n",
    "print(l_var)"
   ]
  },
  {
   "cell_type": "code",
   "execution_count": 101,
   "metadata": {},
   "outputs": [
    {
     "name": "stdout",
     "output_type": "stream",
     "text": [
      "(1, 2, 'a')\n"
     ]
    }
   ],
   "source": [
    "t_var = (1, 2, 'a')  # 元组\n",
    "print(t_var)"
   ]
  },
  {
   "cell_type": "code",
   "execution_count": 102,
   "metadata": {},
   "outputs": [
    {
     "name": "stdout",
     "output_type": "stream",
     "text": [
      "{'a': 1, 'b': 2}\n"
     ]
    }
   ],
   "source": [
    "d_var = {'a': 1, 'b': 2}  # 字典\n",
    "print(d_var)"
   ]
  },
  {
   "cell_type": "code",
   "execution_count": 103,
   "metadata": {},
   "outputs": [
    {
     "name": "stdout",
     "output_type": "stream",
     "text": [
      "This is Quant Trade and Price is 10.68\n",
      "time is:2019-05-07 21:56:11\n"
     ]
    }
   ],
   "source": [
    "print(\"This is %s and Price is %2.2f\" %(\"Quant Trade\", 10.68))\n",
    "# This is Quant Trade and Price is 10.68\n",
    "\n",
    "str_time = \"2019-05-07 21:56:11\"\n",
    "print(f'time is:{str_time}')"
   ]
  },
  {
   "cell_type": "markdown",
   "metadata": {},
   "source": [
    "# 2.3 何为Python动态类型特征\n",
    "\n",
    "## 2.3.1 变量的种类"
   ]
  },
  {
   "cell_type": "code",
   "execution_count": 104,
   "metadata": {},
   "outputs": [
    {
     "name": "stdout",
     "output_type": "stream",
     "text": [
      "************************************\n",
      "<class 'bool'>\n",
      "<class 'int'>\n",
      "<class 'float'>\n",
      "<class 'complex'>\n"
     ]
    }
   ],
   "source": [
    "print(\"************************************\")\n",
    "# 查看数值的类型  注：type()用于查询数据类型\n",
    "print(type(True))  # 结果为：<class 'bool'>\n",
    "print(type(123))  # 结果为：<class 'int'>\n",
    "print(type(1.12))  # 结果为：<class 'float'>\n",
    "print(type(3j + 1))  # 结果为：<class 'complex'>"
   ]
  },
  {
   "cell_type": "code",
   "execution_count": 105,
   "metadata": {},
   "outputs": [
    {
     "name": "stdout",
     "output_type": "stream",
     "text": [
      "4\n",
      "-2\n",
      "3\n",
      "0.3333333333333333\n",
      "1\n",
      "1\n",
      "0\n"
     ]
    }
   ],
   "source": [
    "a = 1\n",
    "b = 3\n",
    "print(a + b)  # 结果为：4\n",
    "print(a - b)  # 结果为：-2\n",
    "print(a * b)  # 结果为：3\n",
    "print(a / b)  # 结果为：0.3333333333333333\n",
    "print(a % b)  # 结果为：1\n",
    "print(a ** b)  # 结果为：1\n",
    "print(a // b)  # 结果为：0"
   ]
  },
  {
   "cell_type": "code",
   "execution_count": 106,
   "metadata": {},
   "outputs": [
    {
     "name": "stdout",
     "output_type": "stream",
     "text": [
      "one quote!\n",
      "one ' quote!\n",
      "one \" quote!\n",
      "two ' quote!\n",
      "two \" quote!\n",
      "three quote!\n",
      "three ' quote!\n",
      "three \"\" quote!\n",
      "three \"\"\" quote!\n"
     ]
    }
   ],
   "source": [
    "# 查看单引号、双引号、三引号包围的字符串常量\n",
    "print('one quote!')  # 结果为：one quote!\n",
    "print('one \\' quote!')  # 结果为：one ' quote!\n",
    "print('one \" quote!')  # 结果为：one \" quote!\n",
    "print(\"two ' quote!\")  # 结果为：two ' quote!\n",
    "print(\"two \\\" quote!\")  # 结果为：two \" quote!\n",
    "print(\"\"\"three quote!\"\"\")  # 结果为：three quote!\n",
    "print(\"\"\"three ' quote!\"\"\")  # 结果为：three ' quote!\n",
    "print(\"\"\"three \"\" quote!\"\"\")  # 结果为：three \"\" quote!\n",
    "print(\"\"\"three \\\"\"\" quote!\"\"\")  # 结果为：three \"\"\" quote!"
   ]
  },
  {
   "cell_type": "code",
   "execution_count": 107,
   "metadata": {},
   "outputs": [
    {
     "name": "stdout",
     "output_type": "stream",
     "text": [
      "2019\n",
      "['open', 2019, 2020, [1.1, 1.2]]\n",
      "['close', 'open', 2001, 2020, [1.1, 1.2], '10%']\n",
      "6\n",
      "1\n",
      "['close', 'open', 2020, [1.1, 1.2], '10%', '20%']\n"
     ]
    }
   ],
   "source": [
    "# 创建列表变量\n",
    "list_temp = ['close', 'open', 2019, 2020, [1.1, 1.2], \"10%\"]\n",
    "\n",
    "# 列表访问\n",
    "print(list_temp[2])  # 访问列表中下标为2的元素 结果为：2019\n",
    "print(list_temp[1:5])  # 访问列表中下标为1到4的元素 结果为：['open', 2019, 2020, [1.1, 1.2]]\n",
    "# 列表二次赋值\n",
    "list_temp[2] = 2001;\n",
    "print(list_temp)  # 列表内容变为：['close', 'open', 2001, 2020, [1.1, 1.2], '10%']\n",
    "\n",
    "# 统计列表元素个数\n",
    "print(len(list_temp)) # 结果为：6\n",
    "# 从列表中找出某个值第一个匹配项的索引位置\n",
    "print(list_temp.index('open')) # 结果为：1\n",
    "# 在列表末尾添加新的元素\n",
    "list_temp.append(\"20%\")\n",
    "# 移除列表中某个值的第一个匹配项\n",
    "list_temp.remove(2001)\n",
    "print(list_temp)  # 列表内容变为：['close', 'open', 2020, [1.1, 1.2], '10%', '20%']"
   ]
  },
  {
   "cell_type": "code",
   "execution_count": 108,
   "metadata": {},
   "outputs": [],
   "source": [
    "list_temp[2]='ttt'"
   ]
  },
  {
   "cell_type": "code",
   "execution_count": 109,
   "metadata": {},
   "outputs": [
    {
     "data": {
      "text/plain": [
       "'ttt'"
      ]
     },
     "execution_count": 109,
     "metadata": {},
     "output_type": "execute_result"
    }
   ],
   "source": [
    "list_temp[2]"
   ]
  },
  {
   "cell_type": "markdown",
   "metadata": {},
   "source": [
    "#### 创建元组并初始化"
   ]
  },
  {
   "cell_type": "code",
   "execution_count": 110,
   "metadata": {},
   "outputs": [
    {
     "name": "stdout",
     "output_type": "stream",
     "text": [
      "('open', 2019, 2020, [1.1, 1.2])\n",
      "6\n",
      "2\n",
      "1.1\n"
     ]
    }
   ],
   "source": [
    "tuple_temp = ('close', 'open', 2019, 2020, [1.1, 1.2], \"10%\")\n",
    "# 元组访问\n",
    "print(tuple_temp[1:5])  # 访问元组中为1到4的元素 结果为：('open', 2019, 2020, [1.1, 1.2])\n",
    "# 统计元组元素个数\n",
    "print(len(tuple_temp))  # 结果为：6\n",
    "# 从元组中找出某个值第一个匹配项的索引位置\n",
    "print(tuple_temp.index(2019))  # 结果为：2\n",
    "print(tuple_temp[4][0])"
   ]
  },
  {
   "cell_type": "markdown",
   "metadata": {},
   "source": [
    "#### 创建字典变量"
   ]
  },
  {
   "cell_type": "code",
   "execution_count": 111,
   "metadata": {},
   "outputs": [
    {
     "name": "stdout",
     "output_type": "stream",
     "text": [
      "{'chapter1': 'content1', 'chapter2': 'content1', 'chapter3': 'content1'}\n"
     ]
    }
   ],
   "source": [
    "dict_temp = {'chapter1':'content1', 'chapter2':'content1'}\n",
    "\n",
    "# string不可变类型能作为key\n",
    "key = 'chapter3'\n",
    "dict_temp[key] = 'content1'\n",
    "print(dict_temp) # 字典内容变为：{'chapter1': 'content1', 'chapter2': 'content1', 'chapter3': 'content1'}"
   ]
  },
  {
   "cell_type": "code",
   "execution_count": 112,
   "metadata": {},
   "outputs": [
    {
     "name": "stdout",
     "output_type": "stream",
     "text": [
      "{'chapter1': 'content1', 'chapter2': 'content1', 'chapter3': 'content1', 1: 'test'}\n",
      "{'chapter1': 'content1', 'chapter2': 'content1', 'chapter3': 'content1', 1: 'test'}\n"
     ]
    }
   ],
   "source": [
    "key=1\n",
    "dict_temp[key] = 'test'\n",
    "print(dict_temp)\n",
    "# list可变类型不能作为key\n",
    "#key = [1, 2, 3]\n",
    "#dict_temp[key] = 'a list'\n",
    "print(dict_temp) # 报错 TypeError: unhashable type: 'list'"
   ]
  },
  {
   "cell_type": "code",
   "execution_count": 113,
   "metadata": {},
   "outputs": [
    {
     "name": "stdout",
     "output_type": "stream",
     "text": [
      "{'name': 'senior', 'page': 42}\n",
      "senior\n",
      "{'chapter1': {'name': 'basic', 'page': 31}, 'chapter2': {'name': 'senior', 'page': 42}, 'chapter3': {'name': 'middle', 'page': 50}}\n",
      "dict_keys(['chapter1', 'chapter2', 'chapter3'])\n",
      "dict_values([{'name': 'basic', 'page': 31}, {'name': 'senior', 'page': 42}, {'name': 'middle', 'page': 50}])\n",
      "dict_items([('chapter1', {'name': 'basic', 'page': 31}), ('chapter2', {'name': 'senior', 'page': 42}), ('chapter3', {'name': 'middle', 'page': 50})])\n"
     ]
    }
   ],
   "source": [
    "\n",
    "# 嵌套字典\n",
    "dict_temp = {'chapter1':{\n",
    "                'name':\"basic\",\n",
    "                'page':31},\n",
    "            'chapter2':{\n",
    "                'name':\"senior\",\n",
    "                'page':42}\n",
    "}\n",
    "\n",
    "# 访问字典\n",
    "print(dict_temp['chapter2']) #访问结果为：{'name': 'senior', 'page': 42}\n",
    "print(dict_temp['chapter2']['name']) #访问结果为：senior\n",
    "#print(dict_temp['chapter3']) #报错 KeyError: 'chapter3'\n",
    "\n",
    "# 添加字典\n",
    "dict_temp['chapter3']={'name':\"middle\", 'page':50}\n",
    "print(dict_temp)\n",
    "# 字典内容变为：\n",
    "# {'chapter1': {'name': 'basic', 'page': 31},\n",
    "# 'chapter2': {'name': 'senior', 'page': 42},\n",
    "# 'chapter3': {'name': 'middle', 'page': 50}}\n",
    "\n",
    "# 删除字典\n",
    "#del dict_temp['chapter2']['name'] #删除某个元素\n",
    "#dict_temp.clear()#{} #清空字典\n",
    "#del dict_temp  #删除字典\n",
    "\n",
    "# 字典操作函数和方法\n",
    "print(dict_temp.keys())\n",
    "#返回keys结果：dict_keys(['chapter1', 'chapter2', 'chapter3'])\n",
    "print(dict_temp.values())\n",
    "#返回values结果：dict_values([{'name': 'basic', 'page': 31}, {'name': 'senior', 'page': 42}, {'name': 'middle', 'page': 50}])\n",
    "print(dict_temp.items())\n",
    "#返回items结果：dict_items([('chapter1', {'name': 'basic', 'page': 31}), ('chapter2', {'name': 'senior', 'page': 42}), ('chapter3', {'name': 'middle', 'page': 50})])\n"
   ]
  },
  {
   "cell_type": "markdown",
   "metadata": {},
   "source": [
    "### 2.3.2动态类型的特性"
   ]
  },
  {
   "cell_type": "code",
   "execution_count": 114,
   "metadata": {},
   "outputs": [
    {
     "name": "stdout",
     "output_type": "stream",
     "text": [
      "5\n",
      "8929520\n",
      "0x8840f0\n",
      "6\n",
      "0x884110\n",
      "5\n",
      "0x8840f0\n"
     ]
    }
   ],
   "source": [
    "# int\n",
    "i = 5\n",
    "print(i)  # 结果为：5\n",
    "print(id(i))\n",
    "print(hex(id(i)))  # 结果为：0x8840f0\n",
    "# 重新创建值为6的int对象\n",
    "i += 1\n",
    "print(i)  # 结果为：6\n",
    "print(hex(id(i)))  # 结果为：0x884110\n",
    "# 指向数值5的内存地址\n",
    "j = 5\n",
    "print(j)  # 结果为：5\n",
    "print(hex(id(j)))  # 结果为：0x8840f0"
   ]
  },
  {
   "cell_type": "code",
   "execution_count": 115,
   "metadata": {},
   "outputs": [
    {
     "name": "stdout",
     "output_type": "stream",
     "text": [
      "1.5\n",
      "0xffff8824e690\n",
      "2.5\n",
      "0xffff8824e210\n",
      "1.5\n",
      "0xffff8824d2b0\n",
      "0xffff8824e210\n"
     ]
    }
   ],
   "source": [
    "# float不同\n",
    "i = 1.5\n",
    "print(i)  # 结果为：1.5\n",
    "print(hex(id(i)))  # 结果为：0xffff8c58b0f0\n",
    "\n",
    "i += 1\n",
    "print(i)  # 结果为：2.5\n",
    "print(hex(id(i)))  # 结果为：0xffff8824e3b0\n",
    "\n",
    "j = 1.5\n",
    "print(j)  # 结果为：1.5\n",
    "print(hex(id(j)))  # 结果为：0xffff8824ea50\n",
    "\n",
    "k = i\n",
    "print(hex(id(k)))  # 结果为：0xffff8824e3b0"
   ]
  },
  {
   "cell_type": "code",
   "execution_count": 116,
   "metadata": {},
   "outputs": [
    {
     "name": "stdout",
     "output_type": "stream",
     "text": [
      "[1, 2, 3]\n",
      "0xffff71bf79c0\n",
      "0x884070\n",
      "0x884070\n",
      "[1, 2, 3, 4]\n",
      "0xffff71bf79c0\n"
     ]
    }
   ],
   "source": [
    "# list\n",
    "i = [1, 2, 3]\n",
    "print(i)  # 结果为：[1, 2, 3]\n",
    "print(hex(id(i)))  # 结果为：0x10b91e7c8\n",
    "\n",
    "# 验证容器对象包含的是指向各个元素对象的引用\n",
    "print(hex(id(i[0])))  # 结果为：0x10a2f0440\n",
    "print(hex(id(1)))  # 结果为：0x10a2f0440\n",
    "\n",
    "# append后仍指向同一内存地址\n",
    "i.append(4)\n",
    "print(i)  # 结果为：[1, 2, 3, 4]\n",
    "print(hex(id(i)))  # 结果为：0x10b91e7c8"
   ]
  },
  {
   "cell_type": "code",
   "execution_count": 117,
   "metadata": {},
   "outputs": [
    {
     "name": "stdout",
     "output_type": "stream",
     "text": [
      "[1.5, 2.5, 3.5]\n",
      "0xffff71c0df40\n",
      "[1.5, 2.5, 3.5]\n",
      "0xffff8819e600\n",
      "[1.5, 2.5, 3.5]\n",
      "address of j 0xffff8819e600\n",
      "[1.5, 2.5, 3.5]\n",
      "address of k 0xffff8819e600\n"
     ]
    }
   ],
   "source": [
    "\n",
    "# j、k的值虽然相同，但指向的内存地址却不同\n",
    "j = [1.5, 2.5, 3.5]\n",
    "print(j)  # 结果为：[1.5, 2.5, 3.5]\n",
    "print(hex(id(j)))  # 结果为：0x10d81c548\n",
    "k = [1.5, 2.5, 3.5]\n",
    "print(k)  # 结果为：[1.5, 2.5, 3.5]\n",
    "print(hex(id(k)))  # 结果为：0x10d7dac48\n",
    "\n",
    "# 赋值语句让j、k指向同一个内存地址\n",
    "j = k\n",
    "print(j)  # 结果为：[1.5, 2.5, 3.5]\n",
    "print('address of j',hex(id(j)))  # 结果为：0x10d7dac48\n",
    "print(k)  # 结果为：[1.5, 2.5, 3.5]\n",
    "print('address of k',hex(id(k)))  # 结果为：0x10d7dac48\n",
    "\n",
    "\n",
    "\n"
   ]
  },
  {
   "cell_type": "code",
   "execution_count": 118,
   "metadata": {},
   "outputs": [
    {
     "name": "stdout",
     "output_type": "stream",
     "text": [
      "[1.5, 2.5, 3.5, 'kk']\n",
      "0xffff8819e600\n",
      "[1.5, 2.5, 3.5, 'kk']\n",
      "0xffff8819e600\n"
     ]
    }
   ],
   "source": [
    "# j、k任意一个list变量修改，会影响另外一个list变量的值\n",
    "k.append('kk')\n",
    "print(j)  # 结果为：[1.5, 2.5, 3.5, 4]\n",
    "print(hex(id(j)))  # 结果为：0x10d7dac48\n",
    "print(k)  # 结果为：[1.5, 2.5, 3.5, 4]\n",
    "print(hex(id(k)))  # 结果为：0x10d7dac48"
   ]
  },
  {
   "cell_type": "code",
   "execution_count": 119,
   "metadata": {},
   "outputs": [
    {
     "name": "stdout",
     "output_type": "stream",
     "text": [
      "aaaaaaaaaaaaaaaaaaaa\n",
      "0xffff71c33370 0xffff71c33370\n"
     ]
    }
   ],
   "source": [
    "# Python3 string\n",
    "s1 = 'a' * 20\n",
    "s2 = 'a' * 20\n",
    "print(s1)\n",
    "print(hex(id(s1)), hex(id(s2)))  # 结果为：0x10b7f6540 0x10b7f6540\n",
    "\n"
   ]
  },
  {
   "cell_type": "code",
   "execution_count": 120,
   "metadata": {},
   "outputs": [
    {
     "name": "stdout",
     "output_type": "stream",
     "text": [
      "0xffff881f3370 0xffff881f3370\n"
     ]
    }
   ],
   "source": [
    "s1 = 'a' * 21\n",
    "s2 = 'a' * 21\n",
    "print(hex(id(s1)), hex(id(s2)))  # 结果为：0x10b921348 0x10b921348"
   ]
  },
  {
   "cell_type": "markdown",
   "metadata": {},
   "source": [
    "### 2.3.3 内存管理与回收"
   ]
  },
  {
   "cell_type": "code",
   "execution_count": 121,
   "metadata": {},
   "outputs": [
    {
     "name": "stdout",
     "output_type": "stream",
     "text": [
      "3\n",
      "3\n",
      "1000002756\n",
      "3\n"
     ]
    }
   ],
   "source": [
    "import sys\n",
    "print(sys.getrefcount(1921)) # 3\n",
    "getre_val_1 = 19\n",
    "print(sys.getrefcount(1921)) # 4\n",
    "getre_val_2 = getre_val_1\n",
    "print(sys.getrefcount(19)) # 5\n",
    "getre_val_3 = [2022, 1922, 1923]\n",
    "print(sys.getrefcount(1921)) # 6"
   ]
  },
  {
   "cell_type": "code",
   "execution_count": 122,
   "metadata": {},
   "outputs": [
    {
     "name": "stdout",
     "output_type": "stream",
     "text": [
      "3\n",
      "3\n",
      "3\n"
     ]
    }
   ],
   "source": [
    "\n",
    "getre_val_3[0] = 1924\n",
    "print(sys.getrefcount(1921)) # 5\n",
    "del getre_val_1 # 执行del getre_val_1语句后从当前名称空间中删除getre_val_1\n",
    "print(sys.getrefcount(1921))  # 4\n",
    "getre_val_2 = 1924\n",
    "print(sys.getrefcount(1921)) # 3"
   ]
  },
  {
   "cell_type": "markdown",
   "metadata": {},
   "source": [
    "### 2.4 如何正确地创建函数"
   ]
  },
  {
   "cell_type": "markdown",
   "metadata": {},
   "source": [
    "#### 2.4.1 def关键字定义函数"
   ]
  },
  {
   "cell_type": "markdown",
   "metadata": {},
   "source": [
    "在 Python 中，函数参数分为以下几种类型：  \n",
    "\n",
    "1.位置参数 (Positional Arguments)  \n",
    "2.关键字参数 (Keyword Arguments)  \n",
    "3.默认参数 (Default Arguments)  \n",
    "4.可变位置参数 (Variable Positional Arguments)  \n",
    "5.可变关键字参数 (Variable Keyword Arguments)  \n",
    "6.仅限关键字参数 (Keyword-Only Arguments)    \n",
    "7.仅限位置参数 (Positional-Only Arguments)  "
   ]
  },
  {
   "cell_type": "code",
   "execution_count": 123,
   "metadata": {},
   "outputs": [
    {
     "name": "stdout",
     "output_type": "stream",
     "text": [
      "this stock is：新希望\n"
     ]
    }
   ],
   "source": [
    "def stock_info(name):\n",
    "    \"\"\"内部代码块\"\"\"\n",
    "    print(\"this stock is：\"+name)\n",
    "\n",
    "stock_info(u\"新希望\")\n",
    "# 输出结果：this stock is：新希望"
   ]
  },
  {
   "cell_type": "code",
   "execution_count": 124,
   "metadata": {},
   "outputs": [
    {
     "name": "stdout",
     "output_type": "stream",
     "text": [
      "新希望 11.5 11.8\n"
     ]
    }
   ],
   "source": [
    "def stock_info_1(name, close, open):\n",
    "    print(name, close, open)\n",
    "\n",
    "# 位置实参\n",
    "stock_info_1(u\"新希望\", 11.5, 11.8)\n",
    "# 输出结果：新希望 11.5 11.8"
   ]
  },
  {
   "cell_type": "code",
   "execution_count": 125,
   "metadata": {},
   "outputs": [
    {
     "name": "stdout",
     "output_type": "stream",
     "text": [
      "新希望 11.5 11.8\n",
      "新希望 11.5 11.8\n"
     ]
    }
   ],
   "source": [
    "# 关键字实参\n",
    "stock_info_1(name=u\"新希望\", open=11.8, close=11.5)\n",
    "\n",
    "# 位置实参和关键字实参混合使用\n",
    "stock_info_1(u\"新希望\", open=11.8, close=11.5)"
   ]
  },
  {
   "cell_type": "code",
   "execution_count": 126,
   "metadata": {},
   "outputs": [
    {
     "name": "stdout",
     "output_type": "stream",
     "text": [
      "新希望 11.8 12\n",
      "新希望 11.8 11.5\n"
     ]
    }
   ],
   "source": [
    "def stock_info_2(name, open, close=11.5):\n",
    "    print(name, open, close)\n",
    "\n",
    "# 调用时更改默认值\n",
    "stock_info_2(u\"新希望\", 11.8, 12)\n",
    "# 输出结果：新希望 11.8 12\n",
    "\n",
    "# 指定形参的默认值\n",
    "stock_info_2(u\"新希望\", 11.8)\n",
    "# 输出结果：新希望 11.8 11.5"
   ]
  },
  {
   "cell_type": "code",
   "execution_count": 127,
   "metadata": {},
   "outputs": [
    {
     "name": "stdout",
     "output_type": "stream",
     "text": [
      "name= 新希望\n",
      "open= 11.8\n",
      "close= 12\n",
      "args= (14, 16, 17)\n",
      "kwargs= {}\n",
      "args 0-->14\n",
      "args 1-->16\n",
      "args 2-->17\n"
     ]
    }
   ],
   "source": [
    "def stock_info_3(name, open, close=11.5, *args, **kwargs):\n",
    "\n",
    "    print(\"name=\", name)\n",
    "    print(\"open=\", open)\n",
    "    print(\"close=\", close)\n",
    "\n",
    "    print(\"args=\", args)\n",
    "    print(\"kwargs=\", kwargs)\n",
    "\n",
    "    for i, element in enumerate(args):\n",
    "        print(\"args %d-->%s\" % (i, str(element)))\n",
    "\n",
    "    for key in kwargs:\n",
    "        print(\"kwargs %s-->%s\" % (key, kwargs[key]))\n",
    "\n",
    "stock_info_3(u\"新希望\", 11.8, 12, 14, 16, 17)"
   ]
  },
  {
   "cell_type": "code",
   "execution_count": 128,
   "metadata": {},
   "outputs": [
    {
     "name": "stdout",
     "output_type": "stream",
     "text": [
      "name= 新希望\n",
      "open= 11.8\n",
      "close= 14\n",
      "args= (16, 17)\n",
      "kwargs= {'ave': 12, 'high': 15, 'low': 2}\n",
      "args 0-->16\n",
      "args 1-->17\n",
      "kwargs ave-->12\n",
      "kwargs high-->15\n",
      "kwargs low-->2\n"
     ]
    }
   ],
   "source": [
    "aTuple = (16, 17)  # or [16, 17]\n",
    "aDict = {'ave': 12, 'high': 15, 'low': 2}\n",
    "\n",
    "stock_info_3(u\"新希望\", 11.8, 14, *aTuple, **aDict)"
   ]
  },
  {
   "cell_type": "code",
   "execution_count": 129,
   "metadata": {},
   "outputs": [
    {
     "ename": "SyntaxError",
     "evalue": "invalid character '，' (U+FF0C) (3366443746.py, line 2)",
     "output_type": "error",
     "traceback": [
      "\u001b[0;36m  Cell \u001b[0;32mIn[129], line 2\u001b[0;36m\u001b[0m\n\u001b[0;31m    使用 *args 语法，函数可以接受任意数量的位置参数。\u001b[0m\n\u001b[0m               ^\u001b[0m\n\u001b[0;31mSyntaxError\u001b[0m\u001b[0;31m:\u001b[0m invalid character '，' (U+FF0C)\n"
     ]
    }
   ],
   "source": [
    "4. 可变位置参数 (Variable Positional Arguments)\n",
    "使用 *args 语法，函数可以接受任意数量的位置参数。\n",
    "\n",
    "python\n",
    "复制\n",
    "def greet(*names):\n",
    "    for name in names:\n",
    "        print(f\"Hello, {name}!\")\n",
    "\n",
    "greet(\"Alice\", \"Bob\", \"Charlie\")"
   ]
  },
  {
   "cell_type": "code",
   "execution_count": null,
   "metadata": {},
   "outputs": [],
   "source": [
    "5. 可变关键字参数 (Variable Keyword Arguments)\n",
    "使用 **kwargs 语法，函数可以接受任意数量的关键字参数。\n",
    "\n",
    "python\n",
    "复制\n",
    "def greet(**kwargs):\n",
    "    for key, value in kwargs.items():\n",
    "        print(f\"{key}: {value}\")\n",
    "\n",
    "greet(name=\"Alice\", age=30, city=\"New York\")"
   ]
  },
  {
   "cell_type": "code",
   "execution_count": null,
   "metadata": {},
   "outputs": [],
   "source": [
    "6. 仅限关键字参数 (Keyword-Only Arguments)\n",
    "仅限关键字参数必须通过关键字传递，定义时在参数列表中使用 * 分隔。\n",
    "\n"
   ]
  },
  {
   "cell_type": "code",
   "execution_count": null,
   "metadata": {},
   "outputs": [
    {
     "name": "stdout",
     "output_type": "stream",
     "text": [
      "Hello, Alice! You are 30 years old and live in New York.\n"
     ]
    }
   ],
   "source": [
    "def greet(name, *, age, city):\n",
    "    print(f\"Hello, {name}! You are {age} years old and live in {city}.\")\n",
    "\n",
    "greet(\"Alice\", age=30, city=\"New York\")"
   ]
  },
  {
   "cell_type": "code",
   "execution_count": null,
   "metadata": {},
   "outputs": [],
   "source": [
    "7. 仅限位置参数 (Positional-Only Arguments)\n",
    "仅限位置参数必须通过位置传递，定义时在参数列表中使用 / 分隔。此特性在 Python 3.8 中引入。\n",
    "\n",
    "python\n",
    "复制\n",
    "def greet(name, /, age, city):\n",
    "    print(f\"Hello, {name}! You are {age} years old and live in {city}.\")\n",
    "\n",
    "greet(\"Alice\", 30, \"New York\")"
   ]
  },
  {
   "cell_type": "markdown",
   "metadata": {},
   "source": [
    "综合示例:\n",
    "一个包含以上多种参数类型的综合示例："
   ]
  },
  {
   "cell_type": "code",
   "execution_count": null,
   "metadata": {},
   "outputs": [
    {
     "name": "stdout",
     "output_type": "stream",
     "text": [
      "a: 1, b: 2, c: 3, d: 4, e: 5, f: 6\n",
      "g: 7\n",
      "h: 8\n"
     ]
    }
   ],
   "source": [
    "def complex_function(a, b, /, c, d=4, *, e, f=6, **kwargs):\n",
    "    print(f\"a: {a}, b: {b}, c: {c}, d: {d}, e: {e}, f: {f}\")\n",
    "    for key, value in kwargs.items():\n",
    "        print(f\"{key}: {value}\")\n",
    "\n",
    "# 调用示例\n",
    "complex_function(1, 2, 3, e=5, g=7, h=8)"
   ]
  },
  {
   "cell_type": "code",
   "execution_count": null,
   "metadata": {},
   "outputs": [
    {
     "name": "stdout",
     "output_type": "stream",
     "text": [
      "**********1.2 '元类'和'类'及'object'和'type'的关系**************\n",
      "(<class 'object'>,)\n"
     ]
    }
   ],
   "source": [
    "#1.面向对象的机制\n",
    "#1.2 '元类'和'类'及'object'和'type'的关系\n",
    "print(u\"**********1.2 '元类'和'类'及'object'和'type'的关系**************\")\n",
    "#__bases__查看list的父类\n",
    "print(list.__bases__)#结果：(<type 'object'>,)"
   ]
  },
  {
   "cell_type": "code",
   "execution_count": null,
   "metadata": {},
   "outputs": [
    {
     "name": "stdout",
     "output_type": "stream",
     "text": [
      "<class 'list'>\n"
     ]
    }
   ],
   "source": [
    "mylist = [1,2,3]\n",
    "#__class__查看mylist的类\n",
    "print(mylist.__class__) #结果： <type 'list'>"
   ]
  },
  {
   "cell_type": "code",
   "execution_count": 133,
   "metadata": {},
   "outputs": [
    {
     "name": "stdout",
     "output_type": "stream",
     "text": [
      "--Return--\n",
      "None\n",
      "> \u001b[0;32m/tmp/ipykernel_1541739/3207573541.py\u001b[0m(2)\u001b[0;36m<module>\u001b[0;34m()\u001b[0m\n",
      "\u001b[0;32m      1 \u001b[0;31m\u001b[0;32mimport\u001b[0m \u001b[0mipdb\u001b[0m\u001b[0;34m\u001b[0m\u001b[0;34m\u001b[0m\u001b[0m\n",
      "\u001b[0m\u001b[0;32m----> 2 \u001b[0;31m\u001b[0mipdb\u001b[0m\u001b[0;34m.\u001b[0m\u001b[0mset_trace\u001b[0m\u001b[0;34m(\u001b[0m\u001b[0;34m)\u001b[0m\u001b[0;34m\u001b[0m\u001b[0;34m\u001b[0m\u001b[0m\n",
      "\u001b[0m\u001b[0;32m      3 \u001b[0;31m\u001b[0mprint\u001b[0m\u001b[0;34m(\u001b[0m\u001b[0mmylist\u001b[0m\u001b[0;34m.\u001b[0m\u001b[0m__bases__\u001b[0m\u001b[0;34m)\u001b[0m\u001b[0;34m\u001b[0m\u001b[0;34m\u001b[0m\u001b[0m\n",
      "\u001b[0m\n",
      "--KeyboardInterrupt--\n",
      "\n",
      "KeyboardInterrupt: Interrupted by user\n"
     ]
    },
    {
     "ename": "AttributeError",
     "evalue": "'list' object has no attribute '__bases__'",
     "output_type": "error",
     "traceback": [
      "\u001b[0;31m---------------------------------------------------------------------------\u001b[0m",
      "\u001b[0;31mAttributeError\u001b[0m                            Traceback (most recent call last)",
      "Cell \u001b[0;32mIn[133], line 3\u001b[0m\n\u001b[1;32m      1\u001b[0m \u001b[38;5;28;01mimport\u001b[39;00m \u001b[38;5;21;01mipdb\u001b[39;00m\n\u001b[1;32m      2\u001b[0m ipdb\u001b[38;5;241m.\u001b[39mset_trace()\n\u001b[0;32m----> 3\u001b[0m \u001b[38;5;28mprint\u001b[39m(mylist\u001b[38;5;241m.\u001b[39m\u001b[38;5;18m__bases__\u001b[39m)\n",
      "\u001b[0;31mAttributeError\u001b[0m: 'list' object has no attribute '__bases__'"
     ]
    }
   ],
   "source": [
    "\"\"\" import ipdb\n",
    "ipdb.set_trace()\n",
    "print(mylist.__bases__) \n",
    " \"\"\""
   ]
  },
  {
   "cell_type": "code",
   "execution_count": null,
   "metadata": {},
   "outputs": [
    {
     "name": "stdout",
     "output_type": "stream",
     "text": [
      "> \u001b[0;32m/data/software/anaconda3/lib/python3.11/site-packages/ipykernel/kernelbase.py\u001b[0m(1305)\u001b[0;36m_input_request\u001b[0;34m()\u001b[0m\n",
      "\u001b[0;32m   1303 \u001b[0;31m                \u001b[0;31m# re-raise KeyboardInterrupt, to truncate traceback\u001b[0m\u001b[0;34m\u001b[0m\u001b[0;34m\u001b[0m\u001b[0m\n",
      "\u001b[0m\u001b[0;32m   1304 \u001b[0;31m                \u001b[0mmsg\u001b[0m \u001b[0;34m=\u001b[0m \u001b[0;34m\"Interrupted by user\"\u001b[0m\u001b[0;34m\u001b[0m\u001b[0;34m\u001b[0m\u001b[0m\n",
      "\u001b[0m\u001b[0;32m-> 1305 \u001b[0;31m                \u001b[0;32mraise\u001b[0m \u001b[0mKeyboardInterrupt\u001b[0m\u001b[0;34m(\u001b[0m\u001b[0mmsg\u001b[0m\u001b[0;34m)\u001b[0m \u001b[0;32mfrom\u001b[0m \u001b[0;32mNone\u001b[0m\u001b[0;34m\u001b[0m\u001b[0;34m\u001b[0m\u001b[0m\n",
      "\u001b[0m\u001b[0;32m   1306 \u001b[0;31m            \u001b[0;32mexcept\u001b[0m \u001b[0mException\u001b[0m\u001b[0;34m:\u001b[0m\u001b[0;34m\u001b[0m\u001b[0;34m\u001b[0m\u001b[0m\n",
      "\u001b[0m\u001b[0;32m   1307 \u001b[0;31m                \u001b[0mself\u001b[0m\u001b[0;34m.\u001b[0m\u001b[0mlog\u001b[0m\u001b[0;34m.\u001b[0m\u001b[0mwarning\u001b[0m\u001b[0;34m(\u001b[0m\u001b[0;34m\"Invalid Message:\"\u001b[0m\u001b[0;34m,\u001b[0m \u001b[0mexc_info\u001b[0m\u001b[0;34m=\u001b[0m\u001b[0;32mTrue\u001b[0m\u001b[0;34m)\u001b[0m\u001b[0;34m\u001b[0m\u001b[0;34m\u001b[0m\u001b[0m\n",
      "\u001b[0m\n",
      "--KeyboardInterrupt--\n",
      "\n",
      "KeyboardInterrupt: Interrupted by user\n",
      "'list' object has no attribute '__bases__'\n",
      "<class 'type'>\n"
     ]
    }
   ],
   "source": [
    "#__bases__查看mylist的父类\n",
    "try:\n",
    "    print(mylist.__bases__) #结果：AttributeError: 'list' object has no attribute '__bases__'\n",
    "except Exception as e:\n",
    "    %debug\n",
    "    print(e)\n",
    "\n",
    "#__class__查看list的类\n",
    "print(list.__class__) #结果：<type 'type'>"
   ]
  },
  {
   "cell_type": "code",
   "execution_count": 134,
   "metadata": {},
   "outputs": [
    {
     "name": "stdout",
     "output_type": "stream",
     "text": [
      "<class 'type'>\n",
      "<class 'type'>\n",
      "<class 'type'>\n",
      "(<class 'object'>,)\n",
      "()\n"
     ]
    }
   ],
   "source": [
    "\n",
    "#object是type的实例\n",
    "print(object.__class__)  #结果： <type 'type'>\n",
    "print(type(object)) #type()方法可获取对象的类型 结果：<type 'type'>\n",
    "#type本身也是自己的实例\n",
    "print(type.__class__)#结果：<type 'type'>\n",
    "\n",
    "#object是type的父类\n",
    "print(type.__bases__)#结果：(<type 'object'>,)\n",
    "#object自身并没有父类\n",
    "print(object.__bases__)  #结果：()"
   ]
  },
  {
   "cell_type": "code",
   "execution_count": 136,
   "metadata": {},
   "outputs": [
    {
     "name": "stdout",
     "output_type": "stream",
     "text": [
      "<class 'type'>\n",
      "(<class 'object'>,)\n",
      "<class 'type'>\n",
      "<class 'type'>\n"
     ]
    }
   ],
   "source": [
    "#Python3.7  class C ：<type 'type'>的实例；<type 'object'>的子类\n",
    "class C():pass\n",
    "print(C.__class__)  #结果： <type 'type'>\n",
    "print(C.__bases__)#结果：(<type 'object'>,)\n",
    "\n",
    "#Python2.7\n",
    "#class C类型为老式的classobj\n",
    "class C():pass\n",
    "print(type(C)) #结果： <type 'classobj'>\n",
    "\n",
    "#class C显式继承'object'，成为新式类\n",
    "class C(object):pass\n",
    "print(type(C)) #结果： <type 'type'>"
   ]
  },
  {
   "cell_type": "code",
   "execution_count": 4,
   "metadata": {},
   "outputs": [
    {
     "name": "stdout",
     "output_type": "stream",
     "text": [
      "(<class 'object'>,)\n",
      "<function Human.__init__ at 0xffff82ec8fe0>\n"
     ]
    }
   ],
   "source": [
    "\n",
    "# 定义类Human Class\n",
    "class Human(object):\n",
    "\n",
    "    century = 21\n",
    "\n",
    "    def __init__(self, name, age):\n",
    "        self.name = name\n",
    "        self.age = age\n",
    "        print(\"init work\")\n",
    "\n",
    "    def speak(self, language):\n",
    "        print('%s has speak %s ability'% (self.name, language))\n",
    "\n",
    "    def write(self, word):\n",
    "        print('%s has write %s ability'% (self.name, word))\n",
    "\n",
    "    def walk(self):\n",
    "        print('%s has walk ability'% self)\n",
    "\n",
    "print(Human.__bases__) # __bases__属性列出其基类 (<class 'object'>,)\n",
    "print(Human.__init__)"
   ]
  },
  {
   "cell_type": "code",
   "execution_count": 9,
   "metadata": {},
   "outputs": [
    {
     "name": "stdout",
     "output_type": "stream",
     "text": [
      "***********# 类与实例的联系及区别 *************\n",
      "init work\n",
      "Allen-Cart 16\n",
      "<bound method Human.speak of <__main__.Human object at 0xffff8206df50>> \n",
      " <bound method Human.walk of <__main__.Human object at 0xffff8206df50>>\n",
      "<bound method Human.write of <__main__.Human object at 0xffff8206df50>>\n",
      "<bound method Human.__init__ of <__main__.Human object at 0xffff8206df50>>\n",
      "8929936\n",
      "humen.century 8930032\n"
     ]
    }
   ],
   "source": [
    "print(u\"***********# 类与实例的联系及区别 *************\")\n",
    "\n",
    "Allen = Human('Allen-Cart', 16) # 输出结果：init work\n",
    "print(Allen.name, Allen.age) # 输出结果：Allen-Cart 16\n",
    "\n",
    "print(Allen.speak,\"\\n\",Allen.walk)\n",
    "print(Allen.write)\n",
    "print(Allen.__init__)\n",
    "Allen.century=18\n",
    "print(id(Allen.century))\n",
    "print(\"humen.century\",id(Human.century))\n",
    "# <bound method Human.speak of <__main__.Human object at 0x10ab50160>>\n",
    "# <bound method Human.write of <__main__.Human object at 0x10ab50160>>\n",
    "# <bound method Human.walk of <__main__.Human object at 0x10ab50160>>"
   ]
  },
  {
   "cell_type": "code",
   "execution_count": 1,
   "metadata": {},
   "outputs": [
    {
     "ename": "NameError",
     "evalue": "name 'Human' is not defined",
     "output_type": "error",
     "traceback": [
      "\u001b[0;31m---------------------------------------------------------------------------\u001b[0m",
      "\u001b[0;31mNameError\u001b[0m                                 Traceback (most recent call last)",
      "Cell \u001b[0;32mIn[1], line 3\u001b[0m\n\u001b[0;32m----> 3\u001b[0m \u001b[38;5;28mprint\u001b[39m(Human\u001b[38;5;241m.\u001b[39mspeak,Human\u001b[38;5;241m.\u001b[39mwrite,Human\u001b[38;5;241m.\u001b[39mwalk)\n\u001b[1;32m      4\u001b[0m \u001b[38;5;66;03m# <function Human.speak at 0x110ba5378>\u001b[39;00m\n\u001b[1;32m      5\u001b[0m \u001b[38;5;66;03m# <function Human.write at 0x110ba5400>\u001b[39;00m\n\u001b[1;32m      6\u001b[0m \u001b[38;5;66;03m# <function Human.walk at 0x110ba5488>\u001b[39;00m\n\u001b[1;32m      8\u001b[0m Allen\u001b[38;5;241m.\u001b[39mspeak(\u001b[38;5;124m\"\u001b[39m\u001b[38;5;124mChinese\u001b[39m\u001b[38;5;124m\"\u001b[39m) \u001b[38;5;66;03m# Allen-Cart has speak Chinese ability\u001b[39;00m\n",
      "\u001b[0;31mNameError\u001b[0m: name 'Human' is not defined"
     ]
    }
   ],
   "source": [
    "\n",
    "\n",
    "print(Human.speak,Human.write,Human.walk)\n",
    "# <function Human.speak at 0x110ba5378>\n",
    "# <function Human.write at 0x110ba5400>\n",
    "# <function Human.walk at 0x110ba5488>\n",
    "\n",
    "Allen.speak(\"Chinese\") # Allen-Cart has speak Chinese ability\n",
    "Allen.write(\"Chinese\") # Allen-Cart has write Chinese ability\n",
    "Allen.walk() # <__main__.Human object at 0x10ab50160> has walk ability.\n",
    "\n",
    "Human.walk('James') # James has walk ability"
   ]
  },
  {
   "cell_type": "code",
   "execution_count": 26,
   "metadata": {},
   "outputs": [
    {
     "name": "stdout",
     "output_type": "stream",
     "text": [
      "True\n",
      "True\n"
     ]
    }
   ],
   "source": [
    "from types import FunctionType, MethodType\n",
    "\n",
    "# isinstance() 函数判断一个对象是否是一个已知的类型\n",
    "print(isinstance(Human.walk,FunctionType)) # True\n",
    "print(isinstance(Allen.walk,MethodType)) # True"
   ]
  },
  {
   "cell_type": "code",
   "execution_count": 13,
   "metadata": {},
   "outputs": [
    {
     "name": "stdout",
     "output_type": "stream",
     "text": [
      "{'__module__': '__main__', 'century': 22, '__init__': <function Human.__init__ at 0xffff82ec8fe0>, 'speak': <function Human.speak at 0xffff82ec9080>, 'write': <function Human.write at 0xffff82ec9120>, 'walk': <function Human.walk at 0xffff82ec91c0>, '__dict__': <attribute '__dict__' of 'Human' objects>, '__weakref__': <attribute '__weakref__' of 'Human' objects>, '__doc__': None}\n",
      "{'name': 'Allen-Cart', 'age': 16}\n"
     ]
    },
    {
     "data": {
      "text/plain": [
       "\"\\n{'name': 'Allen-Cart', 'age': 16}\\n\""
      ]
     },
     "execution_count": 13,
     "metadata": {},
     "output_type": "execute_result"
    }
   ],
   "source": [
    "print(Human.__dict__)\n",
    "\"\"\"\n",
    "{'__module__': '__main__', \n",
    "'century': 21, \n",
    "'__init__': <function Human.__init__ at 0x106b4e2f0>, \n",
    "'speak': <function Human.speak at 0x106b4e378>, \n",
    "'write': <function Human.write at 0x106b4e400>, \n",
    "'walk': <function Human.walk at 0x106b4e488>, \n",
    "'__dict__': <attribute '__dict__' of 'Human' objects>, \n",
    "'__weakref__': <attribute '__weakref__' of 'Human' objects>, '__doc__': None}\n",
    "\"\"\"\n",
    "\n",
    "print(Allen.__dict__)\n",
    "\"\"\"\n",
    "{'name': 'Allen-Cart', 'age': 16}\n",
    "\"\"\""
   ]
  },
  {
   "cell_type": "code",
   "execution_count": 14,
   "metadata": {},
   "outputs": [
    {
     "name": "stdout",
     "output_type": "stream",
     "text": [
      "22\n",
      "22\n",
      "23\n",
      "23\n",
      "24\n",
      "23\n",
      "{'name': 'Allen-Cart', 'age': 16, 'century': 24}\n"
     ]
    },
    {
     "data": {
      "text/plain": [
       "\"\\n{'name': 'Allen-Cart', 'age': 16, 'century': 23}\\n\""
      ]
     },
     "execution_count": 14,
     "metadata": {},
     "output_type": "execute_result"
    }
   ],
   "source": [
    "print(Human.century)  # 通过类访问 结果为：21\n",
    "print(Allen.century)  # 通过实例访问 结果为：21\n",
    "\n",
    "Human.century += 1  # 通过类更新\n",
    "print(Human.century) # 结果为：22\n",
    "print(Allen.century)  # 实例访问 值已被改变 结果为：22\n",
    "\n",
    "Allen.century += 1  # 通过实例更新\n",
    "print(Allen.century)  # 实例访问 值已被改变 结果为：23\n",
    "print(Human.century)  # 类访问 值未改变 结果为：22\n",
    "\n",
    "print(Allen.__dict__)\n",
    "\"\"\"\n",
    "{'name': 'Allen-Cart', 'age': 16, 'century': 23}\n",
    "\"\"\""
   ]
  },
  {
   "cell_type": "code",
   "execution_count": 19,
   "metadata": {},
   "outputs": [
    {
     "name": "stdout",
     "output_type": "stream",
     "text": [
      "8932560\n",
      "23\n",
      "8930096\n",
      "8930096\n"
     ]
    }
   ],
   "source": [
    "Allen.century=100\n",
    "print(id(Allen.century))\n",
    "del Allen.century  # 删除实例属性\n",
    "print(Allen.century)  # 实例访问 访问到类属性 结果为：22\n",
    "print(id(Allen.century))\n",
    "print(id(Human.century))"
   ]
  },
  {
   "cell_type": "code",
   "execution_count": 22,
   "metadata": {},
   "outputs": [
    {
     "name": "stdout",
     "output_type": "stream",
     "text": [
      "init work\n",
      "{'A': 21}\n",
      "{'A': 21}\n",
      "{'A': 23, 'B': '32'}\n",
      "{'A': 23, 'B': '32'}\n"
     ]
    }
   ],
   "source": [
    "# 定义类Human_A Class\n",
    "class Human_A(object):\n",
    "\n",
    "    century = {\"A\":21}\n",
    "\n",
    "    def __init__(self, name, age):\n",
    "        self.name = name\n",
    "        self.age = age\n",
    "        print(\"init work\")\n",
    "\n",
    "    def speak(self, language):\n",
    "        print('%s has speak %s ability'% (self.name, language))\n",
    "\n",
    "    def write(self, word):\n",
    "        print('%s has write %s ability'% (self.name, word))\n",
    "\n",
    "    def walk(self):\n",
    "        print('%s has walk ability'% self)\n",
    "\n",
    "Jahn = Human_A('Jahn-Cart', 22) # 输出结果：init work\n",
    "\n",
    "# 可变变量的类属性 访问\n",
    "print(Human_A.century)  # 通过类访问 结果为：{'A': 21}\n",
    "print(Jahn.century)  # 通过实例访问 结果为：{'A': 21}\n",
    "\n",
    "Jahn.century['B'] = \"32\" # 通过实例更新\n",
    "Jahn.century['A'] = 23\n",
    "\n",
    "print(Human_A.century) # 类访问 值已被改变 结果为：{'A': 21, 'B': '32'}\n",
    "print(Jahn.century) # 实例访问 值已被改变 结果为：{'A': 21, 'B': '32'}"
   ]
  },
  {
   "cell_type": "code",
   "execution_count": 23,
   "metadata": {},
   "outputs": [
    {
     "name": "stdout",
     "output_type": "stream",
     "text": [
      "Allen has speak Chinese ability\n",
      "Allen has walk ability\n"
     ]
    }
   ],
   "source": [
    "# 定义类Human_B Class\n",
    "class Human_B(object):\n",
    "\n",
    "    century = 21\n",
    "    name = \"Allen\"\n",
    "\n",
    "    def __init__(self, name, age):\n",
    "        self.name = name\n",
    "        self.age = age\n",
    "        print(\"init work\")\n",
    "\n",
    "    @staticmethod\n",
    "    def speak(language):\n",
    "        print('%s has speak %s ability'% (Human_B.name, language))\n",
    "\n",
    "    def write(self, word):\n",
    "        print('%s has write %s ability'% (self.name, word))\n",
    "\n",
    "    @classmethod\n",
    "    def walk(cls):\n",
    "        print('%s has walk ability'% cls.name)\n",
    "\n",
    "Human_B.speak(\"Chinese\")  # 结果为：Allen has speak Chinese ability\n",
    "Human_B.walk()  # 结果为：Allen has walk ability"
   ]
  },
  {
   "cell_type": "code",
   "execution_count": 24,
   "metadata": {},
   "outputs": [
    {
     "name": "stdout",
     "output_type": "stream",
     "text": [
      "(<class '__main__.Human'>,)\n",
      "init work\n",
      "init programmer\n",
      "23 Michael-wang 16 JAVA computer\n",
      "Michael-wang has speak Chinese ability\n",
      "Michael-wang has write Chinese ability\n",
      "Michael-wang has develop ability\n",
      "Michael-wang has speech ability\n"
     ]
    }
   ],
   "source": [
    "class Programmer(Human):\n",
    "\n",
    "    def __init__(self, name, age, language, tool):\n",
    "        Human.__init__(self, name, age)\n",
    "        self.language = language\n",
    "        self.tool = tool\n",
    "        print(\"init programmer\")\n",
    "\n",
    "    def develop(self):\n",
    "        print('%s has develop ability' % self.name)\n",
    "\n",
    "    def speech(self):\n",
    "        print('%s has speech ability' % self.name)\n",
    "\n",
    "print(Programmer.__bases__)  # __bases__属性列出其基类 (<class '__main__.Human'>,)\n",
    "\n",
    "Michael = Programmer('Michael-wang', 16, \"JAVA\", \"computer\")\n",
    "#  结果为：init work  init programmer\n",
    "\n",
    "print(Michael.century, Michael.name, Michael.age, Michael.language, Michael.tool)  # 结果为：22 Michael-wang 16 JAVA computer\n",
    "Michael.speak(\"Chinese\") # 结果为：Michael-wang has speak Chinese ability\n",
    "Michael.write(\"Chinese\") # 结果为：Michael-wang has write Chinese ability\n",
    "Michael.develop() # 结果为：Michael-wang has develop ability\n",
    "Michael.speech() # 结果为：Michael-wang has speech ability\n"
   ]
  },
  {
   "cell_type": "code",
   "execution_count": 25,
   "metadata": {},
   "outputs": [
    {
     "name": "stdout",
     "output_type": "stream",
     "text": [
      "init work\n",
      "init programmer\n",
      "X10 dell\n",
      "X10 has been opened\n",
      "X10 has been closed\n"
     ]
    }
   ],
   "source": [
    "\n",
    "# 创建Computer类\n",
    "class Computer:\n",
    "    def __init__(self, model, brand):\n",
    "        self.model=model\n",
    "        self.brand=brand\n",
    "\n",
    "    def open_sys(self):\n",
    "        print('%s has been opened' % self.model)\n",
    "\n",
    "    def close_sys(self):\n",
    "        print('%s has been closed' % self.model)\n",
    "\n",
    "# Programmer增加Computer属性\n",
    "Jack = Programmer('Jack', 21, 'China',Computer('X10','dell'))\n",
    "print(Jack.tool.model,Jack.tool.brand) # 结果为：X10 dell\n",
    "Jack.tool.open_sys() # 调用Computer的方法 结果为：X10 has been opened\n",
    "Jack.tool.close_sys() # 调用Computer的方法 结果为：X10 has been closed"
   ]
  },
  {
   "cell_type": "code",
   "execution_count": null,
   "metadata": {},
   "outputs": [],
   "source": []
  }
 ],
 "metadata": {
  "kernelspec": {
   "display_name": "base",
   "language": "python",
   "name": "python3"
  },
  "language_info": {
   "codemirror_mode": {
    "name": "ipython",
    "version": 3
   },
   "file_extension": ".py",
   "mimetype": "text/x-python",
   "name": "python",
   "nbconvert_exporter": "python",
   "pygments_lexer": "ipython3",
   "version": "3.11.7"
  }
 },
 "nbformat": 4,
 "nbformat_minor": 2
}
